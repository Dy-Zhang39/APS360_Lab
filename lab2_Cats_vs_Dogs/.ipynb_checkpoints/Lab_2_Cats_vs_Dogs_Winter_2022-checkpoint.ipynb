{
 "cells": [
  {
   "cell_type": "markdown",
   "metadata": {
    "id": "X6WDvajSqIDs"
   },
   "source": [
    "# Lab 2: Cats vs Dogs\n",
    "\n",
    "**Deadline**: Feb 07, 5:00pm\n",
    "\n",
    "**Late Penalty**: There is a penalty-free grace period of one hour past the deadline. Any work that is submitted between 1 hour and 24 hours past the deadline will receive a 20% grade deduction. No other late work is accepted. Quercus submission time will be used, not your local computer time. You can submit your labs as many times as you want before the deadline, so please submit often and early.\n",
    "\n",
    "**Marking TA**: Saba Ale Ebrahim -- saba.aleebrahim@mail.utoronto.ca\n",
    "\n",
    "This lab is partially based on an assignment developed by Prof. Jonathan Rose and Harris Chan.\n",
    "\n",
    "In this lab, you will train a convolutional neural network to classify an image \n",
    "into one of two classes: \"cat\" or \"dog\". The code for the neural networks \n",
    "you train will be written for you, and you are not (yet!) expected\n",
    "to understand all provided code. However, by the end of the lab,\n",
    "you should be able to:\n",
    "\n",
    "1. Understand at a high level the training loop for a machine learning model.\n",
    "2. Understand the distinction between training, validation, and test data.\n",
    "3. The concepts of overfitting and underfitting.\n",
    "4. Investigate how different hyperparameters, such as learning rate and batch size, affect the success of training.\n",
    "5. Compare an ANN (aka Multi-Layer Perceptron) with a CNN.\n",
    "\n",
    "### What to submit\n",
    "\n",
    "Submit a PDF file containing all your code, outputs, and write-up\n",
    "from parts 1-5. You can produce a PDF of your Google Colab file by\n",
    "going to **File > Print** and then save as PDF. The Colab instructions\n",
    "has more information.\n",
    "\n",
    "**Do not submit any other files produced by your code.**\n",
    "\n",
    "Include a link to your colab file in your submission.\n",
    "\n",
    "Please use Google Colab to complete this assignment. If you want to use Jupyter Notebook, please complete the assignment and upload your Jupyter Notebook file to Google Colab for submission. \n",
    "\n",
    "With Colab, you can export a PDF file using the menu option\n",
    "`File -> Print` and save as PDF file. **Adjust the scaling to ensure that the text is not cutoff at the margins.**"
   ]
  },
  {
   "cell_type": "markdown",
   "metadata": {
    "id": "LfiFE_WOqIDu"
   },
   "source": [
    "## Colab Link\n",
    "\n",
    "Include a link to your colab file here\n",
    "\n",
    "Colab Link: https://drive.google.com/file/d/1Nfv1ncVfrHhHi9eZj9eFRAjj_ZxUMXIE/view?usp=sharing "
   ]
  },
  {
   "cell_type": "code",
   "execution_count": 3,
   "metadata": {
    "executionInfo": {
     "elapsed": 8331,
     "status": "ok",
     "timestamp": 1644188976446,
     "user": {
      "displayName": "Dwight Zhang",
      "photoUrl": "https://lh3.googleusercontent.com/a/default-user=s64",
      "userId": "09246084198849505173"
     },
     "user_tz": 300
    },
    "id": "SwyDuiuUqIDv"
   },
   "outputs": [
    {
     "ename": "ModuleNotFoundError",
     "evalue": "No module named 'torch'",
     "output_type": "error",
     "traceback": [
      "\u001b[0;31m---------------------------------------------------------------------------\u001b[0m",
      "\u001b[0;31mModuleNotFoundError\u001b[0m                       Traceback (most recent call last)",
      "\u001b[0;32m/var/folders/yx/2b2x2kyx5kq8dr9lhp6j5s3h0000gn/T/ipykernel_12460/2092205101.py\u001b[0m in \u001b[0;36m<module>\u001b[0;34m\u001b[0m\n\u001b[1;32m      1\u001b[0m \u001b[0;32mimport\u001b[0m \u001b[0mnumpy\u001b[0m \u001b[0;32mas\u001b[0m \u001b[0mnp\u001b[0m\u001b[0;34m\u001b[0m\u001b[0;34m\u001b[0m\u001b[0m\n\u001b[1;32m      2\u001b[0m \u001b[0;32mimport\u001b[0m \u001b[0mtime\u001b[0m\u001b[0;34m\u001b[0m\u001b[0;34m\u001b[0m\u001b[0m\n\u001b[0;32m----> 3\u001b[0;31m \u001b[0;32mimport\u001b[0m \u001b[0mtorch\u001b[0m\u001b[0;34m\u001b[0m\u001b[0;34m\u001b[0m\u001b[0m\n\u001b[0m\u001b[1;32m      4\u001b[0m \u001b[0;32mimport\u001b[0m \u001b[0mtorch\u001b[0m\u001b[0;34m.\u001b[0m\u001b[0mnn\u001b[0m \u001b[0;32mas\u001b[0m \u001b[0mnn\u001b[0m\u001b[0;34m\u001b[0m\u001b[0;34m\u001b[0m\u001b[0m\n\u001b[1;32m      5\u001b[0m \u001b[0;32mimport\u001b[0m \u001b[0mtorch\u001b[0m\u001b[0;34m.\u001b[0m\u001b[0mnn\u001b[0m\u001b[0;34m.\u001b[0m\u001b[0mfunctional\u001b[0m \u001b[0;32mas\u001b[0m \u001b[0mF\u001b[0m\u001b[0;34m\u001b[0m\u001b[0;34m\u001b[0m\u001b[0m\n",
      "\u001b[0;31mModuleNotFoundError\u001b[0m: No module named 'torch'"
     ]
    }
   ],
   "source": [
    "import numpy as np\n",
    "import time\n",
    "import torch\n",
    "import torch.nn as nn\n",
    "import torch.nn.functional as F\n",
    "import torch.optim as optim\n",
    "import torchvision\n",
    "from torch.utils.data.sampler import SubsetRandomSampler\n",
    "import torchvision.transforms as transforms\n"
   ]
  },
  {
   "cell_type": "markdown",
   "metadata": {
    "id": "kvTXpH_kqIDy"
   },
   "source": [
    "## Part 0. Helper Functions\n",
    "\n",
    "We will be making use of the following helper functions. You will be asked to look\n",
    "at and possibly modify some of these, but you are not expected to understand all of them.\n",
    "\n",
    "You should look at the function names and read the docstrings. If you are curious, come back and explore the code *after* making some progress on the lab."
   ]
  },
  {
   "cell_type": "code",
   "execution_count": null,
   "metadata": {
    "executionInfo": {
     "elapsed": 389,
     "status": "ok",
     "timestamp": 1644188976831,
     "user": {
      "displayName": "Dwight Zhang",
      "photoUrl": "https://lh3.googleusercontent.com/a/default-user=s64",
      "userId": "09246084198849505173"
     },
     "user_tz": 300
    },
    "id": "wEjwWEkoqIDz"
   },
   "outputs": [],
   "source": [
    "###############################################################################\n",
    "# Data Loading\n",
    "\n",
    "def get_relevant_indices(dataset, classes, target_classes):\n",
    "    \"\"\" Return the indices for datapoints in the dataset that belongs to the\n",
    "    desired target classes, a subset of all possible classes.\n",
    "\n",
    "    Args:\n",
    "        dataset: Dataset object\n",
    "        classes: A list of strings denoting the name of each class\n",
    "        target_classes: A list of strings denoting the name of desired classes\n",
    "                        Should be a subset of the 'classes'\n",
    "    Returns:\n",
    "        indices: list of indices that have labels corresponding to one of the\n",
    "                 target classes\n",
    "    \"\"\"\n",
    "    indices = []\n",
    "    for i in range(len(dataset)):\n",
    "        # Check if the label is in the target classes\n",
    "        label_index = dataset[i][1] # ex: 3\n",
    "        label_class = classes[label_index] # ex: 'cat'\n",
    "        if label_class in target_classes:\n",
    "            indices.append(i)\n",
    "    return indices\n",
    "\n",
    "def get_data_loader(target_classes, batch_size):\n",
    "    \"\"\" Loads images of cats and dogs, splits the data into training, validation\n",
    "    and testing datasets. Returns data loaders for the three preprocessed datasets.\n",
    "\n",
    "    Args:\n",
    "        target_classes: A list of strings denoting the name of the desired\n",
    "                        classes. Should be a subset of the argument 'classes'\n",
    "        batch_size: A int representing the number of samples per batch\n",
    "    \n",
    "    Returns:\n",
    "        train_loader: iterable training dataset organized according to batch size\n",
    "        val_loader: iterable validation dataset organized according to batch size\n",
    "        test_loader: iterable testing dataset organized according to batch size\n",
    "        classes: A list of strings denoting the name of each class\n",
    "    \"\"\"\n",
    "\n",
    "    classes = ('plane', 'car', 'bird', 'cat',\n",
    "               'deer', 'dog', 'frog', 'horse', 'ship', 'truck')\n",
    "    ########################################################################\n",
    "    # The output of torchvision datasets are PILImage images of range [0, 1].\n",
    "    # We transform them to Tensors of normalized range [-1, 1].\n",
    "    transform = transforms.Compose(\n",
    "        [transforms.ToTensor(),\n",
    "         transforms.Normalize((0.5, 0.5, 0.5), (0.5, 0.5, 0.5))])\n",
    "    # Load CIFAR10 training data\n",
    "    trainset = torchvision.datasets.CIFAR10(root='./data', train=True,\n",
    "                                            download=True, transform=transform)\n",
    "    # Get the list of indices to sample from\n",
    "    relevant_indices = get_relevant_indices(trainset, classes, target_classes)\n",
    "    \n",
    "    # Split into train and validation\n",
    "    np.random.seed(1000) # Fixed numpy random seed for reproducible shuffling\n",
    "    np.random.shuffle(relevant_indices)\n",
    "    split = int(len(relevant_indices) * 0.8) #split at 80%\n",
    "    \n",
    "    # split into training and validation indices\n",
    "    relevant_train_indices, relevant_val_indices = relevant_indices[:split], relevant_indices[split:]  \n",
    "    train_sampler = SubsetRandomSampler(relevant_train_indices)\n",
    "    train_loader = torch.utils.data.DataLoader(trainset, batch_size=batch_size,\n",
    "                                               num_workers=1, sampler=train_sampler)\n",
    "    val_sampler = SubsetRandomSampler(relevant_val_indices)\n",
    "    val_loader = torch.utils.data.DataLoader(trainset, batch_size=batch_size,\n",
    "                                              num_workers=1, sampler=val_sampler)\n",
    "    # Load CIFAR10 testing data\n",
    "    testset = torchvision.datasets.CIFAR10(root='./data', train=False,\n",
    "                                           download=True, transform=transform)\n",
    "    # Get the list of indices to sample from\n",
    "    relevant_test_indices = get_relevant_indices(testset, classes, target_classes)\n",
    "    test_sampler = SubsetRandomSampler(relevant_test_indices)\n",
    "    test_loader = torch.utils.data.DataLoader(testset, batch_size=batch_size,\n",
    "                                             num_workers=1, sampler=test_sampler)\n",
    "    return train_loader, val_loader, test_loader, classes\n",
    "\n",
    "###############################################################################\n",
    "# Training\n",
    "def get_model_name(name, batch_size, learning_rate, epoch):\n",
    "    \"\"\" Generate a name for the model consisting of all the hyperparameter values\n",
    "\n",
    "    Args:\n",
    "        config: Configuration object containing the hyperparameters\n",
    "    Returns:\n",
    "        path: A string with the hyperparameter name and value concatenated\n",
    "    \"\"\"\n",
    "    path = \"model_{0}_bs{1}_lr{2}_epoch{3}\".format(name,\n",
    "                                                   batch_size,\n",
    "                                                   learning_rate,\n",
    "                                                   epoch)\n",
    "    return path\n",
    "\n",
    "def normalize_label(labels):\n",
    "    \"\"\"\n",
    "    Given a tensor containing 2 possible values, normalize this to 0/1\n",
    "\n",
    "    Args:\n",
    "        labels: a 1D tensor containing two possible scalar values\n",
    "    Returns:\n",
    "        A tensor normalize to 0/1 value\n",
    "    \"\"\"\n",
    "    max_val = torch.max(labels)\n",
    "    min_val = torch.min(labels)\n",
    "    norm_labels = (labels - min_val)/(max_val - min_val)\n",
    "    return norm_labels\n",
    "\n",
    "def evaluate(net, loader, criterion):\n",
    "    \"\"\" Evaluate the network on the validation set.\n",
    "\n",
    "     Args:\n",
    "         net: PyTorch neural network object\n",
    "         loader: PyTorch data loader for the validation set\n",
    "         criterion: The loss function\n",
    "     Returns:\n",
    "         err: A scalar for the avg classification error over the validation set\n",
    "         loss: A scalar for the average loss function over the validation set\n",
    "     \"\"\"\n",
    "    total_loss = 0.0\n",
    "    total_err = 0.0\n",
    "    total_epoch = 0\n",
    "    for i, data in enumerate(loader, 0):\n",
    "        inputs, labels = data\n",
    "        labels = normalize_label(labels)  # Convert labels to 0/1\n",
    "        outputs = net(inputs)\n",
    "        loss = criterion(outputs, labels.float())\n",
    "        corr = (outputs > 0.0).squeeze().long() != labels\n",
    "        total_err += int(corr.sum())\n",
    "        total_loss += loss.item()\n",
    "        total_epoch += len(labels)\n",
    "    err = float(total_err) / total_epoch\n",
    "    loss = float(total_loss) / (i + 1)\n",
    "    return err, loss\n",
    "\n",
    "###############################################################################\n",
    "# Training Curve\n",
    "def plot_training_curve(path):\n",
    "    \"\"\" Plots the training curve for a model run, given the csv files\n",
    "    containing the train/validation error/loss.\n",
    "\n",
    "    Args:\n",
    "        path: The base path of the csv files produced during training\n",
    "    \"\"\"\n",
    "    import matplotlib.pyplot as plt\n",
    "    train_err = np.loadtxt(\"{}_train_err.csv\".format(path))\n",
    "    val_err = np.loadtxt(\"{}_val_err.csv\".format(path))\n",
    "    train_loss = np.loadtxt(\"{}_train_loss.csv\".format(path))\n",
    "    val_loss = np.loadtxt(\"{}_val_loss.csv\".format(path))\n",
    "    plt.title(\"Train vs Validation Error\")\n",
    "    n = len(train_err) # number of epochs\n",
    "    plt.plot(range(1,n+1), train_err, label=\"Train\")\n",
    "    plt.plot(range(1,n+1), val_err, label=\"Validation\")\n",
    "    plt.xlabel(\"Epoch\")\n",
    "    plt.ylabel(\"Error\")\n",
    "    plt.legend(loc='best')\n",
    "    plt.show()\n",
    "    plt.title(\"Train vs Validation Loss\")\n",
    "    plt.plot(range(1,n+1), train_loss, label=\"Train\")\n",
    "    plt.plot(range(1,n+1), val_loss, label=\"Validation\")\n",
    "    plt.xlabel(\"Epoch\")\n",
    "    plt.ylabel(\"Loss\")\n",
    "    plt.legend(loc='best')\n",
    "    plt.show()"
   ]
  },
  {
   "cell_type": "markdown",
   "metadata": {
    "id": "bJxMgWGNqID2"
   },
   "source": [
    "## Part 1. Visualizing the Data [7 pt]\n",
    "\n",
    "We will make use of some of the CIFAR-10 data set, which consists of \n",
    "colour images of size 32x32 pixels belonging to 10 categories. You can\n",
    "find out more about the dataset at https://www.cs.toronto.edu/~kriz/cifar.html\n",
    "\n",
    "For this assignment, we will only be using the cat and dog categories. \n",
    "We have included code that automatically downloads the dataset the \n",
    "first time that the main script is run."
   ]
  },
  {
   "cell_type": "code",
   "execution_count": null,
   "metadata": {
    "colab": {
     "base_uri": "https://localhost:8080/",
     "height": 121,
     "referenced_widgets": [
      "3a95466bea954fd9a23721c8d96441bc",
      "3b5b8931359448b98940bbb6208ca9e9",
      "6027ac5479374e578a1f03c606b95ba9",
      "1f2d64da9312440c8d0e19c8a76f22c1",
      "d29dff3d04d24bdab92bb864aeaa2cc1",
      "d293f956f74a491893cfb69d00aed11b",
      "1ff3e6bda64042089c0e56b969f72e5c",
      "ce79e63b188440018961293192dca10d",
      "357600057f114f2fbe5e67501f2111a5",
      "f8d01d4928854b83bd5312c9b5a0937e",
      "ed50c8f353de42fd9f16141d0de29011"
     ]
    },
    "executionInfo": {
     "elapsed": 28102,
     "status": "ok",
     "timestamp": 1644189004930,
     "user": {
      "displayName": "Dwight Zhang",
      "photoUrl": "https://lh3.googleusercontent.com/a/default-user=s64",
      "userId": "09246084198849505173"
     },
     "user_tz": 300
    },
    "id": "Rp7LVcGfqID3",
    "outputId": "952d275c-174b-4344-b556-5a6b2c6a9bfa",
    "scrolled": true
   },
   "outputs": [],
   "source": [
    "# This will download the CIFAR-10 dataset to a folder called \"data\"\n",
    "# the first time you run this code.\n",
    "train_loader, val_loader, test_loader, classes = get_data_loader(\n",
    "    target_classes=[\"cat\", \"dog\"], \n",
    "    batch_size=1) # One image per batch"
   ]
  },
  {
   "cell_type": "markdown",
   "metadata": {
    "id": "JiYX_HM-qID6"
   },
   "source": [
    "### Part (a) -- 1 pt\n",
    "\n",
    "Visualize some of the data by running the code below.\n",
    "Include the visualization in your writeup.\n",
    "\n",
    "(You don't need to submit anything else.)"
   ]
  },
  {
   "cell_type": "code",
   "execution_count": null,
   "metadata": {
    "colab": {
     "base_uri": "https://localhost:8080/",
     "height": 242
    },
    "executionInfo": {
     "elapsed": 1062,
     "status": "ok",
     "timestamp": 1644189005987,
     "user": {
      "displayName": "Dwight Zhang",
      "photoUrl": "https://lh3.googleusercontent.com/a/default-user=s64",
      "userId": "09246084198849505173"
     },
     "user_tz": 300
    },
    "id": "UJ4pYFTQqID7",
    "outputId": "c4153fe6-43df-4f3f-aeb2-27efc8c52dac",
    "scrolled": true
   },
   "outputs": [],
   "source": [
    "import matplotlib.pyplot as plt\n",
    "\n",
    "k = 0\n",
    "for images, labels in train_loader:\n",
    "    # since batch_size = 1, there is only 1 image in `images`\n",
    "    image = images[0]\n",
    "    # place the colour channel at the end, instead of at the beginning\n",
    "    img = np.transpose(image, [1,2,0])\n",
    "    # normalize pixel intensity values to [0, 1]\n",
    "    img = img / 2 + 0.5\n",
    "    plt.subplot(3, 5, k+1)\n",
    "    plt.axis('off')\n",
    "    plt.imshow(img)\n",
    "\n",
    "    k += 1\n",
    "    if k > 14:\n",
    "        break"
   ]
  },
  {
   "cell_type": "markdown",
   "metadata": {
    "id": "UmHiUOaDqID9"
   },
   "source": [
    "### Part (b) -- 3 pt\n",
    "\n",
    "How many training examples do we have for the combined `cat` and `dog` classes? \n",
    "What about validation examples? \n",
    "What about test examples?"
   ]
  },
  {
   "cell_type": "markdown",
   "metadata": {
    "id": "5KaGdH2ahwKS"
   },
   "source": []
  },
  {
   "cell_type": "code",
   "execution_count": 2,
   "metadata": {
    "colab": {
     "base_uri": "https://localhost:8080/"
    },
    "executionInfo": {
     "elapsed": 7,
     "status": "ok",
     "timestamp": 1644189005987,
     "user": {
      "displayName": "Dwight Zhang",
      "photoUrl": "https://lh3.googleusercontent.com/a/default-user=s64",
      "userId": "09246084198849505173"
     },
     "user_tz": 300
    },
    "id": "6p4eAz1IqID-",
    "outputId": "d23adcf6-835d-4b71-8f69-7bee863015c1"
   },
   "outputs": [
    {
     "ename": "NameError",
     "evalue": "name 'train_loader' is not defined",
     "output_type": "error",
     "traceback": [
      "\u001b[0;31m---------------------------------------------------------------------------\u001b[0m",
      "\u001b[0;31mNameError\u001b[0m                                 Traceback (most recent call last)",
      "\u001b[0;32m/var/folders/yx/2b2x2kyx5kq8dr9lhp6j5s3h0000gn/T/ipykernel_12460/2365223300.py\u001b[0m in \u001b[0;36m<module>\u001b[0;34m\u001b[0m\n\u001b[0;32m----> 1\u001b[0;31m \u001b[0mprint\u001b[0m\u001b[0;34m(\u001b[0m\u001b[0;34m\"Number of training examples in training set:\"\u001b[0m\u001b[0;34m,\u001b[0m \u001b[0mlen\u001b[0m\u001b[0;34m(\u001b[0m\u001b[0mtrain_loader\u001b[0m\u001b[0;34m)\u001b[0m\u001b[0;34m)\u001b[0m\u001b[0;34m\u001b[0m\u001b[0;34m\u001b[0m\u001b[0m\n\u001b[0m\u001b[1;32m      2\u001b[0m \u001b[0mprint\u001b[0m\u001b[0;34m(\u001b[0m\u001b[0;34m\"Number of validation examples in validation set:\"\u001b[0m\u001b[0;34m,\u001b[0m \u001b[0mlen\u001b[0m\u001b[0;34m(\u001b[0m\u001b[0mval_loader\u001b[0m\u001b[0;34m)\u001b[0m\u001b[0;34m)\u001b[0m\u001b[0;34m\u001b[0m\u001b[0;34m\u001b[0m\u001b[0m\n\u001b[1;32m      3\u001b[0m \u001b[0mprint\u001b[0m\u001b[0;34m(\u001b[0m\u001b[0;34m\"Number of test examples in testing set:\"\u001b[0m\u001b[0;34m,\u001b[0m \u001b[0mlen\u001b[0m\u001b[0;34m(\u001b[0m\u001b[0mtest_loader\u001b[0m\u001b[0;34m)\u001b[0m\u001b[0;34m)\u001b[0m\u001b[0;34m\u001b[0m\u001b[0;34m\u001b[0m\u001b[0m\n",
      "\u001b[0;31mNameError\u001b[0m: name 'train_loader' is not defined"
     ]
    }
   ],
   "source": [
    "print(\"Number of training examples in training set:\", len(train_loader))\n",
    "print(\"Number of validation examples in validation set:\", len(val_loader))\n",
    "print(\"Number of test examples in testing set:\", len(test_loader))"
   ]
  },
  {
   "cell_type": "markdown",
   "metadata": {
    "id": "3aY25I_oqIEB"
   },
   "source": [
    "### Part (c) -- 3pt\n",
    "\n",
    "Why do we need a validation set when training our model? What happens if we judge the \n",
    "performance of our models using the training set loss/error instead of the validation\n",
    "set loss/error?"
   ]
  },
  {
   "cell_type": "markdown",
   "metadata": {
    "id": "Vk31RArsjb2n"
   },
   "source": [
    "The validation set is used to tune model's hyperprameter. And it is used to measure the performance of our model on data that is not used to train the model. If we only judge the performance of our model on trainning set, we may overfit training data to get very low error on the training data. As the model getting more complex it starts to memorizing data. Using validation set can tell if the model is actually learning general pattern of the training data or just memorizing it."
   ]
  },
  {
   "cell_type": "markdown",
   "metadata": {
    "id": "6iYZ4xXHqIEE"
   },
   "source": [
    "## Part 2. Training [15 pt]\n",
    "\n",
    "We define two neural networks, a `LargeNet` and `SmallNet`.\n",
    "We'll be training the networks in this section.\n",
    "\n",
    "You won't understand fully what these networks are doing until\n",
    "the next few classes, and that's okay. For this assignment, please\n",
    "focus on learning how to train networks, and how hyperparameters affect\n",
    "training."
   ]
  },
  {
   "cell_type": "code",
   "execution_count": 6,
   "metadata": {
    "collapsed": true,
    "executionInfo": {
     "elapsed": 7,
     "status": "ok",
     "timestamp": 1644189005988,
     "user": {
      "displayName": "Dwight Zhang",
      "photoUrl": "https://lh3.googleusercontent.com/a/default-user=s64",
      "userId": "09246084198849505173"
     },
     "user_tz": 300
    },
    "id": "HniZoI3lqIEF"
   },
   "outputs": [],
   "source": [
    "class LargeNet(nn.Module):\n",
    "    def __init__(self):\n",
    "        super(LargeNet, self).__init__()\n",
    "        self.name = \"large\"\n",
    "        self.conv1 = nn.Conv2d(3, 5, 5)\n",
    "        self.pool = nn.MaxPool2d(2, 2)\n",
    "        self.conv2 = nn.Conv2d(5, 10, 5)\n",
    "        self.fc1 = nn.Linear(10 * 5 * 5, 32)\n",
    "        self.fc2 = nn.Linear(32, 1)\n",
    "\n",
    "    def forward(self, x):\n",
    "        x = self.pool(F.relu(self.conv1(x)))\n",
    "        x = self.pool(F.relu(self.conv2(x)))\n",
    "        x = x.view(-1, 10 * 5 * 5)\n",
    "        x = F.relu(self.fc1(x))\n",
    "        x = self.fc2(x)\n",
    "        x = x.squeeze(1) # Flatten to [batch_size]\n",
    "        return x"
   ]
  },
  {
   "cell_type": "code",
   "execution_count": 7,
   "metadata": {
    "collapsed": true,
    "executionInfo": {
     "elapsed": 6,
     "status": "ok",
     "timestamp": 1644189005988,
     "user": {
      "displayName": "Dwight Zhang",
      "photoUrl": "https://lh3.googleusercontent.com/a/default-user=s64",
      "userId": "09246084198849505173"
     },
     "user_tz": 300
    },
    "id": "pJgOmJdvqIEH"
   },
   "outputs": [],
   "source": [
    "class SmallNet(nn.Module):\n",
    "    def __init__(self):\n",
    "        super(SmallNet, self).__init__()\n",
    "        self.name = \"small\"\n",
    "        self.conv = nn.Conv2d(3, 5, 3)\n",
    "        self.pool = nn.MaxPool2d(2, 2)\n",
    "        self.fc = nn.Linear(5 * 7 * 7, 1)\n",
    "\n",
    "    def forward(self, x):\n",
    "        x = self.pool(F.relu(self.conv(x)))\n",
    "        x = self.pool(x)\n",
    "        x = x.view(-1, 5 * 7 * 7)\n",
    "        x = self.fc(x)\n",
    "        x = x.squeeze(1) # Flatten to [batch_size]\n",
    "        return x"
   ]
  },
  {
   "cell_type": "code",
   "execution_count": 8,
   "metadata": {
    "collapsed": true,
    "executionInfo": {
     "elapsed": 6,
     "status": "ok",
     "timestamp": 1644189005988,
     "user": {
      "displayName": "Dwight Zhang",
      "photoUrl": "https://lh3.googleusercontent.com/a/default-user=s64",
      "userId": "09246084198849505173"
     },
     "user_tz": 300
    },
    "id": "pMJZt_S2qIEM"
   },
   "outputs": [],
   "source": [
    "small_net = SmallNet()\n",
    "large_net = LargeNet()"
   ]
  },
  {
   "cell_type": "markdown",
   "metadata": {
    "id": "-ekO3pj9qIEQ"
   },
   "source": [
    "### Part (a) -- 2pt\n",
    "\n",
    "The methods `small_net.parameters()` and `large_net.parameters()`\n",
    "produces an iterator of all the trainable parameters of the network.\n",
    "These parameters are torch tensors containing many scalar values. \n",
    "\n",
    "We haven't learned how how the parameters in these high-dimensional\n",
    "tensors will be used, but we should be able to count the number\n",
    "of parameters. Measuring the number of parameters in a network is\n",
    "one way of measuring the \"size\" of a network.\n",
    "\n",
    "What is the total number of parameters in `small_net` and in\n",
    "`large_net`? (Hint: how many numbers are in each tensor?)"
   ]
  },
  {
   "cell_type": "code",
   "execution_count": 9,
   "metadata": {
    "colab": {
     "base_uri": "https://localhost:8080/"
    },
    "collapsed": true,
    "executionInfo": {
     "elapsed": 6,
     "status": "ok",
     "timestamp": 1644189005988,
     "user": {
      "displayName": "Dwight Zhang",
      "photoUrl": "https://lh3.googleusercontent.com/a/default-user=s64",
      "userId": "09246084198849505173"
     },
     "user_tz": 300
    },
    "id": "dc4keyOnqIER",
    "outputId": "1fe27525-204b-4e22-c33f-927c28d91bb4"
   },
   "outputs": [
    {
     "name": "stdout",
     "output_type": "stream",
     "text": [
      "torch.Size([5, 3, 3, 3])\n",
      "torch.Size([5])\n",
      "torch.Size([1, 245])\n",
      "torch.Size([1])\n",
      "The total number of parameters in small_net is 386\n",
      "torch.Size([5, 3, 5, 5])\n",
      "torch.Size([5])\n",
      "torch.Size([10, 5, 5, 5])\n",
      "torch.Size([10])\n",
      "torch.Size([32, 250])\n",
      "torch.Size([32])\n",
      "torch.Size([1, 32])\n",
      "torch.Size([1])\n",
      "The total number of parameters in large_net is 9705\n"
     ]
    }
   ],
   "source": [
    "num = 0\n",
    "for param in small_net.parameters():\n",
    "    print(param.shape)\n",
    "    num += torch.numel(param)\n",
    "print(\"The total number of parameters in small_net is\", num)\n",
    "\n",
    "num = 0\n",
    "for param in large_net.parameters():\n",
    "    print(param.shape)\n",
    "    num += torch.numel(param)\n",
    "print(\"The total number of parameters in large_net is\", num)"
   ]
  },
  {
   "cell_type": "markdown",
   "metadata": {
    "id": "OcZVo2DsqIET"
   },
   "source": [
    "### The function train_net\n",
    "\n",
    "The function `train_net` below takes an untrained neural network (like `small_net` and `large_net`) and\n",
    "several other parameters. You should be able to understand how this function works.\n",
    "The figure below shows the high level training loop for a machine learning model:\n",
    "\n",
    "![alt text](https://github.com/UTNeural/Lab2/blob/master/Diagram.png?raw=true)"
   ]
  },
  {
   "cell_type": "code",
   "execution_count": 10,
   "metadata": {
    "collapsed": true,
    "executionInfo": {
     "elapsed": 4,
     "status": "ok",
     "timestamp": 1644189005988,
     "user": {
      "displayName": "Dwight Zhang",
      "photoUrl": "https://lh3.googleusercontent.com/a/default-user=s64",
      "userId": "09246084198849505173"
     },
     "user_tz": 300
    },
    "id": "jC90G_VGqIEU"
   },
   "outputs": [],
   "source": [
    "def train_net(net, batch_size=64, learning_rate=0.01, num_epochs=30):\n",
    "    ########################################################################\n",
    "    # Train a classifier on cats vs dogs\n",
    "    target_classes = [\"cat\", \"dog\"]\n",
    "    ########################################################################\n",
    "    # Fixed PyTorch random seed for reproducible result\n",
    "    torch.manual_seed(1000)\n",
    "    ########################################################################\n",
    "    # Obtain the PyTorch data loader objects to load batches of the datasets\n",
    "    train_loader, val_loader, test_loader, classes = get_data_loader(\n",
    "            target_classes, batch_size)\n",
    "    ########################################################################\n",
    "    # Define the Loss function and optimizer\n",
    "    # The loss function will be Binary Cross Entropy (BCE). In this case we\n",
    "    # will use the BCEWithLogitsLoss which takes unnormalized output from\n",
    "    # the neural network and scalar label.\n",
    "    # Optimizer will be SGD with Momentum.\n",
    "    criterion = nn.BCEWithLogitsLoss()\n",
    "    optimizer = optim.SGD(net.parameters(), lr=learning_rate, momentum=0.9)\n",
    "    ########################################################################\n",
    "    # Set up some numpy arrays to store the training/test loss/erruracy\n",
    "    train_err = np.zeros(num_epochs)\n",
    "    train_loss = np.zeros(num_epochs)\n",
    "    val_err = np.zeros(num_epochs)\n",
    "    val_loss = np.zeros(num_epochs)\n",
    "    ########################################################################\n",
    "    # Train the network\n",
    "    # Loop over the data iterator and sample a new batch of training data\n",
    "    # Get the output from the network, and optimize our loss function.\n",
    "    start_time = time.time()\n",
    "    for epoch in range(num_epochs):  # loop over the dataset multiple times\n",
    "        total_train_loss = 0.0\n",
    "        total_train_err = 0.0\n",
    "        total_epoch = 0\n",
    "        for i, data in enumerate(train_loader, 0):\n",
    "            # Get the inputs\n",
    "            inputs, labels = data\n",
    "            labels = normalize_label(labels) # Convert labels to 0/1\n",
    "            # Zero the parameter gradients\n",
    "            optimizer.zero_grad()\n",
    "            # Forward pass, backward pass, and optimize\n",
    "            outputs = net(inputs)\n",
    "            loss = criterion(outputs, labels.float())\n",
    "            loss.backward()\n",
    "            optimizer.step()\n",
    "            # Calculate the statistics\n",
    "            corr = (outputs > 0.0).squeeze().long() != labels\n",
    "            total_train_err += int(corr.sum())\n",
    "            total_train_loss += loss.item()\n",
    "            total_epoch += len(labels)\n",
    "        train_err[epoch] = float(total_train_err) / total_epoch\n",
    "        train_loss[epoch] = float(total_train_loss) / (i+1)\n",
    "        val_err[epoch], val_loss[epoch] = evaluate(net, val_loader, criterion)\n",
    "        print((\"Epoch {}: Train err: {}, Train loss: {} |\"+\n",
    "               \"Validation err: {}, Validation loss: {}\").format(\n",
    "                   epoch + 1,\n",
    "                   train_err[epoch],\n",
    "                   train_loss[epoch],\n",
    "                   val_err[epoch],\n",
    "                   val_loss[epoch]))\n",
    "        # Save the current model (checkpoint) to a file\n",
    "        model_path = get_model_name(net.name, batch_size, learning_rate, epoch)\n",
    "        torch.save(net.state_dict(), model_path)\n",
    "    print('Finished Training')\n",
    "    end_time = time.time()\n",
    "    elapsed_time = end_time - start_time\n",
    "    print(\"Total time elapsed: {:.2f} seconds\".format(elapsed_time))\n",
    "    # Write the train/test loss/err into CSV file for plotting later\n",
    "    epochs = np.arange(1, num_epochs + 1)\n",
    "    np.savetxt(\"{}_train_err.csv\".format(model_path), train_err)\n",
    "    np.savetxt(\"{}_train_loss.csv\".format(model_path), train_loss)\n",
    "    np.savetxt(\"{}_val_err.csv\".format(model_path), val_err)\n",
    "    np.savetxt(\"{}_val_loss.csv\".format(model_path), val_loss)"
   ]
  },
  {
   "cell_type": "markdown",
   "metadata": {
    "id": "jEhligNaqIEW"
   },
   "source": [
    "### Part (b) -- 1pt\n",
    "\n",
    "The parameters to the function `train_net` are hyperparameters of our neural network.\n",
    "We made these hyperparameters easy to modify so that we can tune them later on. \n",
    "\n",
    "What are the default values of the parameters `batch_size`, `learning_rate`, \n",
    "and `num_epochs`?"
   ]
  },
  {
   "cell_type": "markdown",
   "metadata": {
    "id": "YotrLXDhwxeY"
   },
   "source": [
    "The defualt value of parameters are: `batch_size=64`, `learning_rate=0.01`, `num_epochs=30`"
   ]
  },
  {
   "cell_type": "markdown",
   "metadata": {
    "id": "Qy_yv9NMqIEa"
   },
   "source": [
    "### Part (c) -- 3 pt\n",
    "\n",
    "What files are written to disk when we call `train_net` with `small_net`, and train for 5 epochs? Provide a list\n",
    "of all the files written to disk, and what information the files contain."
   ]
  },
  {
   "cell_type": "code",
   "execution_count": 11,
   "metadata": {
    "colab": {
     "base_uri": "https://localhost:8080/"
    },
    "collapsed": true,
    "executionInfo": {
     "elapsed": 28284,
     "status": "ok",
     "timestamp": 1644189034268,
     "user": {
      "displayName": "Dwight Zhang",
      "photoUrl": "https://lh3.googleusercontent.com/a/default-user=s64",
      "userId": "09246084198849505173"
     },
     "user_tz": 300
    },
    "id": "hNwhtyP1qIEb",
    "outputId": "6777d3e9-4593-4dc3-d9d5-72c2cc01aae2"
   },
   "outputs": [
    {
     "name": "stdout",
     "output_type": "stream",
     "text": [
      "Files already downloaded and verified\n",
      "Files already downloaded and verified\n",
      "Epoch 1: Train err: 0.42425, Train loss: 0.6722153563499451 |Validation err: 0.3775, Validation loss: 0.6564793232828379\n",
      "Epoch 2: Train err: 0.368125, Train loss: 0.645252995967865 |Validation err: 0.3795, Validation loss: 0.6601587999612093\n",
      "Epoch 3: Train err: 0.34875, Train loss: 0.6286655707359314 |Validation err: 0.3415, Validation loss: 0.6205901429057121\n",
      "Epoch 4: Train err: 0.335875, Train loss: 0.6145545740127564 |Validation err: 0.3485, Validation loss: 0.618171626701951\n",
      "Epoch 5: Train err: 0.32925, Train loss: 0.6071944980621338 |Validation err: 0.3325, Validation loss: 0.6113087348639965\n",
      "Finished Training\n",
      "Total time elapsed: 16.23 seconds\n"
     ]
    }
   ],
   "source": [
    "train_net(small_net, num_epochs=5)"
   ]
  },
  {
   "cell_type": "markdown",
   "metadata": {
    "id": "H_ZUNn-Gxc0d"
   },
   "source": [
    "model_small_bs64_lr0.01_epoch0 - model checkpoint, include values of model weights for epoch0\n",
    "\n",
    "model_small_bs64_lr0.01_epoch1 - model checkpoint, include values of model weights for epoch1\n",
    "\n",
    "model_small_bs64_lr0.01_epoch2 - model checkpoint, include values of model weights for epoch2\n",
    "\n",
    "model_small_bs64_lr0.01_epoch3 - model checkpoint, include values of model weights for epoch3\n",
    "\n",
    "model_small_bs64_lr0.01_epoch4 - model checkpoint, include values of model weights for epoch4\n",
    "\n",
    "model_small_bs64_lr0.01_epoch4_train_err.csv - trainning error for each epoch up to epoch4\n",
    "\n",
    "model_small_bs64_lr0.01_epoch4_train_loss.csv - trainning loss for each epoch up to epoch4\n",
    "\n",
    "model_small_bs64_lr0.01_epoch4_val_err.csv - validation error for each epoch up to epoch4\n",
    "\n",
    "model_small_bs64_lr0.01_epoch4_val_loss.csv - validation loss for each epoch up to epoch4\n"
   ]
  },
  {
   "cell_type": "markdown",
   "metadata": {
    "id": "a6shtCFDqIEd"
   },
   "source": [
    "### Part (d) -- 2pt\n",
    "\n",
    "Train both `small_net` and `large_net` using the function `train_net` and its default parameters.\n",
    "The function will write many files to disk, including a model checkpoint (saved values of model weights) \n",
    "at the end of each epoch.\n",
    "\n",
    "If you are using Google Colab, you will need to mount Google Drive \n",
    "so that the files generated by `train_net` gets saved. We will be using\n",
    "these files in part (d).\n",
    "(See the Google Colab tutorial for more information about this.)\n",
    "\n",
    "Report the total time elapsed when training each network. Which network took longer to train?\n",
    "Why?"
   ]
  },
  {
   "cell_type": "code",
   "execution_count": 12,
   "metadata": {
    "colab": {
     "base_uri": "https://localhost:8080/"
    },
    "collapsed": true,
    "executionInfo": {
     "elapsed": 24639,
     "status": "ok",
     "timestamp": 1644189058901,
     "user": {
      "displayName": "Dwight Zhang",
      "photoUrl": "https://lh3.googleusercontent.com/a/default-user=s64",
      "userId": "09246084198849505173"
     },
     "user_tz": 300
    },
    "id": "tawIVwTfqIEe",
    "outputId": "e2acf1d9-1fe0-4768-824f-b438041c962b"
   },
   "outputs": [
    {
     "name": "stdout",
     "output_type": "stream",
     "text": [
      "Mounted at /content/gdrive\n"
     ]
    }
   ],
   "source": [
    "# Since the function writes files to disk, you will need to mount\n",
    "# your Google Drive. If you are working on the lab locally, you\n",
    "# can comment out this code.\n",
    "\n",
    "from google.colab import drive\n",
    "drive.mount('/content/gdrive')"
   ]
  },
  {
   "cell_type": "code",
   "execution_count": 13,
   "metadata": {
    "colab": {
     "base_uri": "https://localhost:8080/"
    },
    "collapsed": true,
    "executionInfo": {
     "elapsed": 227914,
     "status": "ok",
     "timestamp": 1644189286812,
     "user": {
      "displayName": "Dwight Zhang",
      "photoUrl": "https://lh3.googleusercontent.com/a/default-user=s64",
      "userId": "09246084198849505173"
     },
     "user_tz": 300
    },
    "id": "MWSZm9SvqIEh",
    "outputId": "389b90b7-34a4-4682-97f8-1f42b4e53d61"
   },
   "outputs": [
    {
     "name": "stdout",
     "output_type": "stream",
     "text": [
      "Files already downloaded and verified\n",
      "Files already downloaded and verified\n",
      "Epoch 1: Train err: 0.321, Train loss: 0.5985658991336823 |Validation err: 0.3285, Validation loss: 0.6068697609007359\n",
      "Epoch 2: Train err: 0.31625, Train loss: 0.5925048339366913 |Validation err: 0.34, Validation loss: 0.6226480137556791\n",
      "Epoch 3: Train err: 0.310125, Train loss: 0.5853964810371399 |Validation err: 0.3155, Validation loss: 0.5897482400760055\n",
      "Epoch 4: Train err: 0.3025, Train loss: 0.5775019967556 |Validation err: 0.3035, Validation loss: 0.5858141770586371\n",
      "Epoch 5: Train err: 0.3005, Train loss: 0.5739392962455749 |Validation err: 0.3075, Validation loss: 0.5883238445967436\n",
      "Epoch 6: Train err: 0.292625, Train loss: 0.568373786687851 |Validation err: 0.3005, Validation loss: 0.5854694219306111\n",
      "Epoch 7: Train err: 0.2955, Train loss: 0.5646571326255798 |Validation err: 0.307, Validation loss: 0.5802557999268174\n",
      "Epoch 8: Train err: 0.2875, Train loss: 0.5606982209682465 |Validation err: 0.3065, Validation loss: 0.5794630972668529\n",
      "Epoch 9: Train err: 0.289375, Train loss: 0.5593661162853241 |Validation err: 0.307, Validation loss: 0.5801843078806996\n",
      "Epoch 10: Train err: 0.283875, Train loss: 0.5548994500637054 |Validation err: 0.3015, Validation loss: 0.5718629220500588\n",
      "Epoch 11: Train err: 0.281875, Train loss: 0.5534704689979553 |Validation err: 0.296, Validation loss: 0.5726183066144586\n",
      "Epoch 12: Train err: 0.2805, Train loss: 0.5491656634807587 |Validation err: 0.297, Validation loss: 0.5725745484232903\n",
      "Epoch 13: Train err: 0.279, Train loss: 0.5523914208412171 |Validation err: 0.303, Validation loss: 0.5770570710301399\n",
      "Epoch 14: Train err: 0.27175, Train loss: 0.5437454690933228 |Validation err: 0.296, Validation loss: 0.574354900047183\n",
      "Epoch 15: Train err: 0.26975, Train loss: 0.5419674582481384 |Validation err: 0.306, Validation loss: 0.5769573682919145\n",
      "Epoch 16: Train err: 0.273, Train loss: 0.5441585736274719 |Validation err: 0.308, Validation loss: 0.5793730225414038\n",
      "Epoch 17: Train err: 0.27525, Train loss: 0.541154543876648 |Validation err: 0.29, Validation loss: 0.5682830549776554\n",
      "Epoch 18: Train err: 0.27325, Train loss: 0.5403314697742462 |Validation err: 0.2925, Validation loss: 0.5645288322120905\n",
      "Epoch 19: Train err: 0.263875, Train loss: 0.5351351828575134 |Validation err: 0.3055, Validation loss: 0.570097235031426\n",
      "Epoch 20: Train err: 0.269375, Train loss: 0.5355746564865113 |Validation err: 0.293, Validation loss: 0.5764098251238465\n",
      "Epoch 21: Train err: 0.266, Train loss: 0.5367335000038147 |Validation err: 0.299, Validation loss: 0.5639572832733393\n",
      "Epoch 22: Train err: 0.26375, Train loss: 0.534789865732193 |Validation err: 0.2985, Validation loss: 0.5749491825699806\n",
      "Epoch 23: Train err: 0.263125, Train loss: 0.5329486906528473 |Validation err: 0.2925, Validation loss: 0.5652492754161358\n",
      "Epoch 24: Train err: 0.257625, Train loss: 0.5307770919799805 |Validation err: 0.294, Validation loss: 0.5736577464267612\n",
      "Epoch 25: Train err: 0.26225, Train loss: 0.5311107585430145 |Validation err: 0.302, Validation loss: 0.5704179396852851\n",
      "Epoch 26: Train err: 0.2635, Train loss: 0.5302912771701813 |Validation err: 0.2915, Validation loss: 0.5598467160016298\n",
      "Epoch 27: Train err: 0.263625, Train loss: 0.5298425362110138 |Validation err: 0.2975, Validation loss: 0.5741179250180721\n",
      "Epoch 28: Train err: 0.26075, Train loss: 0.5300403699874878 |Validation err: 0.2975, Validation loss: 0.5665738135576248\n",
      "Epoch 29: Train err: 0.262, Train loss: 0.5300751626491547 |Validation err: 0.297, Validation loss: 0.5730111869052052\n",
      "Epoch 30: Train err: 0.257375, Train loss: 0.5304611110687256 |Validation err: 0.299, Validation loss: 0.568388445302844\n",
      "Finished Training\n",
      "Total time elapsed: 96.45 seconds\n",
      "Files already downloaded and verified\n",
      "Files already downloaded and verified\n",
      "Epoch 1: Train err: 0.471875, Train loss: 0.6922214674949646 |Validation err: 0.448, Validation loss: 0.6889575254172087\n",
      "Epoch 2: Train err: 0.443875, Train loss: 0.6866797313690186 |Validation err: 0.4255, Validation loss: 0.6804285533726215\n",
      "Epoch 3: Train err: 0.41375, Train loss: 0.6742213249206543 |Validation err: 0.3865, Validation loss: 0.6583660002797842\n",
      "Epoch 4: Train err: 0.377875, Train loss: 0.654028706073761 |Validation err: 0.3675, Validation loss: 0.6480536218732595\n",
      "Epoch 5: Train err: 0.362875, Train loss: 0.6365872278213501 |Validation err: 0.353, Validation loss: 0.6331592220813036\n",
      "Epoch 6: Train err: 0.34325, Train loss: 0.6177210609912872 |Validation err: 0.3385, Validation loss: 0.626906618475914\n",
      "Epoch 7: Train err: 0.32675, Train loss: 0.6032359795570373 |Validation err: 0.3355, Validation loss: 0.6140175890177488\n",
      "Epoch 8: Train err: 0.314625, Train loss: 0.5877840356826782 |Validation err: 0.321, Validation loss: 0.6015491560101509\n",
      "Epoch 9: Train err: 0.309625, Train loss: 0.5842392811775208 |Validation err: 0.319, Validation loss: 0.596602451056242\n",
      "Epoch 10: Train err: 0.296625, Train loss: 0.5685237009525299 |Validation err: 0.31, Validation loss: 0.5883551379665732\n",
      "Epoch 11: Train err: 0.295625, Train loss: 0.5585593249797821 |Validation err: 0.3185, Validation loss: 0.6038017272949219\n",
      "Epoch 12: Train err: 0.280875, Train loss: 0.5469646565914154 |Validation err: 0.3215, Validation loss: 0.6070658564567566\n",
      "Epoch 13: Train err: 0.27175, Train loss: 0.5367991468906402 |Validation err: 0.303, Validation loss: 0.598341129720211\n",
      "Epoch 14: Train err: 0.2695, Train loss: 0.5289971737861633 |Validation err: 0.3035, Validation loss: 0.5980014223605394\n",
      "Epoch 15: Train err: 0.261625, Train loss: 0.5190205183029175 |Validation err: 0.3025, Validation loss: 0.5843006940558553\n",
      "Epoch 16: Train err: 0.2545, Train loss: 0.5119430091381073 |Validation err: 0.3105, Validation loss: 0.5985486349090934\n",
      "Epoch 17: Train err: 0.250375, Train loss: 0.5041196043491364 |Validation err: 0.293, Validation loss: 0.5756228845566511\n",
      "Epoch 18: Train err: 0.23925, Train loss: 0.4813440239429474 |Validation err: 0.288, Validation loss: 0.5913405483588576\n",
      "Epoch 19: Train err: 0.236, Train loss: 0.4760857501029968 |Validation err: 0.3, Validation loss: 0.5983388042077422\n",
      "Epoch 20: Train err: 0.22175, Train loss: 0.46131688833236695 |Validation err: 0.323, Validation loss: 0.6432687239721417\n",
      "Epoch 21: Train err: 0.226625, Train loss: 0.45983002591133115 |Validation err: 0.3035, Validation loss: 0.5907473703846335\n",
      "Epoch 22: Train err: 0.21725, Train loss: 0.44907807850837705 |Validation err: 0.2965, Validation loss: 0.6259457552805543\n",
      "Epoch 23: Train err: 0.209, Train loss: 0.4354567306041717 |Validation err: 0.302, Validation loss: 0.6026192270219326\n",
      "Epoch 24: Train err: 0.207, Train loss: 0.4273978509902954 |Validation err: 0.3115, Validation loss: 0.6215637922286987\n",
      "Epoch 25: Train err: 0.1905, Train loss: 0.40821379601955415 |Validation err: 0.2975, Validation loss: 0.6278416160494089\n",
      "Epoch 26: Train err: 0.1825, Train loss: 0.392947239279747 |Validation err: 0.308, Validation loss: 0.6729681147262454\n",
      "Epoch 27: Train err: 0.177125, Train loss: 0.38580956602096556 |Validation err: 0.3025, Validation loss: 0.6486987806856632\n",
      "Epoch 28: Train err: 0.166625, Train loss: 0.3694756445884705 |Validation err: 0.288, Validation loss: 0.6560030868276954\n",
      "Epoch 29: Train err: 0.1595, Train loss: 0.35142163634300233 |Validation err: 0.3135, Validation loss: 0.7464689910411835\n",
      "Epoch 30: Train err: 0.154125, Train loss: 0.3445929583311081 |Validation err: 0.3105, Validation loss: 0.7262966660782695\n",
      "Finished Training\n",
      "Total time elapsed: 105.84 seconds\n"
     ]
    }
   ],
   "source": [
    "train_net(small_net)\n",
    "train_net(large_net)"
   ]
  },
  {
   "cell_type": "markdown",
   "metadata": {
    "id": "ovXLwUFA25hJ"
   },
   "source": [
    "The `samll` network takes `96.45s`,\n",
    "the `large` network takes `105.84s`\n",
    "This makes sense since the large network has more paramters and the model is more complex, more time is need to train the large network. "
   ]
  },
  {
   "cell_type": "markdown",
   "metadata": {
    "id": "Pk4GIF3QqIEj"
   },
   "source": [
    "### Part (e) - 2pt\n",
    "\n",
    "Use the function `plot_training_curve` to display the trajectory of the \n",
    "training/validation error and the training/validation loss.\n",
    "You will need to use the function `get_model_name` to generate the\n",
    "argument to the `plot_training_curve` function.\n",
    "\n",
    "Do this for both the small network and the large network. Include both plots\n",
    "in your writeup."
   ]
  },
  {
   "cell_type": "code",
   "execution_count": 14,
   "metadata": {
    "colab": {
     "base_uri": "https://localhost:8080/",
     "height": 590
    },
    "collapsed": true,
    "executionInfo": {
     "elapsed": 514,
     "status": "ok",
     "timestamp": 1644189287322,
     "user": {
      "displayName": "Dwight Zhang",
      "photoUrl": "https://lh3.googleusercontent.com/a/default-user=s64",
      "userId": "09246084198849505173"
     },
     "user_tz": 300
    },
    "id": "EXrEgOtuqIEk",
    "outputId": "78ff7d49-874e-455d-d7f7-e68adcc59aab"
   },
   "outputs": [
    {
     "name": "stdout",
     "output_type": "stream",
     "text": [
      "Training Curve for Small Network: \n"
     ]
    },
    {
     "data": {
      "image/png": "[encoded data removed]",
      "text/plain": [
       "<Figure size 432x288 with 1 Axes>"
      ]
     },
     "metadata": {
      "needs_background": "light"
     },
     "output_type": "display_data"
    },
    {
     "data": {
      "image/png": "[encoded data removed]",
      "text/plain": [
       "<Figure size 432x288 with 1 Axes>"
      ]
     },
     "metadata": {
      "needs_background": "light"
     },
     "output_type": "display_data"
    }
   ],
   "source": [
    "print(\"Training Curve for Small Network: \")\n",
    "model_path_small = get_model_name(\"small\", batch_size=64, learning_rate=0.01, epoch=29)\n",
    "plot_training_curve(model_path_small)"
   ]
  },
  {
   "cell_type": "code",
   "execution_count": 15,
   "metadata": {
    "colab": {
     "base_uri": "https://localhost:8080/",
     "height": 590
    },
    "executionInfo": {
     "elapsed": 461,
     "status": "ok",
     "timestamp": 1644189287779,
     "user": {
      "displayName": "Dwight Zhang",
      "photoUrl": "https://lh3.googleusercontent.com/a/default-user=s64",
      "userId": "09246084198849505173"
     },
     "user_tz": 300
    },
    "id": "Gv6cNlHy4y3P",
    "outputId": "13dd7354-19c7-4f19-fae0-d105239baeae"
   },
   "outputs": [
    {
     "name": "stdout",
     "output_type": "stream",
     "text": [
      "Training Curve for Large Network: \n"
     ]
    },
    {
     "data": {
      "image/png": "[encoded data removed]",
      "text/plain": [
       "<Figure size 432x288 with 1 Axes>"
      ]
     },
     "metadata": {
      "needs_background": "light"
     },
     "output_type": "display_data"
    },
    {
     "data": {
      "image/png": "[encoded data removed]",
      "text/plain": [
       "<Figure size 432x288 with 1 Axes>"
      ]
     },
     "metadata": {
      "needs_background": "light"
     },
     "output_type": "display_data"
    }
   ],
   "source": [
    "print(\"Training Curve for Large Network: \")\n",
    "model_path_large = get_model_name(\"large\", batch_size=64, learning_rate=0.01, epoch=29)\n",
    "plot_training_curve(model_path_large)"
   ]
  },
  {
   "cell_type": "markdown",
   "metadata": {
    "id": "kUzWo8HRqIEu"
   },
   "source": [
    "### Part (f) - 5pt\n",
    "\n",
    "Describe what you notice about the training curve.\n",
    "How do the curves differ for `small_net` and `large_net`?\n",
    "Identify any occurences of underfitting and overfitting."
   ]
  },
  {
   "cell_type": "markdown",
   "metadata": {
    "id": "5_wT36nb6Atf"
   },
   "source": [
    "1. The training curve for small network has more nosie than the large netwrok training curve. The small network prediction error is less stable compare to large netwrok wihch is around 0.3\n",
    "\n",
    "2. Both model are `underfitting` before 10th epoch, since thier loss is decreasing.\n",
    "\n",
    "3. For samll netwrok, the training loss curve tends to flatten at the end and the validation loss curve flactuates around 0.6. \n",
    "\n",
    "4. However, the training loss curve in large network tends to continue decreasing and the validation loss increase at the end. After 15th epoch, the large netwrok start to memorize the training data instead looking for general parttern, this causes the model `overfitting`, and perform poorly on the validation data."
   ]
  },
  {
   "cell_type": "markdown",
   "metadata": {
    "id": "jYP_y58SqIEz"
   },
   "source": [
    "## Part 3. Optimization Parameters [12 pt]\n",
    "\n",
    "For this section, we will work with `large_net` only."
   ]
  },
  {
   "cell_type": "markdown",
   "metadata": {
    "id": "f1uGdKUIqIE1"
   },
   "source": [
    "### Part (a) - 3pt\n",
    "\n",
    "Train `large_net` with all default parameters, except set `learning_rate=0.001`.\n",
    "Does the model take longer/shorter to train?\n",
    "Plot the training curve. Describe the effect of *lowering* the learning rate."
   ]
  },
  {
   "cell_type": "code",
   "execution_count": 16,
   "metadata": {
    "colab": {
     "base_uri": "https://localhost:8080/",
     "height": 1000
    },
    "collapsed": true,
    "executionInfo": {
     "elapsed": 118344,
     "status": "ok",
     "timestamp": 1644189406118,
     "user": {
      "displayName": "Dwight Zhang",
      "photoUrl": "https://lh3.googleusercontent.com/a/default-user=s64",
      "userId": "09246084198849505173"
     },
     "user_tz": 300
    },
    "id": "b9-toERSqIE2",
    "outputId": "f03c25b4-69d6-4942-94a1-5ef50f9bced1"
   },
   "outputs": [
    {
     "name": "stdout",
     "output_type": "stream",
     "text": [
      "Files already downloaded and verified\n",
      "Files already downloaded and verified\n",
      "Epoch 1: Train err: 0.47625, Train loss: 0.6928360013961792 |Validation err: 0.467, Validation loss: 0.6924686580896378\n",
      "Epoch 2: Train err: 0.448625, Train loss: 0.6922589712142945 |Validation err: 0.4305, Validation loss: 0.691649341955781\n",
      "Epoch 3: Train err: 0.43575, Train loss: 0.6916067280769348 |Validation err: 0.4285, Validation loss: 0.690854424610734\n",
      "Epoch 4: Train err: 0.43, Train loss: 0.690861343383789 |Validation err: 0.424, Validation loss: 0.6896595880389214\n",
      "Epoch 5: Train err: 0.434125, Train loss: 0.6899195008277893 |Validation err: 0.4195, Validation loss: 0.6886935643851757\n",
      "Epoch 6: Train err: 0.43575, Train loss: 0.6887411961555481 |Validation err: 0.4195, Validation loss: 0.6867824867367744\n",
      "Epoch 7: Train err: 0.437125, Train loss: 0.6873774147033691 |Validation err: 0.4185, Validation loss: 0.6851982977241278\n",
      "Epoch 8: Train err: 0.4375, Train loss: 0.6859278454780579 |Validation err: 0.412, Validation loss: 0.683199780061841\n",
      "Epoch 9: Train err: 0.424375, Train loss: 0.6844058036804199 |Validation err: 0.411, Validation loss: 0.6808880660682917\n",
      "Epoch 10: Train err: 0.424, Train loss: 0.6828502931594849 |Validation err: 0.408, Validation loss: 0.6783502567559481\n",
      "Epoch 11: Train err: 0.425375, Train loss: 0.6812348766326904 |Validation err: 0.4125, Validation loss: 0.6780214440077543\n",
      "Epoch 12: Train err: 0.42, Train loss: 0.6796319708824158 |Validation err: 0.4125, Validation loss: 0.6753159202635288\n",
      "Epoch 13: Train err: 0.414875, Train loss: 0.6777918744087219 |Validation err: 0.415, Validation loss: 0.6757059413939714\n",
      "Epoch 14: Train err: 0.412375, Train loss: 0.6761112003326416 |Validation err: 0.412, Validation loss: 0.6739734839648008\n",
      "Epoch 15: Train err: 0.40925, Train loss: 0.674472680568695 |Validation err: 0.415, Validation loss: 0.6706762500107288\n",
      "Epoch 16: Train err: 0.406375, Train loss: 0.6727448840141297 |Validation err: 0.4105, Validation loss: 0.6707733049988747\n",
      "Epoch 17: Train err: 0.4015, Train loss: 0.6713076601028443 |Validation err: 0.4045, Validation loss: 0.6671545393764973\n",
      "Epoch 18: Train err: 0.3995, Train loss: 0.6696742882728577 |Validation err: 0.4055, Validation loss: 0.6646782550960779\n",
      "Epoch 19: Train err: 0.40075, Train loss: 0.6679086356163025 |Validation err: 0.396, Validation loss: 0.6655019577592611\n",
      "Epoch 20: Train err: 0.392375, Train loss: 0.665787980556488 |Validation err: 0.405, Validation loss: 0.6626011095941067\n",
      "Epoch 21: Train err: 0.38975, Train loss: 0.6646300601959229 |Validation err: 0.394, Validation loss: 0.660687854513526\n",
      "Epoch 22: Train err: 0.388875, Train loss: 0.662373058795929 |Validation err: 0.393, Validation loss: 0.6616998575627804\n",
      "Epoch 23: Train err: 0.38425, Train loss: 0.6601516346931458 |Validation err: 0.3975, Validation loss: 0.6573981791734695\n",
      "Epoch 24: Train err: 0.382375, Train loss: 0.6584009389877319 |Validation err: 0.386, Validation loss: 0.6561364810913801\n",
      "Epoch 25: Train err: 0.37875, Train loss: 0.6554971766471863 |Validation err: 0.388, Validation loss: 0.6552744228392839\n",
      "Epoch 26: Train err: 0.376625, Train loss: 0.6531173253059387 |Validation err: 0.3875, Validation loss: 0.6531743723899126\n",
      "Epoch 27: Train err: 0.375, Train loss: 0.6503696331977844 |Validation err: 0.387, Validation loss: 0.6519789285957813\n",
      "Epoch 28: Train err: 0.371375, Train loss: 0.6476435809135437 |Validation err: 0.3875, Validation loss: 0.6483502741903067\n",
      "Epoch 29: Train err: 0.368375, Train loss: 0.6451257643699646 |Validation err: 0.3825, Validation loss: 0.6459067314863205\n",
      "Epoch 30: Train err: 0.362625, Train loss: 0.6423329524993896 |Validation err: 0.3785, Validation loss: 0.6439237017184496\n",
      "Finished Training\n",
      "Total time elapsed: 105.70 seconds\n"
     ]
    },
    {
     "data": {
      "image/png": "[encoded data removed]",
      "text/plain": [
       "<Figure size 432x288 with 1 Axes>"
      ]
     },
     "metadata": {
      "needs_background": "light"
     },
     "output_type": "display_data"
    },
    {
     "data": {
      "image/png": "[encoded data removed]",
      "text/plain": [
       "<Figure size 432x288 with 1 Axes>"
      ]
     },
     "metadata": {
      "needs_background": "light"
     },
     "output_type": "display_data"
    }
   ],
   "source": [
    "# Note: When we re-construct the model, we start the training\n",
    "# with *random weights*. If we omit this code, the values of\n",
    "# the weights will still be the previously trained values.\n",
    "large_net = LargeNet()\n",
    "train_net(large_net, learning_rate=0.001)\n",
    "model_path = get_model_name(\"large\", batch_size=64, learning_rate=0.001, epoch=29)\n",
    "plot_training_curve(model_path)"
   ]
  },
  {
   "cell_type": "markdown",
   "metadata": {
    "id": "orkX2UUXBY-G"
   },
   "source": [
    "The large network with learning rate 0.001 takes 105.70s to train, which is about the same with the default learning rate set to 0.01.\n",
    "\n",
    "Lowering the learning rate cause the gradient decent step size to be smaller. Thus, the loss also decrese slower than defult learning rate. More iteration is needed for the model to fit the data. So within the 30 epochs, the model no longer overfitting. And the loss cruve is smoother."
   ]
  },
  {
   "cell_type": "markdown",
   "metadata": {
    "id": "5APYluUoqIE4"
   },
   "source": [
    "### Part (b) - 3pt\n",
    "\n",
    "Train `large_net` with all default parameters, except set `learning_rate=0.1`. \n",
    "Does the model take longer/shorter to train?\n",
    "Plot the training curve. Describe the effect of *increasing* the learning rate."
   ]
  },
  {
   "cell_type": "code",
   "execution_count": 24,
   "metadata": {
    "colab": {
     "base_uri": "https://localhost:8080/",
     "height": 1000
    },
    "collapsed": true,
    "executionInfo": {
     "elapsed": 121356,
     "status": "ok",
     "timestamp": 1644190339681,
     "user": {
      "displayName": "Dwight Zhang",
      "photoUrl": "https://lh3.googleusercontent.com/a/default-user=s64",
      "userId": "09246084198849505173"
     },
     "user_tz": 300
    },
    "id": "IY7GrjFxqIE5",
    "outputId": "73eb884b-7b00-42f3-9d3c-e89821807cbd"
   },
   "outputs": [
    {
     "name": "stdout",
     "output_type": "stream",
     "text": [
      "Files already downloaded and verified\n",
      "Files already downloaded and verified\n",
      "Epoch 1: Train err: 0.429875, Train loss: 0.6774088101387024 |Validation err: 0.3775, Validation loss: 0.6455792095512152\n",
      "Epoch 2: Train err: 0.370375, Train loss: 0.6423214054107667 |Validation err: 0.372, Validation loss: 0.6352040432393551\n",
      "Epoch 3: Train err: 0.34875, Train loss: 0.6196376192569732 |Validation err: 0.3415, Validation loss: 0.6430601347237825\n",
      "Epoch 4: Train err: 0.324125, Train loss: 0.5979568145275116 |Validation err: 0.333, Validation loss: 0.610279118642211\n",
      "Epoch 5: Train err: 0.314, Train loss: 0.5862722284793854 |Validation err: 0.3225, Validation loss: 0.6042228434234858\n",
      "Epoch 6: Train err: 0.297375, Train loss: 0.5696475450992584 |Validation err: 0.3015, Validation loss: 0.6132420785725117\n",
      "Epoch 7: Train err: 0.290625, Train loss: 0.5577022440433502 |Validation err: 0.3365, Validation loss: 0.6305171921849251\n",
      "Epoch 8: Train err: 0.281625, Train loss: 0.5463369660377503 |Validation err: 0.3255, Validation loss: 0.5967606641352177\n",
      "Epoch 9: Train err: 0.2795, Train loss: 0.5435807642936706 |Validation err: 0.305, Validation loss: 0.5781869115307927\n",
      "Epoch 10: Train err: 0.262625, Train loss: 0.5139408338069916 |Validation err: 0.315, Validation loss: 0.6001352677121758\n",
      "Epoch 11: Train err: 0.259875, Train loss: 0.5162296054363251 |Validation err: 0.299, Validation loss: 0.603227999061346\n",
      "Epoch 12: Train err: 0.24925, Train loss: 0.49384276795387266 |Validation err: 0.32, Validation loss: 0.6408082880079746\n",
      "Epoch 13: Train err: 0.250875, Train loss: 0.4979304687976837 |Validation err: 0.309, Validation loss: 0.6466664168983698\n",
      "Epoch 14: Train err: 0.237, Train loss: 0.47354417586326597 |Validation err: 0.3195, Validation loss: 0.622914494946599\n",
      "Epoch 15: Train err: 0.24525, Train loss: 0.4869049572944641 |Validation err: 0.3195, Validation loss: 0.6813049055635929\n",
      "Epoch 16: Train err: 0.237125, Train loss: 0.4757813708782196 |Validation err: 0.3235, Validation loss: 0.6645658612251282\n",
      "Epoch 17: Train err: 0.225875, Train loss: 0.466449147939682 |Validation err: 0.3015, Validation loss: 0.6950430879369378\n",
      "Epoch 18: Train err: 0.21725, Train loss: 0.44649123859405515 |Validation err: 0.3245, Validation loss: 0.6712270015850663\n",
      "Epoch 19: Train err: 0.211, Train loss: 0.44342145562171936 |Validation err: 0.3145, Validation loss: 0.6810687836259604\n",
      "Epoch 20: Train err: 0.220625, Train loss: 0.45217079782485964 |Validation err: 0.3215, Validation loss: 0.7467134203761816\n",
      "Epoch 21: Train err: 0.2205, Train loss: 0.4548697595596313 |Validation err: 0.3175, Validation loss: 0.749810079112649\n",
      "Epoch 22: Train err: 0.22675, Train loss: 0.47258884406089785 |Validation err: 0.345, Validation loss: 0.7450688509270549\n",
      "Epoch 23: Train err: 0.229875, Train loss: 0.48565987539291383 |Validation err: 0.3135, Validation loss: 0.7121611665934324\n",
      "Epoch 24: Train err: 0.2225, Train loss: 0.463392110824585 |Validation err: 0.3395, Validation loss: 0.7827263474464417\n",
      "Epoch 25: Train err: 0.21725, Train loss: 0.45879807925224303 |Validation err: 0.3225, Validation loss: 0.7891989406198263\n",
      "Epoch 26: Train err: 0.217, Train loss: 0.45449464201927187 |Validation err: 0.348, Validation loss: 0.7933625830337405\n",
      "Epoch 27: Train err: 0.208625, Train loss: 0.4435672554969788 |Validation err: 0.334, Validation loss: 0.8632218483835459\n",
      "Epoch 28: Train err: 0.215375, Train loss: 0.46677586483955386 |Validation err: 0.334, Validation loss: 0.7852902207523584\n",
      "Epoch 29: Train err: 0.213, Train loss: 0.44680232310295104 |Validation err: 0.348, Validation loss: 0.8328628093004227\n",
      "Epoch 30: Train err: 0.214, Train loss: 0.46140041494369505 |Validation err: 0.3365, Validation loss: 0.8854281175881624\n",
      "Finished Training\n",
      "Total time elapsed: 107.92 seconds\n"
     ]
    },
    {
     "data": {
      "image/png": "[encoded data removed]",
      "text/plain": [
       "<Figure size 432x288 with 1 Axes>"
      ]
     },
     "metadata": {
      "needs_background": "light"
     },
     "output_type": "display_data"
    },
    {
     "data": {
      "image/png": "[encoded data removed]",
      "text/plain": [
       "<Figure size 432x288 with 1 Axes>"
      ]
     },
     "metadata": {
      "needs_background": "light"
     },
     "output_type": "display_data"
    }
   ],
   "source": [
    "large_net = LargeNet()\n",
    "train_net(large_net, learning_rate=0.1)\n",
    "model_path = get_model_name(\"large\", batch_size=64, learning_rate=0.1, epoch=29)\n",
    "plot_training_curve(model_path)"
   ]
  },
  {
   "cell_type": "markdown",
   "metadata": {
    "id": "86UuRwVhJURH"
   },
   "source": [
    "The large network with learning rate 0.1 takes 107.92s to train, which is slightly higher than  the default learning rate set to 0.01. In theory, leanring rate shouldn't affect the run time, this difference might be caused by hardware.\n",
    "\n",
    "With increasing the learning rate, we are increaing the step size for each gradient decent update. So, the loss changes more rapidly. The model starts to overfit early, around 10th epoch compared to defult learning rate which is 15th epoch."
   ]
  },
  {
   "cell_type": "markdown",
   "metadata": {
    "id": "GMb-NLitqIE7"
   },
   "source": [
    "### Part (c) - 3pt\n",
    "\n",
    "Train `large_net` with all default parameters, including with `learning_rate=0.01`.\n",
    "Now, set `batch_size=512`. Does the model take longer/shorter to train?\n",
    "Plot the training curve. Describe the effect of *increasing* the batch size."
   ]
  },
  {
   "cell_type": "code",
   "execution_count": 18,
   "metadata": {
    "colab": {
     "base_uri": "https://localhost:8080/",
     "height": 1000
    },
    "collapsed": true,
    "executionInfo": {
     "elapsed": 110023,
     "status": "ok",
     "timestamp": 1644189642237,
     "user": {
      "displayName": "Dwight Zhang",
      "photoUrl": "https://lh3.googleusercontent.com/a/default-user=s64",
      "userId": "09246084198849505173"
     },
     "user_tz": 300
    },
    "id": "WHRzqMAcqIE8",
    "outputId": "c921ece5-8025-48ca-c823-622ed0a830f0"
   },
   "outputs": [
    {
     "name": "stdout",
     "output_type": "stream",
     "text": [
      "Files already downloaded and verified\n",
      "Files already downloaded and verified\n",
      "Epoch 1: Train err: 0.48175, Train loss: 0.6929379552602768 |Validation err: 0.478, Validation loss: 0.6926824003458023\n",
      "Epoch 2: Train err: 0.457625, Train loss: 0.6924104019999504 |Validation err: 0.434, Validation loss: 0.6917425245046616\n",
      "Epoch 3: Train err: 0.437, Train loss: 0.6916500590741634 |Validation err: 0.4265, Validation loss: 0.6909129917621613\n",
      "Epoch 4: Train err: 0.433625, Train loss: 0.6908449940383434 |Validation err: 0.424, Validation loss: 0.6897870451211929\n",
      "Epoch 5: Train err: 0.434, Train loss: 0.6896935552358627 |Validation err: 0.424, Validation loss: 0.6881355047225952\n",
      "Epoch 6: Train err: 0.438, Train loss: 0.688353206962347 |Validation err: 0.4285, Validation loss: 0.686011865735054\n",
      "Epoch 7: Train err: 0.439375, Train loss: 0.6866871677339077 |Validation err: 0.426, Validation loss: 0.6836968809366226\n",
      "Epoch 8: Train err: 0.43525, Train loss: 0.6849770769476891 |Validation err: 0.4115, Validation loss: 0.6814671903848648\n",
      "Epoch 9: Train err: 0.42375, Train loss: 0.6832009293138981 |Validation err: 0.414, Validation loss: 0.679591491818428\n",
      "Epoch 10: Train err: 0.421, Train loss: 0.6811089366674423 |Validation err: 0.416, Validation loss: 0.6771548539400101\n",
      "Epoch 11: Train err: 0.420875, Train loss: 0.6794026419520378 |Validation err: 0.4095, Validation loss: 0.6748111099004745\n",
      "Epoch 12: Train err: 0.41475, Train loss: 0.6768048219382763 |Validation err: 0.412, Validation loss: 0.6737060546875\n",
      "Epoch 13: Train err: 0.4105, Train loss: 0.6749702803790569 |Validation err: 0.412, Validation loss: 0.6706101596355438\n",
      "Epoch 14: Train err: 0.407125, Train loss: 0.6730880849063396 |Validation err: 0.4125, Validation loss: 0.6692148000001907\n",
      "Epoch 15: Train err: 0.4005, Train loss: 0.6706806942820549 |Validation err: 0.4105, Validation loss: 0.667252704501152\n",
      "Epoch 16: Train err: 0.397625, Train loss: 0.6691771410405636 |Validation err: 0.405, Validation loss: 0.6649097055196762\n",
      "Epoch 17: Train err: 0.393875, Train loss: 0.6675694733858109 |Validation err: 0.401, Validation loss: 0.6630224883556366\n",
      "Epoch 18: Train err: 0.393, Train loss: 0.6648042872548103 |Validation err: 0.3945, Validation loss: 0.6624014377593994\n",
      "Epoch 19: Train err: 0.38625, Train loss: 0.662746611982584 |Validation err: 0.388, Validation loss: 0.6597220152616501\n",
      "Epoch 20: Train err: 0.38175, Train loss: 0.6596181839704514 |Validation err: 0.4005, Validation loss: 0.6564337313175201\n",
      "Epoch 21: Train err: 0.38575, Train loss: 0.6584899798035622 |Validation err: 0.3885, Validation loss: 0.6586423963308334\n",
      "Epoch 22: Train err: 0.378125, Train loss: 0.655123382806778 |Validation err: 0.3855, Validation loss: 0.6528600305318832\n",
      "Epoch 23: Train err: 0.372125, Train loss: 0.6508794128894806 |Validation err: 0.3835, Validation loss: 0.6497963815927505\n",
      "Epoch 24: Train err: 0.37675, Train loss: 0.6488028429448605 |Validation err: 0.385, Validation loss: 0.6474899500608444\n",
      "Epoch 25: Train err: 0.368625, Train loss: 0.6445869170129299 |Validation err: 0.382, Validation loss: 0.6473268568515778\n",
      "Epoch 26: Train err: 0.372625, Train loss: 0.6428566053509712 |Validation err: 0.3745, Validation loss: 0.6425703465938568\n",
      "Epoch 27: Train err: 0.359375, Train loss: 0.6372117549180984 |Validation err: 0.379, Validation loss: 0.6397799849510193\n",
      "Epoch 28: Train err: 0.35425, Train loss: 0.6337667480111122 |Validation err: 0.3695, Validation loss: 0.6403783112764359\n",
      "Epoch 29: Train err: 0.3535, Train loss: 0.6311353109776974 |Validation err: 0.366, Validation loss: 0.6335585117340088\n",
      "Epoch 30: Train err: 0.353, Train loss: 0.6283832415938377 |Validation err: 0.3675, Validation loss: 0.6324127316474915\n",
      "Finished Training\n",
      "Total time elapsed: 96.38 seconds\n"
     ]
    },
    {
     "data": {
      "image/png": "[encoded data removed]",
      "text/plain": [
       "<Figure size 432x288 with 1 Axes>"
      ]
     },
     "metadata": {
      "needs_background": "light"
     },
     "output_type": "display_data"
    },
    {
     "data": {
      "image/png": "[encoded data removed]",
      "text/plain": [
       "<Figure size 432x288 with 1 Axes>"
      ]
     },
     "metadata": {
      "needs_background": "light"
     },
     "output_type": "display_data"
    }
   ],
   "source": [
    "large_net = LargeNet()\n",
    "train_net(large_net, batch_size=512)\n",
    "model_path = get_model_name(\"large\", batch_size=512, learning_rate=0.01, epoch=29)\n",
    "plot_training_curve(model_path)"
   ]
  },
  {
   "cell_type": "markdown",
   "metadata": {
    "id": "ZK7szPxdOMWl"
   },
   "source": [
    "The large network with batch size 512 takes 96.38s to train, which is less than the default batch size set to 64.\n",
    "\n",
    "Increasing the batch size decreases the training time per epoch, and the loss decrease slower than small batch size. With 30 epochs the loss is higher than the btch size of 64. So it takes more epochs to coverge to the minimum loss. Thus, the overfitting does not occur here, but from the previous analysis the loss will continue decreasing if more epochs is given, so the model here underfits the data."
   ]
  },
  {
   "cell_type": "markdown",
   "metadata": {
    "id": "DwvN15IzqIE-"
   },
   "source": [
    "### Part (d) - 3pt\n",
    "\n",
    "Train `large_net` with all default parameters, including with `learning_rate=0.01`.\n",
    "Now, set `batch_size=16`. Does the model take longer/shorter to train?\n",
    "Plot the training curve. Describe the effect of *decreasing* the batch size."
   ]
  },
  {
   "cell_type": "code",
   "execution_count": 19,
   "metadata": {
    "colab": {
     "base_uri": "https://localhost:8080/",
     "height": 1000
    },
    "collapsed": true,
    "executionInfo": {
     "elapsed": 160678,
     "status": "ok",
     "timestamp": 1644189802906,
     "user": {
      "displayName": "Dwight Zhang",
      "photoUrl": "https://lh3.googleusercontent.com/a/default-user=s64",
      "userId": "09246084198849505173"
     },
     "user_tz": 300
    },
    "id": "E0SKvrNGqIE-",
    "outputId": "ecab09a3-d9ea-4106-ef3c-ae6acc89d333"
   },
   "outputs": [
    {
     "name": "stdout",
     "output_type": "stream",
     "text": [
      "Files already downloaded and verified\n",
      "Files already downloaded and verified\n",
      "Epoch 1: Train err: 0.43175, Train loss: 0.6774994022846222 |Validation err: 0.382, Validation loss: 0.6513170118331909\n",
      "Epoch 2: Train err: 0.369, Train loss: 0.639639899969101 |Validation err: 0.3465, Validation loss: 0.6161113576889038\n",
      "Epoch 3: Train err: 0.34375, Train loss: 0.6098222947120666 |Validation err: 0.3325, Validation loss: 0.6260210764408112\n",
      "Epoch 4: Train err: 0.314375, Train loss: 0.5849691489338875 |Validation err: 0.34, Validation loss: 0.6044013917446136\n",
      "Epoch 5: Train err: 0.301125, Train loss: 0.5689119303822517 |Validation err: 0.3125, Validation loss: 0.576918310880661\n",
      "Epoch 6: Train err: 0.281, Train loss: 0.5452213581204415 |Validation err: 0.308, Validation loss: 0.5708447456359863\n",
      "Epoch 7: Train err: 0.270875, Train loss: 0.5272981298565864 |Validation err: 0.307, Validation loss: 0.5854293291568756\n",
      "Epoch 8: Train err: 0.259375, Train loss: 0.5070905526578426 |Validation err: 0.313, Validation loss: 0.5877130818367005\n",
      "Epoch 9: Train err: 0.242375, Train loss: 0.4968344421982765 |Validation err: 0.313, Validation loss: 0.5922425072193146\n",
      "Epoch 10: Train err: 0.236375, Train loss: 0.4756101597249508 |Validation err: 0.297, Validation loss: 0.5718690166473389\n",
      "Epoch 11: Train err: 0.222125, Train loss: 0.4599769461452961 |Validation err: 0.2975, Validation loss: 0.6376970833539963\n",
      "Epoch 12: Train err: 0.211, Train loss: 0.4454492371380329 |Validation err: 0.2995, Validation loss: 0.609202565908432\n",
      "Epoch 13: Train err: 0.19875, Train loss: 0.4245421719551086 |Validation err: 0.3075, Validation loss: 0.6494987765550614\n",
      "Epoch 14: Train err: 0.18675, Train loss: 0.4007472907453775 |Validation err: 0.3085, Validation loss: 0.6610016552209854\n",
      "Epoch 15: Train err: 0.1645, Train loss: 0.3759974058121443 |Validation err: 0.3105, Validation loss: 0.7106090537309646\n",
      "Epoch 16: Train err: 0.16125, Train loss: 0.3591455406397581 |Validation err: 0.3005, Validation loss: 0.7310364942550659\n",
      "Epoch 17: Train err: 0.15775, Train loss: 0.3463234790861607 |Validation err: 0.307, Validation loss: 0.7263009325265884\n",
      "Epoch 18: Train err: 0.141625, Train loss: 0.32175366275012496 |Validation err: 0.3195, Validation loss: 0.7913952842950821\n",
      "Epoch 19: Train err: 0.13375, Train loss: 0.30618105667084455 |Validation err: 0.335, Validation loss: 0.8032052783966065\n",
      "Epoch 20: Train err: 0.126625, Train loss: 0.3029071792438626 |Validation err: 0.32, Validation loss: 0.8106685240268707\n",
      "Epoch 21: Train err: 0.12025, Train loss: 0.28682796490937473 |Validation err: 0.3205, Validation loss: 0.8259474284648896\n",
      "Epoch 22: Train err: 0.1165, Train loss: 0.27489088076353074 |Validation err: 0.352, Validation loss: 0.8937610774040222\n",
      "Epoch 23: Train err: 0.104375, Train loss: 0.2467898527495563 |Validation err: 0.3315, Validation loss: 1.0021928198337555\n",
      "Epoch 24: Train err: 0.101, Train loss: 0.23970085787773132 |Validation err: 0.331, Validation loss: 1.1290796399116516\n",
      "Epoch 25: Train err: 0.09575, Train loss: 0.23643119425699116 |Validation err: 0.3315, Validation loss: 1.1338514368534087\n",
      "Epoch 26: Train err: 0.094125, Train loss: 0.2325953512713313 |Validation err: 0.3365, Validation loss: 1.1414263204336166\n",
      "Epoch 27: Train err: 0.08425, Train loss: 0.21040759468451142 |Validation err: 0.3335, Validation loss: 1.1823678107261657\n",
      "Epoch 28: Train err: 0.0825, Train loss: 0.20643112615589052 |Validation err: 0.323, Validation loss: 1.266836181640625\n",
      "Epoch 29: Train err: 0.0845, Train loss: 0.21273409337876364 |Validation err: 0.3245, Validation loss: 1.406717705130577\n",
      "Epoch 30: Train err: 0.071375, Train loss: 0.18387044295761734 |Validation err: 0.345, Validation loss: 1.4871552000045776\n",
      "Finished Training\n",
      "Total time elapsed: 148.96 seconds\n"
     ]
    },
    {
     "data": {
      "image/png": "[encoded data removed]",
      "text/plain": [
       "<Figure size 432x288 with 1 Axes>"
      ]
     },
     "metadata": {
      "needs_background": "light"
     },
     "output_type": "display_data"
    },
    {
     "data": {
      "image/png": "[encoded data removed]",
      "text/plain": [
       "<Figure size 432x288 with 1 Axes>"
      ]
     },
     "metadata": {
      "needs_background": "light"
     },
     "output_type": "display_data"
    }
   ],
   "source": [
    "large_net = LargeNet()\n",
    "train_net(large_net, batch_size=16)\n",
    "model_path = get_model_name(\"large\", batch_size=16, learning_rate=0.01, epoch=29)\n",
    "plot_training_curve(model_path)"
   ]
  },
  {
   "cell_type": "markdown",
   "metadata": {
    "id": "sDLbtnrnTCpD"
   },
   "source": [
    "The large network with batch size 16 takes 148.96s to train, which is more than the default batch size set to 64.\n",
    "\n",
    "Decresing the batch size increase the training time per epoch as more iterations in each epoch.  The loss decrease faster than large batch size. It takes less epochs to coverge to the minimum loss. With 5 epochs the validation loss reaches the minimium. And after 5 epochs the model starts to overfit the data."
   ]
  },
  {
   "cell_type": "markdown",
   "metadata": {
    "id": "1MkpZLc4qIFA"
   },
   "source": [
    "## Part 4. Hyperparameter Search [6 pt]\n",
    "\n",
    "### Part (a) - 2pt\n",
    "\n",
    "Based on the plots from above, choose another set of values for the hyperparameters (network, batch_size, learning_rate)\n",
    "that you think would help you improve the validation accuracy. Justify your choice."
   ]
  },
  {
   "cell_type": "markdown",
   "metadata": {
    "id": "V4aQbEoRZbHe"
   },
   "source": [
    "I choose `large network` as it has more parameters.  In part2 e) compare with small network the accuracy of large network is more stable. The `batch size` is set to be `48` as with `learning rate=0.001`, the model no longer overfit the data and acutally underfit the data, so change the batch size to 32 to decrease the loss faster.\n",
    "\n",
    "\n",
    "\n",
    "```\n",
    "\"large\", batch_size=48, learning_rate=0.001, epoch=29\n",
    "```\n",
    "\n",
    "\n",
    "\n"
   ]
  },
  {
   "cell_type": "markdown",
   "metadata": {
    "id": "fTLRs2f7qIFD"
   },
   "source": [
    "### Part (b) - 1pt\n",
    "\n",
    "Train the model with the hyperparameters you chose in part(a), and include the training curve."
   ]
  },
  {
   "cell_type": "code",
   "execution_count": 36,
   "metadata": {
    "colab": {
     "base_uri": "https://localhost:8080/",
     "height": 1000
    },
    "executionInfo": {
     "elapsed": 133463,
     "status": "ok",
     "timestamp": 1644193602520,
     "user": {
      "displayName": "Dwight Zhang",
      "photoUrl": "https://lh3.googleusercontent.com/a/default-user=s64",
      "userId": "09246084198849505173"
     },
     "user_tz": 300
    },
    "id": "1E7BXfMhg1cr",
    "outputId": "73762ba5-a767-4c86-c2a9-93e9bf345fe0"
   },
   "outputs": [
    {
     "name": "stdout",
     "output_type": "stream",
     "text": [
      "Files already downloaded and verified\n",
      "Files already downloaded and verified\n",
      "Epoch 1: Train err: 0.465875, Train loss: 0.6902771799150341 |Validation err: 0.454, Validation loss: 0.6897844487712497\n",
      "Epoch 2: Train err: 0.459875, Train loss: 0.6883967964949008 |Validation err: 0.4455, Validation loss: 0.6882136052563077\n",
      "Epoch 3: Train err: 0.447625, Train loss: 0.6869142137601704 |Validation err: 0.4475, Validation loss: 0.6870673852307456\n",
      "Epoch 4: Train err: 0.4465, Train loss: 0.6855407978246312 |Validation err: 0.4485, Validation loss: 0.685354715301877\n",
      "Epoch 5: Train err: 0.4425, Train loss: 0.6844560475406533 |Validation err: 0.442, Validation loss: 0.6844942442008427\n",
      "Epoch 6: Train err: 0.440625, Train loss: 0.683167673870475 |Validation err: 0.434, Validation loss: 0.6834605307806105\n",
      "Epoch 7: Train err: 0.4385, Train loss: 0.6819743903097278 |Validation err: 0.431, Validation loss: 0.6823460970606122\n",
      "Epoch 8: Train err: 0.435375, Train loss: 0.6804621947739653 |Validation err: 0.424, Validation loss: 0.6808565457661947\n",
      "Epoch 9: Train err: 0.428125, Train loss: 0.6792220616055106 |Validation err: 0.438, Validation loss: 0.6793311380204701\n",
      "Epoch 10: Train err: 0.426375, Train loss: 0.6776544294671384 |Validation err: 0.43, Validation loss: 0.6774299428576515\n",
      "Epoch 11: Train err: 0.422625, Train loss: 0.6755709062793298 |Validation err: 0.4165, Validation loss: 0.6758758411521003\n",
      "Epoch 12: Train err: 0.417875, Train loss: 0.6734948964889892 |Validation err: 0.4155, Validation loss: 0.6728834836255937\n",
      "Epoch 13: Train err: 0.41325, Train loss: 0.6718365714221657 |Validation err: 0.409, Validation loss: 0.6710857053597769\n",
      "Epoch 14: Train err: 0.41075, Train loss: 0.668945980643084 |Validation err: 0.413, Validation loss: 0.6691220175652277\n",
      "Epoch 15: Train err: 0.40725, Train loss: 0.6672449058401371 |Validation err: 0.4025, Validation loss: 0.6696656119255793\n",
      "Epoch 16: Train err: 0.403125, Train loss: 0.6634503945619047 |Validation err: 0.403, Validation loss: 0.6645684455122266\n",
      "Epoch 17: Train err: 0.39475, Train loss: 0.6609572275669989 |Validation err: 0.3995, Validation loss: 0.6622020900249481\n",
      "Epoch 18: Train err: 0.38825, Train loss: 0.6575621702000053 |Validation err: 0.39, Validation loss: 0.6587252702031817\n",
      "Epoch 19: Train err: 0.378, Train loss: 0.6527982561174267 |Validation err: 0.386, Validation loss: 0.6590856044065385\n",
      "Epoch 20: Train err: 0.37925, Train loss: 0.6504839940699275 |Validation err: 0.379, Validation loss: 0.6519821215243566\n",
      "Epoch 21: Train err: 0.374375, Train loss: 0.644917949944913 |Validation err: 0.3705, Validation loss: 0.6500310713336581\n",
      "Epoch 22: Train err: 0.361, Train loss: 0.6396026529237896 |Validation err: 0.372, Validation loss: 0.6465990259533837\n",
      "Epoch 23: Train err: 0.35925, Train loss: 0.6360203688016195 |Validation err: 0.365, Validation loss: 0.6429444764341626\n",
      "Epoch 24: Train err: 0.358125, Train loss: 0.6309677633696688 |Validation err: 0.3655, Validation loss: 0.6397095932846978\n",
      "Epoch 25: Train err: 0.347875, Train loss: 0.6257170222833485 |Validation err: 0.3575, Validation loss: 0.6362234226294926\n",
      "Epoch 26: Train err: 0.342625, Train loss: 0.6201113424972146 |Validation err: 0.354, Validation loss: 0.6327368673824129\n",
      "Epoch 27: Train err: 0.339875, Train loss: 0.6185789950593503 |Validation err: 0.3615, Validation loss: 0.6450146110284896\n",
      "Epoch 28: Train err: 0.33475, Train loss: 0.6156785224012272 |Validation err: 0.3555, Validation loss: 0.6315506824425289\n",
      "Epoch 29: Train err: 0.3345, Train loss: 0.6117072073285451 |Validation err: 0.344, Validation loss: 0.6277339132059188\n",
      "Epoch 30: Train err: 0.330375, Train loss: 0.6094326426882943 |Validation err: 0.3495, Validation loss: 0.6327884296576182\n",
      "Finished Training\n",
      "Total time elapsed: 120.38 seconds\n"
     ]
    },
    {
     "data": {
      "image/png": "[encoded data removed]",
      "text/plain": [
       "<Figure size 432x288 with 1 Axes>"
      ]
     },
     "metadata": {
      "needs_background": "light"
     },
     "output_type": "display_data"
    },
    {
     "data": {
      "image/png": "[encoded data removed]",
      "text/plain": [
       "<Figure size 432x288 with 1 Axes>"
      ]
     },
     "metadata": {
      "needs_background": "light"
     },
     "output_type": "display_data"
    }
   ],
   "source": [
    "large_net = LargeNet()\n",
    "train_net(large_net, batch_size=48, learning_rate=0.001)\n",
    "model_path = get_model_name(\"large\", batch_size=48, learning_rate=0.001, epoch=29)\n",
    "plot_training_curve(model_path)"
   ]
  },
  {
   "cell_type": "markdown",
   "metadata": {
    "id": "ZsO4z7JJqIFF"
   },
   "source": [
    "### Part (c) - 2pt\n",
    "\n",
    "Based on your result from Part(a), suggest another set of hyperparameter values to try. \n",
    "Justify your choice."
   ]
  },
  {
   "cell_type": "markdown",
   "metadata": {
    "id": "uOlJE5QKvx3y"
   },
   "source": [
    "Based on the results above, we can see that the loss tends continue go done atfer 30th epoch. We might still in usderfitting condition. So increase the learning rate to 0.008 to allow the loss decrease faster.\n",
    "\n",
    "\n",
    "\n",
    "```\n",
    "\"large\", batch_size=48, learning_rate=0.008, epoch=29\n",
    "```\n",
    "\n"
   ]
  },
  {
   "cell_type": "markdown",
   "metadata": {
    "id": "VrMyc5QnqIFI"
   },
   "source": [
    "### Part (d) - 1pt\n",
    "\n",
    "Train the model with the hyperparameters you chose in part(c), and include the training curve."
   ]
  },
  {
   "cell_type": "code",
   "execution_count": 38,
   "metadata": {
    "colab": {
     "base_uri": "https://localhost:8080/",
     "height": 1000
    },
    "executionInfo": {
     "elapsed": 145382,
     "status": "ok",
     "timestamp": 1644193887890,
     "user": {
      "displayName": "Dwight Zhang",
      "photoUrl": "https://lh3.googleusercontent.com/a/default-user=s64",
      "userId": "09246084198849505173"
     },
     "user_tz": 300
    },
    "id": "z1SmXdypk_wH",
    "outputId": "21764ccd-91d7-4eb4-b4db-7521c8e76e39"
   },
   "outputs": [
    {
     "name": "stdout",
     "output_type": "stream",
     "text": [
      "Files already downloaded and verified\n",
      "Files already downloaded and verified\n",
      "Epoch 1: Train err: 0.446875, Train loss: 0.6894589002260905 |Validation err: 0.423, Validation loss: 0.6795255257969811\n",
      "Epoch 2: Train err: 0.414, Train loss: 0.676577011268296 |Validation err: 0.4265, Validation loss: 0.6782508194446564\n",
      "Epoch 3: Train err: 0.396875, Train loss: 0.6640416276669074 |Validation err: 0.3875, Validation loss: 0.6488627919128963\n",
      "Epoch 4: Train err: 0.3735, Train loss: 0.6450005484198382 |Validation err: 0.396, Validation loss: 0.6577282491184416\n",
      "Epoch 5: Train err: 0.35475, Train loss: 0.6262036201482761 |Validation err: 0.3375, Validation loss: 0.6190480745974041\n",
      "Epoch 6: Train err: 0.333625, Train loss: 0.6069801569341899 |Validation err: 0.3385, Validation loss: 0.6170131592523485\n",
      "Epoch 7: Train err: 0.318, Train loss: 0.592918837498762 |Validation err: 0.326, Validation loss: 0.6022339427754992\n",
      "Epoch 8: Train err: 0.31125, Train loss: 0.5773530993276014 |Validation err: 0.332, Validation loss: 0.601275296438308\n",
      "Epoch 9: Train err: 0.298625, Train loss: 0.5651401420553287 |Validation err: 0.327, Validation loss: 0.5981446071749642\n",
      "Epoch 10: Train err: 0.29075, Train loss: 0.5539112201707805 |Validation err: 0.3115, Validation loss: 0.5922250676722753\n",
      "Epoch 11: Train err: 0.27725, Train loss: 0.540088696929509 |Validation err: 0.302, Validation loss: 0.5914468524001893\n",
      "Epoch 12: Train err: 0.273875, Train loss: 0.5332533331688293 |Validation err: 0.301, Validation loss: 0.5886305421590805\n",
      "Epoch 13: Train err: 0.26625, Train loss: 0.5228268454174796 |Validation err: 0.3045, Validation loss: 0.5778541061140242\n",
      "Epoch 14: Train err: 0.258, Train loss: 0.5134726534346621 |Validation err: 0.299, Validation loss: 0.5938741174482164\n",
      "Epoch 15: Train err: 0.253125, Train loss: 0.5049791177232822 |Validation err: 0.3025, Validation loss: 0.6046801181066603\n",
      "Epoch 16: Train err: 0.24575, Train loss: 0.4928625779237576 |Validation err: 0.304, Validation loss: 0.5877096269811902\n",
      "Epoch 17: Train err: 0.240875, Train loss: 0.4896312712909219 |Validation err: 0.2985, Validation loss: 0.5856657517807824\n",
      "Epoch 18: Train err: 0.2275, Train loss: 0.4683813756097577 |Validation err: 0.2995, Validation loss: 0.5986611608948026\n",
      "Epoch 19: Train err: 0.226625, Train loss: 0.464614309593589 |Validation err: 0.317, Validation loss: 0.6057901495978946\n",
      "Epoch 20: Train err: 0.2185, Train loss: 0.44993028009009217 |Validation err: 0.319, Validation loss: 0.6642456977140336\n",
      "Epoch 21: Train err: 0.21175, Train loss: 0.4473175297597211 |Validation err: 0.2865, Validation loss: 0.6065797394230252\n",
      "Epoch 22: Train err: 0.205, Train loss: 0.42787716220952793 |Validation err: 0.295, Validation loss: 0.6171613917464301\n",
      "Epoch 23: Train err: 0.19875, Train loss: 0.41793677451724776 |Validation err: 0.29, Validation loss: 0.6170121481021246\n",
      "Epoch 24: Train err: 0.197125, Train loss: 0.41162917464079257 |Validation err: 0.3175, Validation loss: 0.6670835479384377\n",
      "Epoch 25: Train err: 0.183375, Train loss: 0.392334973829949 |Validation err: 0.29, Validation loss: 0.6315233139764695\n",
      "Epoch 26: Train err: 0.177, Train loss: 0.38581255363846967 |Validation err: 0.2995, Validation loss: 0.6574499720618838\n",
      "Epoch 27: Train err: 0.16925, Train loss: 0.3709102989492302 |Validation err: 0.298, Validation loss: 0.6826337831360954\n",
      "Epoch 28: Train err: 0.169625, Train loss: 0.3634426076255159 |Validation err: 0.323, Validation loss: 0.6822533529429209\n",
      "Epoch 29: Train err: 0.155375, Train loss: 0.3452409786021638 |Validation err: 0.3165, Validation loss: 0.7919917220161075\n",
      "Epoch 30: Train err: 0.141, Train loss: 0.32287574902979915 |Validation err: 0.31, Validation loss: 0.7200098165443966\n",
      "Finished Training\n",
      "Total time elapsed: 132.62 seconds\n"
     ]
    },
    {
     "data": {
      "image/png": "[encoded data removed]",
      "text/plain": [
       "<Figure size 432x288 with 1 Axes>"
      ]
     },
     "metadata": {
      "needs_background": "light"
     },
     "output_type": "display_data"
    },
    {
     "data": {
      "image/png": "[encoded data removed]",
      "text/plain": [
       "<Figure size 432x288 with 1 Axes>"
      ]
     },
     "metadata": {
      "needs_background": "light"
     },
     "output_type": "display_data"
    }
   ],
   "source": [
    "large_net = LargeNet()\n",
    "train_net(large_net, batch_size=48, learning_rate=0.008)\n",
    "model_path = get_model_name(\"large\", batch_size=48, learning_rate=0.008, epoch=29)\n",
    "plot_training_curve(model_path)"
   ]
  },
  {
   "cell_type": "markdown",
   "metadata": {
    "id": "1kQB1IFuqIFN"
   },
   "source": [
    "## Part 4. Evaluating the Best Model [15 pt]\n"
   ]
  },
  {
   "cell_type": "markdown",
   "metadata": {
    "id": "Xxje12xKqIFN"
   },
   "source": [
    "### Part (a) - 1pt\n",
    "\n",
    "Choose the **best** model that you have so far. This means choosing the best model checkpoint,\n",
    "including the choice of `small_net` vs `large_net`, the `batch_size`, `learning_rate`, \n",
    "**and the epoch number**.\n",
    "\n",
    "Modify the code below to load your chosen set of weights to the model object `net`."
   ]
  },
  {
   "cell_type": "markdown",
   "metadata": {
    "id": "CEo7zf3ynzfp"
   },
   "source": [
    "Best model info: Epoch 21: Train err: 0.21175, Train loss: 0.4473175297597211 |Validation err: 0.2865, Validation loss: 0.6065797394230252.\n",
    "\n",
    "With hyperparameter: \"large\", batch_size=48, learning_rate=0.008, epoch=29"
   ]
  },
  {
   "cell_type": "code",
   "execution_count": 46,
   "metadata": {
    "colab": {
     "base_uri": "https://localhost:8080/"
    },
    "collapsed": true,
    "executionInfo": {
     "elapsed": 2,
     "status": "ok",
     "timestamp": 1644195979629,
     "user": {
      "displayName": "Dwight Zhang",
      "photoUrl": "https://lh3.googleusercontent.com/a/default-user=s64",
      "userId": "09246084198849505173"
     },
     "user_tz": 300
    },
    "id": "AanLwIAEqIFO",
    "outputId": "ac3950f0-9261-45ba-b917-e4eb6c4bcc48"
   },
   "outputs": [
    {
     "data": {
      "text/plain": [
       "<All keys matched successfully>"
      ]
     },
     "execution_count": 46,
     "metadata": {},
     "output_type": "execute_result"
    }
   ],
   "source": [
    "net = LargeNet()\n",
    "model_path = get_model_name(net.name, batch_size=48, learning_rate=0.008, epoch=20)\n",
    "state = torch.load(model_path)\n",
    "net.load_state_dict(state)"
   ]
  },
  {
   "cell_type": "markdown",
   "metadata": {
    "id": "vXXwLMIXqIFS"
   },
   "source": [
    "### Part (b) - 2pt\n",
    "\n",
    "Justify your choice of model from part (a)."
   ]
  },
  {
   "cell_type": "markdown",
   "metadata": {
    "id": "TH9IZ-1bgVyX"
   },
   "source": [
    "The model chosen from part (a) is based on the lowest validation accuracy. Since validation accuracy best reflects model's perfomance. The best validation accuracy happens at epoch 21, with large network, batch size = 8 , and learning rate of 0.008"
   ]
  },
  {
   "cell_type": "markdown",
   "metadata": {
    "id": "S0GE8Z5kqIFU"
   },
   "source": [
    "### Part (c) - 2pt\n",
    "\n",
    "Using the code in Part 0, any code from lecture notes, or any code that you write,\n",
    "compute and report the **test classification error** for your chosen model."
   ]
  },
  {
   "cell_type": "code",
   "execution_count": 52,
   "metadata": {
    "colab": {
     "base_uri": "https://localhost:8080/"
    },
    "collapsed": true,
    "executionInfo": {
     "elapsed": 13884,
     "status": "ok",
     "timestamp": 1644197372837,
     "user": {
      "displayName": "Dwight Zhang",
      "photoUrl": "https://lh3.googleusercontent.com/a/default-user=s64",
      "userId": "09246084198849505173"
     },
     "user_tz": 300
    },
    "id": "wPUe9iomqIFV",
    "outputId": "300fa108-bc59-44d5-f756-b80f5a8eb0da"
   },
   "outputs": [
    {
     "name": "stdout",
     "output_type": "stream",
     "text": [
      "Files already downloaded and verified\n",
      "Files already downloaded and verified\n",
      "Test error is 0.291 \n",
      "Test loss is 0.588240860030055\n"
     ]
    }
   ],
   "source": [
    "# If you use the `evaluate` function provided in part 0, you will need to \n",
    "# set batch_size > 1\n",
    "train_loader, val_loader, test_loader, classes = get_data_loader(\n",
    "    target_classes=[\"cat\", \"dog\"], \n",
    "    batch_size=64)\n",
    "\n",
    "criterion = nn.BCEWithLogitsLoss()\n",
    "error, loss = evaluate(net, test_loader, criterion)\n",
    "print(\"Test error is\", error, \"\\nTest loss is\", loss)"
   ]
  },
  {
   "cell_type": "markdown",
   "metadata": {
    "id": "RXK0XaayqIFY"
   },
   "source": [
    "### Part (d) - 3pt\n",
    "\n",
    "How does the test classification error compare with the **validation error**?\n",
    "Explain why you would expect the test error to be *higher* than the validation error."
   ]
  },
  {
   "cell_type": "markdown",
   "metadata": {
    "id": "alHZoHt0lwAn"
   },
   "source": [
    "The test classification error (0.291) is larger then the validation error (0.2865). This makes sense since we tuned the hyperprameter using the validation data to minized the validation error. However, the test data is new, the model never seen it before, so it is resonable to have a higher test error than validation error."
   ]
  },
  {
   "cell_type": "markdown",
   "metadata": {
    "id": "GMA9b8vXqIFd"
   },
   "source": [
    "### Part (e) - 2pt\n",
    "\n",
    "Why did we only use the test data set at the very end?\n",
    "Why is it important that we use the test data as little as possible?"
   ]
  },
  {
   "cell_type": "markdown",
   "metadata": {
    "id": "gUTi2hPpuJUA"
   },
   "source": [
    "Because the test data is used to evaluate the model performance. Evatually the model is used to make prediction on data it never seen before. Model never see the test data before, so it best relect the true performance of our model. We should use test data as little as possible to avoid bias towards test data."
   ]
  },
  {
   "cell_type": "markdown",
   "metadata": {
    "id": "hxG0sYDZM2KR"
   },
   "source": [
    "### Part (f) - 5pt\n",
    "\n",
    "How does the your best CNN model compare with an 2-layer ANN model (no convolutional layers) on classifying cat and dog images. You can use a 2-layer ANN architecture similar to what you used in Lab 1. You should explore different hyperparameter settings to determine how well you can do on the validation dataset. Once satisified with the performance, you may test it out on the test data.\n",
    "\n",
    "Hint: The ANN in lab 1 was applied on greyscale images. The cat and dog images are colour (RGB) and so you will need to flatted and concatinate all three colour layers before feeding them into an ANN."
   ]
  },
  {
   "cell_type": "code",
   "execution_count": 61,
   "metadata": {
    "colab": {
     "base_uri": "https://localhost:8080/",
     "height": 1000
    },
    "collapsed": true,
    "executionInfo": {
     "elapsed": 85430,
     "status": "ok",
     "timestamp": 1644199327491,
     "user": {
      "displayName": "Dwight Zhang",
      "photoUrl": "https://lh3.googleusercontent.com/a/default-user=s64",
      "userId": "09246084198849505173"
     },
     "user_tz": 300
    },
    "id": "pjI2Zw9jqIFg",
    "outputId": "47cd8b6a-8d43-4e19-b0e6-e775c79b3205"
   },
   "outputs": [
    {
     "name": "stdout",
     "output_type": "stream",
     "text": [
      "Files already downloaded and verified\n",
      "Files already downloaded and verified\n",
      "Epoch 1: Train err: 0.46225, Train loss: 0.686483733355999 |Validation err: 0.4225, Validation loss: 0.6698470413684845\n",
      "Epoch 2: Train err: 0.407125, Train loss: 0.6663705669343472 |Validation err: 0.4125, Validation loss: 0.6618904322385788\n",
      "Epoch 3: Train err: 0.39525, Train loss: 0.6577615700662136 |Validation err: 0.3935, Validation loss: 0.6575726717710495\n",
      "Epoch 4: Train err: 0.38875, Train loss: 0.6512909345328808 |Validation err: 0.3885, Validation loss: 0.654167115688324\n",
      "Epoch 5: Train err: 0.381, Train loss: 0.6452072784304619 |Validation err: 0.3875, Validation loss: 0.6519339829683304\n",
      "Epoch 6: Train err: 0.375875, Train loss: 0.6407718621194363 |Validation err: 0.391, Validation loss: 0.6514865010976791\n",
      "Epoch 7: Train err: 0.366375, Train loss: 0.6359726116061211 |Validation err: 0.3855, Validation loss: 0.6496348232030869\n",
      "Epoch 8: Train err: 0.363125, Train loss: 0.6311497874557972 |Validation err: 0.381, Validation loss: 0.6484244167804718\n",
      "Epoch 9: Train err: 0.35875, Train loss: 0.6276585347950459 |Validation err: 0.383, Validation loss: 0.647642657160759\n",
      "Epoch 10: Train err: 0.35425, Train loss: 0.6245977841317654 |Validation err: 0.377, Validation loss: 0.6477426141500473\n",
      "Epoch 11: Train err: 0.343875, Train loss: 0.6206070333719254 |Validation err: 0.38, Validation loss: 0.6466007083654404\n",
      "Epoch 12: Train err: 0.33975, Train loss: 0.6158982291817665 |Validation err: 0.383, Validation loss: 0.647188201546669\n",
      "Epoch 13: Train err: 0.337, Train loss: 0.6134774535894394 |Validation err: 0.379, Validation loss: 0.6457663625478745\n",
      "Epoch 14: Train err: 0.33075, Train loss: 0.6079527623951435 |Validation err: 0.383, Validation loss: 0.6466079652309418\n",
      "Epoch 15: Train err: 0.326125, Train loss: 0.6046749651432037 |Validation err: 0.3835, Validation loss: 0.6450635939836502\n",
      "Epoch 16: Train err: 0.32325, Train loss: 0.6010733470320702 |Validation err: 0.3795, Validation loss: 0.6445708274841309\n",
      "Epoch 17: Train err: 0.319875, Train loss: 0.5980032384395599 |Validation err: 0.386, Validation loss: 0.6454282999038696\n",
      "Epoch 18: Train err: 0.315125, Train loss: 0.5929898954927921 |Validation err: 0.376, Validation loss: 0.6452963650226593\n",
      "Epoch 19: Train err: 0.312375, Train loss: 0.5900675021111965 |Validation err: 0.3765, Validation loss: 0.643710270524025\n",
      "Epoch 20: Train err: 0.309625, Train loss: 0.5849322602152824 |Validation err: 0.376, Validation loss: 0.6430314034223557\n",
      "Epoch 21: Train err: 0.306875, Train loss: 0.5821906737983227 |Validation err: 0.3765, Validation loss: 0.6453181803226471\n",
      "Epoch 22: Train err: 0.301375, Train loss: 0.5781804956495762 |Validation err: 0.3755, Validation loss: 0.6524166166782379\n",
      "Epoch 23: Train err: 0.29725, Train loss: 0.5727594867348671 |Validation err: 0.376, Validation loss: 0.6449018865823746\n",
      "Epoch 24: Train err: 0.293625, Train loss: 0.5674199350178242 |Validation err: 0.3725, Validation loss: 0.6442478746175766\n",
      "Epoch 25: Train err: 0.287, Train loss: 0.5648530572652817 |Validation err: 0.372, Validation loss: 0.6515247672796249\n",
      "Epoch 26: Train err: 0.28175, Train loss: 0.5595360621809959 |Validation err: 0.371, Validation loss: 0.6439424157142639\n",
      "Epoch 27: Train err: 0.277625, Train loss: 0.5520848333835602 |Validation err: 0.3645, Validation loss: 0.6481827795505524\n",
      "Epoch 28: Train err: 0.276625, Train loss: 0.548599798232317 |Validation err: 0.36, Validation loss: 0.6447111517190933\n",
      "Epoch 29: Train err: 0.27425, Train loss: 0.5421829372644424 |Validation err: 0.3625, Validation loss: 0.6493998318910599\n",
      "Epoch 30: Train err: 0.270875, Train loss: 0.5398141965270042 |Validation err: 0.36, Validation loss: 0.6503901928663254\n",
      "Finished Training\n",
      "Total time elapsed: 71.77 seconds\n"
     ]
    },
    {
     "data": {
      "image/png": "[encoded data removed]",
      "text/plain": [
       "<Figure size 432x288 with 1 Axes>"
      ]
     },
     "metadata": {
      "needs_background": "light"
     },
     "output_type": "display_data"
    },
    {
     "data": {
      "image/png": "[encoded data removed]",
      "text/plain": [
       "<Figure size 432x288 with 1 Axes>"
      ]
     },
     "metadata": {
      "needs_background": "light"
     },
     "output_type": "display_data"
    }
   ],
   "source": [
    "class Pigeon(nn.Module):\n",
    "    def __init__(self):\n",
    "        super(Pigeon, self).__init__()\n",
    "        self.name = \"pigeon\"\n",
    "        self.layer1 = nn.Linear(32*32*3, 25)\n",
    "        self.layer2 = nn.Linear(25, 1)\n",
    "    def forward(self, img):\n",
    "        flattened = img.view(-1, 32*32*3) \n",
    "        activation1 = self.layer1(flattened)\n",
    "        activation1 = F.relu(activation1)\n",
    "        activation2 = self.layer2(activation1)\n",
    "        return activation2.squeeze(1)\n",
    "\n",
    "pigeon = Pigeon()\n",
    "\n",
    "train_net(pigeon, batch_size=512, learning_rate=0.01)\n",
    "model_path = get_model_name(\"pigeon\", batch_size=512, learning_rate=0.01, epoch=29)\n",
    "plot_training_curve(model_path)"
   ]
  },
  {
   "cell_type": "markdown",
   "metadata": {
    "id": "YZilQhW17Da5"
   },
   "source": [
    "After test different parameter we arrive at best model info: Epoch 28: Train err: 0.276625, Train loss: 0.548599798232317 |Validation err: 0.36, Validation loss: 0.6447111517190933.\n",
    "\n",
    "Hyperparameter: \"pigeon\", batch_size=512, learning_rate=0.01, epoch=29"
   ]
  },
  {
   "cell_type": "code",
   "execution_count": 62,
   "metadata": {
    "colab": {
     "base_uri": "https://localhost:8080/"
    },
    "executionInfo": {
     "elapsed": 13099,
     "status": "ok",
     "timestamp": 1644199489201,
     "user": {
      "displayName": "Dwight Zhang",
      "photoUrl": "https://lh3.googleusercontent.com/a/default-user=s64",
      "userId": "09246084198849505173"
     },
     "user_tz": 300
    },
    "id": "E7s6KNWax6ki",
    "outputId": "31609037-381d-4449-c9f8-c7cfa504f9f5"
   },
   "outputs": [
    {
     "name": "stdout",
     "output_type": "stream",
     "text": [
      "Files already downloaded and verified\n",
      "Files already downloaded and verified\n",
      "Test error is 0.369 \n",
      "Test loss is 0.647997297346592\n"
     ]
    }
   ],
   "source": [
    "train_loader, val_loader, test_loader, classes = get_data_loader(\n",
    "    target_classes=[\"cat\", \"dog\"], \n",
    "    batch_size=64)\n",
    "\n",
    "criterion = nn.BCEWithLogitsLoss()\n",
    "error, loss = evaluate(pigeon, test_loader, criterion)\n",
    "print(\"Test error is\", error, \"\\nTest loss is\", loss)"
   ]
  },
  {
   "cell_type": "markdown",
   "metadata": {
    "id": "AJ61Htnp7lFX"
   },
   "source": [
    "The two-layer ANN model has test error of 0.369 with test loss 0.647997297346592. While the CNN model has test error of 0.291 with test loss 0.588240860030055. The CNN model performs better than the two-layer ANN. We can conlude that in the cats and dogs classification problem CNN architecture is better than two-layer ANN."
   ]
  }
 ],
 "metadata": {
  "colab": {
   "collapsed_sections": [
    "S0GE8Z5kqIFU",
    "RXK0XaayqIFY",
    "GMA9b8vXqIFd",
    "hxG0sYDZM2KR"
   ],
   "name": "Lab_2_Cats_vs_Dogs_Winter_2022.ipynb",
   "provenance": []
  },
  "kernelspec": {
   "display_name": "Python 3 (ipykernel)",
   "language": "python",
   "name": "python3"
  },
  "language_info": {
   "codemirror_mode": {
    "name": "ipython",
    "version": 3
   },
   "file_extension": ".py",
   "mimetype": "text/x-python",
   "name": "python",
   "nbconvert_exporter": "python",
   "pygments_lexer": "ipython3",
   "version": "3.9.7"
  },
  "widgets": {
   "application/vnd.jupyter.widget-state+json": {
    "1f2d64da9312440c8d0e19c8a76f22c1": {
     "model_module": "@jupyter-widgets/controls",
     "model_module_version": "1.5.0",
     "model_name": "FloatProgressModel",
     "state": {
      "_dom_classes": [],
      "_model_module": "@jupyter-widgets/controls",
      "_model_module_version": "1.5.0",
      "_model_name": "FloatProgressModel",
      "_view_count": null,
      "_view_module": "@jupyter-widgets/controls",
      "_view_module_version": "1.5.0",
      "_view_name": "ProgressView",
      "bar_style": "success",
      "description": "",
      "description_tooltip": null,
      "layout": "IPY_MODEL_357600057f114f2fbe5e67501f2111a5",
      "max": 170498071,
      "min": 0,
      "orientation": "horizontal",
      "style": "IPY_MODEL_ce79e63b188440018961293192dca10d",
      "value": 170498071
     }
    },
    "1ff3e6bda64042089c0e56b969f72e5c": {
     "model_module": "@jupyter-widgets/base",
     "model_module_version": "1.2.0",
     "model_name": "LayoutModel",
     "state": {
      "_model_module": "@jupyter-widgets/base",
      "_model_module_version": "1.2.0",
      "_model_name": "LayoutModel",
      "_view_count": null,
      "_view_module": "@jupyter-widgets/base",
      "_view_module_version": "1.2.0",
      "_view_name": "LayoutView",
      "align_content": null,
      "align_items": null,
      "align_self": null,
      "border": null,
      "bottom": null,
      "display": null,
      "flex": null,
      "flex_flow": null,
      "grid_area": null,
      "grid_auto_columns": null,
      "grid_auto_flow": null,
      "grid_auto_rows": null,
      "grid_column": null,
      "grid_gap": null,
      "grid_row": null,
      "grid_template_areas": null,
      "grid_template_columns": null,
      "grid_template_rows": null,
      "height": null,
      "justify_content": null,
      "justify_items": null,
      "left": null,
      "margin": null,
      "max_height": null,
      "max_width": null,
      "min_height": null,
      "min_width": null,
      "object_fit": null,
      "object_position": null,
      "order": null,
      "overflow": null,
      "overflow_x": null,
      "overflow_y": null,
      "padding": null,
      "right": null,
      "top": null,
      "visibility": null,
      "width": null
     }
    },
    "357600057f114f2fbe5e67501f2111a5": {
     "model_module": "@jupyter-widgets/base",
     "model_module_version": "1.2.0",
     "model_name": "LayoutModel",
     "state": {
      "_model_module": "@jupyter-widgets/base",
      "_model_module_version": "1.2.0",
      "_model_name": "LayoutModel",
      "_view_count": null,
      "_view_module": "@jupyter-widgets/base",
      "_view_module_version": "1.2.0",
      "_view_name": "LayoutView",
      "align_content": null,
      "align_items": null,
      "align_self": null,
      "border": null,
      "bottom": null,
      "display": null,
      "flex": null,
      "flex_flow": null,
      "grid_area": null,
      "grid_auto_columns": null,
      "grid_auto_flow": null,
      "grid_auto_rows": null,
      "grid_column": null,
      "grid_gap": null,
      "grid_row": null,
      "grid_template_areas": null,
      "grid_template_columns": null,
      "grid_template_rows": null,
      "height": null,
      "justify_content": null,
      "justify_items": null,
      "left": null,
      "margin": null,
      "max_height": null,
      "max_width": null,
      "min_height": null,
      "min_width": null,
      "object_fit": null,
      "object_position": null,
      "order": null,
      "overflow": null,
      "overflow_x": null,
      "overflow_y": null,
      "padding": null,
      "right": null,
      "top": null,
      "visibility": null,
      "width": null
     }
    },
    "3a95466bea954fd9a23721c8d96441bc": {
     "model_module": "@jupyter-widgets/controls",
     "model_module_version": "1.5.0",
     "model_name": "HBoxModel",
     "state": {
      "_dom_classes": [],
      "_model_module": "@jupyter-widgets/controls",
      "_model_module_version": "1.5.0",
      "_model_name": "HBoxModel",
      "_view_count": null,
      "_view_module": "@jupyter-widgets/controls",
      "_view_module_version": "1.5.0",
      "_view_name": "HBoxView",
      "box_style": "",
      "children": [
       "IPY_MODEL_6027ac5479374e578a1f03c606b95ba9",
       "IPY_MODEL_1f2d64da9312440c8d0e19c8a76f22c1",
       "IPY_MODEL_d29dff3d04d24bdab92bb864aeaa2cc1"
      ],
      "layout": "IPY_MODEL_3b5b8931359448b98940bbb6208ca9e9"
     }
    },
    "3b5b8931359448b98940bbb6208ca9e9": {
     "model_module": "@jupyter-widgets/base",
     "model_module_version": "1.2.0",
     "model_name": "LayoutModel",
     "state": {
      "_model_module": "@jupyter-widgets/base",
      "_model_module_version": "1.2.0",
      "_model_name": "LayoutModel",
      "_view_count": null,
      "_view_module": "@jupyter-widgets/base",
      "_view_module_version": "1.2.0",
      "_view_name": "LayoutView",
      "align_content": null,
      "align_items": null,
      "align_self": null,
      "border": null,
      "bottom": null,
      "display": null,
      "flex": null,
      "flex_flow": null,
      "grid_area": null,
      "grid_auto_columns": null,
      "grid_auto_flow": null,
      "grid_auto_rows": null,
      "grid_column": null,
      "grid_gap": null,
      "grid_row": null,
      "grid_template_areas": null,
      "grid_template_columns": null,
      "grid_template_rows": null,
      "height": null,
      "justify_content": null,
      "justify_items": null,
      "left": null,
      "margin": null,
      "max_height": null,
      "max_width": null,
      "min_height": null,
      "min_width": null,
      "object_fit": null,
      "object_position": null,
      "order": null,
      "overflow": null,
      "overflow_x": null,
      "overflow_y": null,
      "padding": null,
      "right": null,
      "top": null,
      "visibility": null,
      "width": null
     }
    },
    "6027ac5479374e578a1f03c606b95ba9": {
     "model_module": "@jupyter-widgets/controls",
     "model_module_version": "1.5.0",
     "model_name": "HTMLModel",
     "state": {
      "_dom_classes": [],
      "_model_module": "@jupyter-widgets/controls",
      "_model_module_version": "1.5.0",
      "_model_name": "HTMLModel",
      "_view_count": null,
      "_view_module": "@jupyter-widgets/controls",
      "_view_module_version": "1.5.0",
      "_view_name": "HTMLView",
      "description": "",
      "description_tooltip": null,
      "layout": "IPY_MODEL_1ff3e6bda64042089c0e56b969f72e5c",
      "placeholder": "​",
      "style": "IPY_MODEL_d293f956f74a491893cfb69d00aed11b",
      "value": ""
     }
    },
    "ce79e63b188440018961293192dca10d": {
     "model_module": "@jupyter-widgets/controls",
     "model_module_version": "1.5.0",
     "model_name": "ProgressStyleModel",
     "state": {
      "_model_module": "@jupyter-widgets/controls",
      "_model_module_version": "1.5.0",
      "_model_name": "ProgressStyleModel",
      "_view_count": null,
      "_view_module": "@jupyter-widgets/base",
      "_view_module_version": "1.2.0",
      "_view_name": "StyleView",
      "bar_color": null,
      "description_width": ""
     }
    },
    "d293f956f74a491893cfb69d00aed11b": {
     "model_module": "@jupyter-widgets/controls",
     "model_module_version": "1.5.0",
     "model_name": "DescriptionStyleModel",
     "state": {
      "_model_module": "@jupyter-widgets/controls",
      "_model_module_version": "1.5.0",
      "_model_name": "DescriptionStyleModel",
      "_view_count": null,
      "_view_module": "@jupyter-widgets/base",
      "_view_module_version": "1.2.0",
      "_view_name": "StyleView",
      "description_width": ""
     }
    },
    "d29dff3d04d24bdab92bb864aeaa2cc1": {
     "model_module": "@jupyter-widgets/controls",
     "model_module_version": "1.5.0",
     "model_name": "HTMLModel",
     "state": {
      "_dom_classes": [],
      "_model_module": "@jupyter-widgets/controls",
      "_model_module_version": "1.5.0",
      "_model_name": "HTMLModel",
      "_view_count": null,
      "_view_module": "@jupyter-widgets/controls",
      "_view_module_version": "1.5.0",
      "_view_name": "HTMLView",
      "description": "",
      "description_tooltip": null,
      "layout": "IPY_MODEL_ed50c8f353de42fd9f16141d0de29011",
      "placeholder": "​",
      "style": "IPY_MODEL_f8d01d4928854b83bd5312c9b5a0937e",
      "value": " 170499072/? [00:11&lt;00:00, 18126678.61it/s]"
     }
    },
    "ed50c8f353de42fd9f16141d0de29011": {
     "model_module": "@jupyter-widgets/base",
     "model_module_version": "1.2.0",
     "model_name": "LayoutModel",
     "state": {
      "_model_module": "@jupyter-widgets/base",
      "_model_module_version": "1.2.0",
      "_model_name": "LayoutModel",
      "_view_count": null,
      "_view_module": "@jupyter-widgets/base",
      "_view_module_version": "1.2.0",
      "_view_name": "LayoutView",
      "align_content": null,
      "align_items": null,
      "align_self": null,
      "border": null,
      "bottom": null,
      "display": null,
      "flex": null,
      "flex_flow": null,
      "grid_area": null,
      "grid_auto_columns": null,
      "grid_auto_flow": null,
      "grid_auto_rows": null,
      "grid_column": null,
      "grid_gap": null,
      "grid_row": null,
      "grid_template_areas": null,
      "grid_template_columns": null,
      "grid_template_rows": null,
      "height": null,
      "justify_content": null,
      "justify_items": null,
      "left": null,
      "margin": null,
      "max_height": null,
      "max_width": null,
      "min_height": null,
      "min_width": null,
      "object_fit": null,
      "object_position": null,
      "order": null,
      "overflow": null,
      "overflow_x": null,
      "overflow_y": null,
      "padding": null,
      "right": null,
      "top": null,
      "visibility": null,
      "width": null
     }
    },
    "f8d01d4928854b83bd5312c9b5a0937e": {
     "model_module": "@jupyter-widgets/controls",
     "model_module_version": "1.5.0",
     "model_name": "DescriptionStyleModel",
     "state": {
      "_model_module": "@jupyter-widgets/controls",
      "_model_module_version": "1.5.0",
      "_model_name": "DescriptionStyleModel",
      "_view_count": null,
      "_view_module": "@jupyter-widgets/base",
      "_view_module_version": "1.2.0",
      "_view_name": "StyleView",
      "description_width": ""
     }
    }
   }
  }
 },
 "nbformat": 4,
 "nbformat_minor": 1
}

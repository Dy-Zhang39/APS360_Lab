{
 "cells": [
  {
   "cell_type": "markdown",
   "metadata": {
    "id": "X6WDvajSqIDs"
   },
   "source": [
    "# Lab 2: Cats vs Dogs\n",
    "\n",
    "**Deadline**: Feb 07, 5:00pm\n",
    "\n",
    "**Late Penalty**: There is a penalty-free grace period of one hour past the deadline. Any work that is submitted between 1 hour and 24 hours past the deadline will receive a 20% grade deduction. No other late work is accepted. Quercus submission time will be used, not your local computer time. You can submit your labs as many times as you want before the deadline, so please submit often and early.\n",
    "\n",
    "**Marking TA**: Saba Ale Ebrahim -- saba.aleebrahim@mail.utoronto.ca\n",
    "\n",
    "This lab is partially based on an assignment developed by Prof. Jonathan Rose and Harris Chan.\n",
    "\n",
    "In this lab, you will train a convolutional neural network to classify an image \n",
    "into one of two classes: \"cat\" or \"dog\". The code for the neural networks \n",
    "you train will be written for you, and you are not (yet!) expected\n",
    "to understand all provided code. However, by the end of the lab,\n",
    "you should be able to:\n",
    "\n",
    "1. Understand at a high level the training loop for a machine learning model.\n",
    "2. Understand the distinction between training, validation, and test data.\n",
    "3. The concepts of overfitting and underfitting.\n",
    "4. Investigate how different hyperparameters, such as learning rate and batch size, affect the success of training.\n",
    "5. Compare an ANN (aka Multi-Layer Perceptron) with a CNN.\n",
    "\n",
    "### What to submit\n",
    "\n",
    "Submit a PDF file containing all your code, outputs, and write-up\n",
    "from parts 1-5. You can produce a PDF of your Google Colab file by\n",
    "going to **File > Print** and then save as PDF. The Colab instructions\n",
    "has more information.\n",
    "\n",
    "**Do not submit any other files produced by your code.**\n",
    "\n",
    "Include a link to your colab file in your submission.\n",
    "\n",
    "Please use Google Colab to complete this assignment. If you want to use Jupyter Notebook, please complete the assignment and upload your Jupyter Notebook file to Google Colab for submission. \n",
    "\n",
    "With Colab, you can export a PDF file using the menu option\n",
    "`File -> Print` and save as PDF file. **Adjust the scaling to ensure that the text is not cutoff at the margins.**"
   ]
  },
  {
   "cell_type": "markdown",
   "metadata": {
    "id": "LfiFE_WOqIDu"
   },
   "source": [
    "## Colab Link\n",
    "\n",
    "Include a link to your colab file here\n",
    "\n",
    "Colab Link: https://drive.google.com/file/d/1Nfv1ncVfrHhHi9eZj9eFRAjj_ZxUMXIE/view?usp=sharing "
   ]
  },
  {
   "cell_type": "code",
   "execution_count": 1,
   "metadata": {
    "executionInfo": {
     "elapsed": 8331,
     "status": "ok",
     "timestamp": 1644188976446,
     "user": {
      "displayName": "Dwight Zhang",
      "photoUrl": "https://lh3.googleusercontent.com/a/default-user=s64",
      "userId": "09246084198849505173"
     },
     "user_tz": 300
    },
    "id": "SwyDuiuUqIDv"
   },
   "outputs": [],
   "source": [
    "import numpy as np\n",
    "import time\n",
    "import torch\n",
    "import torch.nn as nn\n",
    "import torch.nn.functional as F\n",
    "import torch.optim as optim\n",
    "import torchvision\n",
    "from torch.utils.data.sampler import SubsetRandomSampler\n",
    "import torchvision.transforms as transforms\n"
   ]
  },
  {
   "cell_type": "markdown",
   "metadata": {
    "id": "kvTXpH_kqIDy"
   },
   "source": [
    "## Part 0. Helper Functions\n",
    "\n",
    "We will be making use of the following helper functions. You will be asked to look\n",
    "at and possibly modify some of these, but you are not expected to understand all of them.\n",
    "\n",
    "You should look at the function names and read the docstrings. If you are curious, come back and explore the code *after* making some progress on the lab."
   ]
  },
  {
   "cell_type": "code",
   "execution_count": 2,
   "metadata": {
    "executionInfo": {
     "elapsed": 389,
     "status": "ok",
     "timestamp": 1644188976831,
     "user": {
      "displayName": "Dwight Zhang",
      "photoUrl": "https://lh3.googleusercontent.com/a/default-user=s64",
      "userId": "09246084198849505173"
     },
     "user_tz": 300
    },
    "id": "wEjwWEkoqIDz"
   },
   "outputs": [],
   "source": [
    "###############################################################################\n",
    "# Data Loading\n",
    "\n",
    "def get_relevant_indices(dataset, classes, target_classes):\n",
    "    \"\"\" Return the indices for datapoints in the dataset that belongs to the\n",
    "    desired target classes, a subset of all possible classes.\n",
    "\n",
    "    Args:\n",
    "        dataset: Dataset object\n",
    "        classes: A list of strings denoting the name of each class\n",
    "        target_classes: A list of strings denoting the name of desired classes\n",
    "                        Should be a subset of the 'classes'\n",
    "    Returns:\n",
    "        indices: list of indices that have labels corresponding to one of the\n",
    "                 target classes\n",
    "    \"\"\"\n",
    "    indices = []\n",
    "    for i in range(len(dataset)):\n",
    "        # Check if the label is in the target classes\n",
    "        label_index = dataset[i][1] # ex: 3\n",
    "        label_class = classes[label_index] # ex: 'cat'\n",
    "        if label_class in target_classes:\n",
    "            indices.append(i)\n",
    "    return indices\n",
    "\n",
    "def get_data_loader(target_classes, batch_size):\n",
    "    \"\"\" Loads images of cats and dogs, splits the data into training, validation\n",
    "    and testing datasets. Returns data loaders for the three preprocessed datasets.\n",
    "\n",
    "    Args:\n",
    "        target_classes: A list of strings denoting the name of the desired\n",
    "                        classes. Should be a subset of the argument 'classes'\n",
    "        batch_size: A int representing the number of samples per batch\n",
    "    \n",
    "    Returns:\n",
    "        train_loader: iterable training dataset organized according to batch size\n",
    "        val_loader: iterable validation dataset organized according to batch size\n",
    "        test_loader: iterable testing dataset organized according to batch size\n",
    "        classes: A list of strings denoting the name of each class\n",
    "    \"\"\"\n",
    "\n",
    "    classes = ('plane', 'car', 'bird', 'cat',\n",
    "               'deer', 'dog', 'frog', 'horse', 'ship', 'truck')\n",
    "    ########################################################################\n",
    "    # The output of torchvision datasets are PILImage images of range [0, 1].\n",
    "    # We transform them to Tensors of normalized range [-1, 1].\n",
    "    transform = transforms.Compose(\n",
    "        [transforms.ToTensor(),\n",
    "         transforms.Normalize((0.5, 0.5, 0.5), (0.5, 0.5, 0.5))])\n",
    "    # Load CIFAR10 training data\n",
    "    trainset = torchvision.datasets.CIFAR10(root='./data', train=True,\n",
    "                                            download=True, transform=transform)\n",
    "    # Get the list of indices to sample from\n",
    "    relevant_indices = get_relevant_indices(trainset, classes, target_classes)\n",
    "    \n",
    "    # Split into train and validation\n",
    "    np.random.seed(1000) # Fixed numpy random seed for reproducible shuffling\n",
    "    np.random.shuffle(relevant_indices)\n",
    "    split = int(len(relevant_indices) * 0.8) #split at 80%\n",
    "    \n",
    "    # split into training and validation indices\n",
    "    relevant_train_indices, relevant_val_indices = relevant_indices[:split], relevant_indices[split:]  \n",
    "    train_sampler = SubsetRandomSampler(relevant_train_indices)\n",
    "    train_loader = torch.utils.data.DataLoader(trainset, batch_size=batch_size,\n",
    "                                               num_workers=1, sampler=train_sampler)\n",
    "    val_sampler = SubsetRandomSampler(relevant_val_indices)\n",
    "    val_loader = torch.utils.data.DataLoader(trainset, batch_size=batch_size,\n",
    "                                              num_workers=1, sampler=val_sampler)\n",
    "    # Load CIFAR10 testing data\n",
    "    testset = torchvision.datasets.CIFAR10(root='./data', train=False,\n",
    "                                           download=True, transform=transform)\n",
    "    # Get the list of indices to sample from\n",
    "    relevant_test_indices = get_relevant_indices(testset, classes, target_classes)\n",
    "    test_sampler = SubsetRandomSampler(relevant_test_indices)\n",
    "    test_loader = torch.utils.data.DataLoader(testset, batch_size=batch_size,\n",
    "                                             num_workers=1, sampler=test_sampler)\n",
    "    return train_loader, val_loader, test_loader, classes\n",
    "\n",
    "###############################################################################\n",
    "# Training\n",
    "def get_model_name(name, batch_size, learning_rate, epoch):\n",
    "    \"\"\" Generate a name for the model consisting of all the hyperparameter values\n",
    "\n",
    "    Args:\n",
    "        config: Configuration object containing the hyperparameters\n",
    "    Returns:\n",
    "        path: A string with the hyperparameter name and value concatenated\n",
    "    \"\"\"\n",
    "    path = \"model_{0}_bs{1}_lr{2}_epoch{3}\".format(name,\n",
    "                                                   batch_size,\n",
    "                                                   learning_rate,\n",
    "                                                   epoch)\n",
    "    return path\n",
    "\n",
    "def normalize_label(labels):\n",
    "    \"\"\"\n",
    "    Given a tensor containing 2 possible values, normalize this to 0/1\n",
    "\n",
    "    Args:\n",
    "        labels: a 1D tensor containing two possible scalar values\n",
    "    Returns:\n",
    "        A tensor normalize to 0/1 value\n",
    "    \"\"\"\n",
    "    max_val = torch.max(labels)\n",
    "    min_val = torch.min(labels)\n",
    "    norm_labels = (labels - min_val)/(max_val - min_val)\n",
    "    return norm_labels\n",
    "\n",
    "def evaluate(net, loader, criterion):\n",
    "    \"\"\" Evaluate the network on the validation set.\n",
    "\n",
    "     Args:\n",
    "         net: PyTorch neural network object\n",
    "         loader: PyTorch data loader for the validation set\n",
    "         criterion: The loss function\n",
    "     Returns:\n",
    "         err: A scalar for the avg classification error over the validation set\n",
    "         loss: A scalar for the average loss function over the validation set\n",
    "     \"\"\"\n",
    "    total_loss = 0.0\n",
    "    total_err = 0.0\n",
    "    total_epoch = 0\n",
    "    for i, data in enumerate(loader, 0):\n",
    "        inputs, labels = data\n",
    "        labels = normalize_label(labels)  # Convert labels to 0/1\n",
    "        outputs = net(inputs)\n",
    "        loss = criterion(outputs, labels.float())\n",
    "        corr = (outputs > 0.0).squeeze().long() != labels\n",
    "        total_err += int(corr.sum())\n",
    "        total_loss += loss.item()\n",
    "        total_epoch += len(labels)\n",
    "    err = float(total_err) / total_epoch\n",
    "    loss = float(total_loss) / (i + 1)\n",
    "    return err, loss\n",
    "\n",
    "###############################################################################\n",
    "# Training Curve\n",
    "def plot_training_curve(path):\n",
    "    \"\"\" Plots the training curve for a model run, given the csv files\n",
    "    containing the train/validation error/loss.\n",
    "\n",
    "    Args:\n",
    "        path: The base path of the csv files produced during training\n",
    "    \"\"\"\n",
    "    import matplotlib.pyplot as plt\n",
    "    train_err = np.loadtxt(\"{}_train_err.csv\".format(path))\n",
    "    val_err = np.loadtxt(\"{}_val_err.csv\".format(path))\n",
    "    train_loss = np.loadtxt(\"{}_train_loss.csv\".format(path))\n",
    "    val_loss = np.loadtxt(\"{}_val_loss.csv\".format(path))\n",
    "    plt.title(\"Train vs Validation Error\")\n",
    "    n = len(train_err) # number of epochs\n",
    "    plt.plot(range(1,n+1), train_err, label=\"Train\")\n",
    "    plt.plot(range(1,n+1), val_err, label=\"Validation\")\n",
    "    plt.xlabel(\"Epoch\")\n",
    "    plt.ylabel(\"Error\")\n",
    "    plt.legend(loc='best')\n",
    "    plt.show()\n",
    "    plt.title(\"Train vs Validation Loss\")\n",
    "    plt.plot(range(1,n+1), train_loss, label=\"Train\")\n",
    "    plt.plot(range(1,n+1), val_loss, label=\"Validation\")\n",
    "    plt.xlabel(\"Epoch\")\n",
    "    plt.ylabel(\"Loss\")\n",
    "    plt.legend(loc='best')\n",
    "    plt.show()"
   ]
  },
  {
   "cell_type": "markdown",
   "metadata": {
    "id": "bJxMgWGNqID2"
   },
   "source": [
    "## Part 1. Visualizing the Data [7 pt]\n",
    "\n",
    "We will make use of some of the CIFAR-10 data set, which consists of \n",
    "colour images of size 32x32 pixels belonging to 10 categories. You can\n",
    "find out more about the dataset at https://www.cs.toronto.edu/~kriz/cifar.html\n",
    "\n",
    "For this assignment, we will only be using the cat and dog categories. \n",
    "We have included code that automatically downloads the dataset the \n",
    "first time that the main script is run."
   ]
  },
  {
   "cell_type": "code",
   "execution_count": 3,
   "metadata": {
    "colab": {
     "base_uri": "https://localhost:8080/",
     "height": 121,
     "referenced_widgets": [
      "3a95466bea954fd9a23721c8d96441bc",
      "3b5b8931359448b98940bbb6208ca9e9",
      "6027ac5479374e578a1f03c606b95ba9",
      "1f2d64da9312440c8d0e19c8a76f22c1",
      "d29dff3d04d24bdab92bb864aeaa2cc1",
      "d293f956f74a491893cfb69d00aed11b",
      "1ff3e6bda64042089c0e56b969f72e5c",
      "ce79e63b188440018961293192dca10d",
      "357600057f114f2fbe5e67501f2111a5",
      "f8d01d4928854b83bd5312c9b5a0937e",
      "ed50c8f353de42fd9f16141d0de29011"
     ]
    },
    "executionInfo": {
     "elapsed": 28102,
     "status": "ok",
     "timestamp": 1644189004930,
     "user": {
      "displayName": "Dwight Zhang",
      "photoUrl": "https://lh3.googleusercontent.com/a/default-user=s64",
      "userId": "09246084198849505173"
     },
     "user_tz": 300
    },
    "id": "Rp7LVcGfqID3",
    "outputId": "952d275c-174b-4344-b556-5a6b2c6a9bfa",
    "scrolled": true
   },
   "outputs": [
    {
     "name": "stdout",
     "output_type": "stream",
     "text": [
      "Files already downloaded and verified\n",
      "Files already downloaded and verified\n"
     ]
    }
   ],
   "source": [
    "# This will download the CIFAR-10 dataset to a folder called \"data\"\n",
    "# the first time you run this code.\n",
    "train_loader, val_loader, test_loader, classes = get_data_loader(\n",
    "    target_classes=[\"cat\", \"dog\"], \n",
    "    batch_size=1) # One image per batch"
   ]
  },
  {
   "cell_type": "markdown",
   "metadata": {
    "id": "JiYX_HM-qID6"
   },
   "source": [
    "### Part (a) -- 1 pt\n",
    "\n",
    "Visualize some of the data by running the code below.\n",
    "Include the visualization in your writeup.\n",
    "\n",
    "(You don't need to submit anything else.)"
   ]
  },
  {
   "cell_type": "code",
   "execution_count": 4,
   "metadata": {
    "colab": {
     "base_uri": "https://localhost:8080/",
     "height": 242
    },
    "executionInfo": {
     "elapsed": 1062,
     "status": "ok",
     "timestamp": 1644189005987,
     "user": {
      "displayName": "Dwight Zhang",
      "photoUrl": "https://lh3.googleusercontent.com/a/default-user=s64",
      "userId": "09246084198849505173"
     },
     "user_tz": 300
    },
    "id": "UJ4pYFTQqID7",
    "outputId": "c4153fe6-43df-4f3f-aeb2-27efc8c52dac",
    "scrolled": true
   },
   "outputs": [
    {
     "data": {
      "image/png": "[encoded data removed]",
      "text/plain": [
       "<Figure size 432x288 with 15 Axes>"
      ]
     },
     "metadata": {
      "needs_background": "light"
     },
     "output_type": "display_data"
    }
   ],
   "source": [
    "import matplotlib.pyplot as plt\n",
    "\n",
    "k = 0\n",
    "for images, labels in train_loader:\n",
    "    # since batch_size = 1, there is only 1 image in `images`\n",
    "    image = images[0]\n",
    "    # place the colour channel at the end, instead of at the beginning\n",
    "    img = np.transpose(image, [1,2,0])\n",
    "    # normalize pixel intensity values to [0, 1]\n",
    "    img = img / 2 + 0.5\n",
    "    plt.subplot(3, 5, k+1)\n",
    "    plt.axis('off')\n",
    "    plt.imshow(img)\n",
    "\n",
    "    k += 1\n",
    "    if k > 14:\n",
    "        break"
   ]
  },
  {
   "cell_type": "markdown",
   "metadata": {
    "id": "UmHiUOaDqID9"
   },
   "source": [
    "### Part (b) -- 3 pt\n",
    "\n",
    "How many training examples do we have for the combined `cat` and `dog` classes? \n",
    "What about validation examples? \n",
    "What about test examples?"
   ]
  },
  {
   "cell_type": "markdown",
   "metadata": {
    "id": "5KaGdH2ahwKS"
   },
   "source": []
  },
  {
   "cell_type": "code",
   "execution_count": 5,
   "metadata": {
    "colab": {
     "base_uri": "https://localhost:8080/"
    },
    "executionInfo": {
     "elapsed": 7,
     "status": "ok",
     "timestamp": 1644189005987,
     "user": {
      "displayName": "Dwight Zhang",
      "photoUrl": "https://lh3.googleusercontent.com/a/default-user=s64",
      "userId": "09246084198849505173"
     },
     "user_tz": 300
    },
    "id": "6p4eAz1IqID-",
    "outputId": "d23adcf6-835d-4b71-8f69-7bee863015c1"
   },
   "outputs": [
    {
     "name": "stdout",
     "output_type": "stream",
     "text": [
      "Number of training examples in training set: 8000\n",
      "Number of validation examples in validation set: 2000\n",
      "Number of test examples in testing set: 2000\n"
     ]
    }
   ],
   "source": [
    "print(\"Number of training examples in training set:\", len(train_loader))\n",
    "print(\"Number of validation examples in validation set:\", len(val_loader))\n",
    "print(\"Number of test examples in testing set:\", len(test_loader))"
   ]
  },
  {
   "cell_type": "markdown",
   "metadata": {
    "id": "3aY25I_oqIEB"
   },
   "source": [
    "### Part (c) -- 3pt\n",
    "\n",
    "Why do we need a validation set when training our model? What happens if we judge the \n",
    "performance of our models using the training set loss/error instead of the validation\n",
    "set loss/error?"
   ]
  },
  {
   "cell_type": "markdown",
   "metadata": {
    "id": "Vk31RArsjb2n"
   },
   "source": [
    "The validation set is used to tune model's hyperprameter. And it is used to measure the performance of our model on data that is not used to train the model. If we only judge the performance of our model on trainning set, we may overfit training data to get very low error on the training data. As the model getting more complex it starts to memorizing data. Using validation set can tell if the model is actually learning general pattern of the training data or just memorizing it."
   ]
  },
  {
   "cell_type": "markdown",
   "metadata": {
    "id": "6iYZ4xXHqIEE"
   },
   "source": [
    "## Part 2. Training [15 pt]\n",
    "\n",
    "We define two neural networks, a `LargeNet` and `SmallNet`.\n",
    "We'll be training the networks in this section.\n",
    "\n",
    "You won't understand fully what these networks are doing until\n",
    "the next few classes, and that's okay. For this assignment, please\n",
    "focus on learning how to train networks, and how hyperparameters affect\n",
    "training."
   ]
  },
  {
   "cell_type": "code",
   "execution_count": 6,
   "metadata": {
    "executionInfo": {
     "elapsed": 7,
     "status": "ok",
     "timestamp": 1644189005988,
     "user": {
      "displayName": "Dwight Zhang",
      "photoUrl": "https://lh3.googleusercontent.com/a/default-user=s64",
      "userId": "09246084198849505173"
     },
     "user_tz": 300
    },
    "id": "HniZoI3lqIEF"
   },
   "outputs": [],
   "source": [
    "class LargeNet(nn.Module):\n",
    "    def __init__(self):\n",
    "        super(LargeNet, self).__init__()\n",
    "        self.name = \"large\"\n",
    "        self.conv1 = nn.Conv2d(3, 5, 5)\n",
    "        self.pool = nn.MaxPool2d(2, 2)\n",
    "        self.conv2 = nn.Conv2d(5, 10, 5)\n",
    "        self.fc1 = nn.Linear(10 * 5 * 5, 32)\n",
    "        self.fc2 = nn.Linear(32, 1)\n",
    "\n",
    "    def forward(self, x):\n",
    "        x = self.pool(F.relu(self.conv1(x)))\n",
    "        x = self.pool(F.relu(self.conv2(x)))\n",
    "        x = x.view(-1, 10 * 5 * 5)\n",
    "        x = F.relu(self.fc1(x))\n",
    "        x = self.fc2(x)\n",
    "        x = x.squeeze(1) # Flatten to [batch_size]\n",
    "        return x"
   ]
  },
  {
   "cell_type": "code",
   "execution_count": 7,
   "metadata": {
    "executionInfo": {
     "elapsed": 6,
     "status": "ok",
     "timestamp": 1644189005988,
     "user": {
      "displayName": "Dwight Zhang",
      "photoUrl": "https://lh3.googleusercontent.com/a/default-user=s64",
      "userId": "09246084198849505173"
     },
     "user_tz": 300
    },
    "id": "pJgOmJdvqIEH"
   },
   "outputs": [],
   "source": [
    "class SmallNet(nn.Module):\n",
    "    def __init__(self):\n",
    "        super(SmallNet, self).__init__()\n",
    "        self.name = \"small\"\n",
    "        self.conv = nn.Conv2d(3, 5, 3)\n",
    "        self.pool = nn.MaxPool2d(2, 2)\n",
    "        self.fc = nn.Linear(5 * 7 * 7, 1)\n",
    "\n",
    "    def forward(self, x):\n",
    "        x = self.pool(F.relu(self.conv(x)))\n",
    "        x = self.pool(x)\n",
    "        x = x.view(-1, 5 * 7 * 7)\n",
    "        x = self.fc(x)\n",
    "        x = x.squeeze(1) # Flatten to [batch_size]\n",
    "        return x"
   ]
  },
  {
   "cell_type": "code",
   "execution_count": 8,
   "metadata": {
    "executionInfo": {
     "elapsed": 6,
     "status": "ok",
     "timestamp": 1644189005988,
     "user": {
      "displayName": "Dwight Zhang",
      "photoUrl": "https://lh3.googleusercontent.com/a/default-user=s64",
      "userId": "09246084198849505173"
     },
     "user_tz": 300
    },
    "id": "pMJZt_S2qIEM"
   },
   "outputs": [],
   "source": [
    "small_net = SmallNet()\n",
    "large_net = LargeNet()"
   ]
  },
  {
   "cell_type": "markdown",
   "metadata": {
    "id": "-ekO3pj9qIEQ"
   },
   "source": [
    "### Part (a) -- 2pt\n",
    "\n",
    "The methods `small_net.parameters()` and `large_net.parameters()`\n",
    "produces an iterator of all the trainable parameters of the network.\n",
    "These parameters are torch tensors containing many scalar values. \n",
    "\n",
    "We haven't learned how how the parameters in these high-dimensional\n",
    "tensors will be used, but we should be able to count the number\n",
    "of parameters. Measuring the number of parameters in a network is\n",
    "one way of measuring the \"size\" of a network.\n",
    "\n",
    "What is the total number of parameters in `small_net` and in\n",
    "`large_net`? (Hint: how many numbers are in each tensor?)"
   ]
  },
  {
   "cell_type": "code",
   "execution_count": 9,
   "metadata": {
    "colab": {
     "base_uri": "https://localhost:8080/"
    },
    "executionInfo": {
     "elapsed": 6,
     "status": "ok",
     "timestamp": 1644189005988,
     "user": {
      "displayName": "Dwight Zhang",
      "photoUrl": "https://lh3.googleusercontent.com/a/default-user=s64",
      "userId": "09246084198849505173"
     },
     "user_tz": 300
    },
    "id": "dc4keyOnqIER",
    "outputId": "1fe27525-204b-4e22-c33f-927c28d91bb4"
   },
   "outputs": [
    {
     "name": "stdout",
     "output_type": "stream",
     "text": [
      "torch.Size([5, 3, 3, 3])\n",
      "torch.Size([5])\n",
      "torch.Size([1, 245])\n",
      "torch.Size([1])\n",
      "The total number of parameters in small_net is 386\n",
      "torch.Size([5, 3, 5, 5])\n",
      "torch.Size([5])\n",
      "torch.Size([10, 5, 5, 5])\n",
      "torch.Size([10])\n",
      "torch.Size([32, 250])\n",
      "torch.Size([32])\n",
      "torch.Size([1, 32])\n",
      "torch.Size([1])\n",
      "The total number of parameters in large_net is 9705\n"
     ]
    }
   ],
   "source": [
    "num = 0\n",
    "for param in small_net.parameters():\n",
    "    print(param.shape)\n",
    "    num += torch.numel(param)\n",
    "print(\"The total number of parameters in small_net is\", num)\n",
    "\n",
    "num = 0\n",
    "for param in large_net.parameters():\n",
    "    print(param.shape)\n",
    "    num += torch.numel(param)\n",
    "print(\"The total number of parameters in large_net is\", num)"
   ]
  },
  {
   "cell_type": "markdown",
   "metadata": {
    "id": "OcZVo2DsqIET"
   },
   "source": [
    "### The function train_net\n",
    "\n",
    "The function `train_net` below takes an untrained neural network (like `small_net` and `large_net`) and\n",
    "several other parameters. You should be able to understand how this function works.\n",
    "The figure below shows the high level training loop for a machine learning model:\n",
    "\n",
    "![alt text](https://github.com/UTNeural/Lab2/blob/master/Diagram.png?raw=true)"
   ]
  },
  {
   "cell_type": "code",
   "execution_count": 10,
   "metadata": {
    "executionInfo": {
     "elapsed": 4,
     "status": "ok",
     "timestamp": 1644189005988,
     "user": {
      "displayName": "Dwight Zhang",
      "photoUrl": "https://lh3.googleusercontent.com/a/default-user=s64",
      "userId": "09246084198849505173"
     },
     "user_tz": 300
    },
    "id": "jC90G_VGqIEU"
   },
   "outputs": [],
   "source": [
    "def train_net(net, batch_size=64, learning_rate=0.01, num_epochs=30):\n",
    "    ########################################################################\n",
    "    # Train a classifier on cats vs dogs\n",
    "    target_classes = [\"cat\", \"dog\"]\n",
    "    ########################################################################\n",
    "    # Fixed PyTorch random seed for reproducible result\n",
    "    torch.manual_seed(1000)\n",
    "    ########################################################################\n",
    "    # Obtain the PyTorch data loader objects to load batches of the datasets\n",
    "    train_loader, val_loader, test_loader, classes = get_data_loader(\n",
    "            target_classes, batch_size)\n",
    "    ########################################################################\n",
    "    # Define the Loss function and optimizer\n",
    "    # The loss function will be Binary Cross Entropy (BCE). In this case we\n",
    "    # will use the BCEWithLogitsLoss which takes unnormalized output from\n",
    "    # the neural network and scalar label.\n",
    "    # Optimizer will be SGD with Momentum.\n",
    "    criterion = nn.BCEWithLogitsLoss()\n",
    "    optimizer = optim.SGD(net.parameters(), lr=learning_rate, momentum=0.9)\n",
    "    ########################################################################\n",
    "    # Set up some numpy arrays to store the training/test loss/erruracy\n",
    "    train_err = np.zeros(num_epochs)\n",
    "    train_loss = np.zeros(num_epochs)\n",
    "    val_err = np.zeros(num_epochs)\n",
    "    val_loss = np.zeros(num_epochs)\n",
    "    ########################################################################\n",
    "    # Train the network\n",
    "    # Loop over the data iterator and sample a new batch of training data\n",
    "    # Get the output from the network, and optimize our loss function.\n",
    "    start_time = time.time()\n",
    "    for epoch in range(num_epochs):  # loop over the dataset multiple times\n",
    "        total_train_loss = 0.0\n",
    "        total_train_err = 0.0\n",
    "        total_epoch = 0\n",
    "        for i, data in enumerate(train_loader, 0):\n",
    "            # Get the inputs\n",
    "            inputs, labels = data\n",
    "            labels = normalize_label(labels) # Convert labels to 0/1\n",
    "            # Zero the parameter gradients\n",
    "            optimizer.zero_grad()\n",
    "            # Forward pass, backward pass, and optimize\n",
    "            outputs = net(inputs)\n",
    "            loss = criterion(outputs, labels.float())\n",
    "            loss.backward()\n",
    "            optimizer.step()\n",
    "            # Calculate the statistics\n",
    "            corr = (outputs > 0.0).squeeze().long() != labels\n",
    "            total_train_err += int(corr.sum())\n",
    "            total_train_loss += loss.item()\n",
    "            total_epoch += len(labels)\n",
    "        train_err[epoch] = float(total_train_err) / total_epoch\n",
    "        train_loss[epoch] = float(total_train_loss) / (i+1)\n",
    "        val_err[epoch], val_loss[epoch] = evaluate(net, val_loader, criterion)\n",
    "        print((\"Epoch {}: Train err: {}, Train loss: {} |\"+\n",
    "               \"Validation err: {}, Validation loss: {}\").format(\n",
    "                   epoch + 1,\n",
    "                   train_err[epoch],\n",
    "                   train_loss[epoch],\n",
    "                   val_err[epoch],\n",
    "                   val_loss[epoch]))\n",
    "        # Save the current model (checkpoint) to a file\n",
    "        model_path = get_model_name(net.name, batch_size, learning_rate, epoch)\n",
    "        torch.save(net.state_dict(), model_path)\n",
    "    print('Finished Training')\n",
    "    end_time = time.time()\n",
    "    elapsed_time = end_time - start_time\n",
    "    print(\"Total time elapsed: {:.2f} seconds\".format(elapsed_time))\n",
    "    # Write the train/test loss/err into CSV file for plotting later\n",
    "    epochs = np.arange(1, num_epochs + 1)\n",
    "    np.savetxt(\"{}_train_err.csv\".format(model_path), train_err)\n",
    "    np.savetxt(\"{}_train_loss.csv\".format(model_path), train_loss)\n",
    "    np.savetxt(\"{}_val_err.csv\".format(model_path), val_err)\n",
    "    np.savetxt(\"{}_val_loss.csv\".format(model_path), val_loss)"
   ]
  },
  {
   "cell_type": "markdown",
   "metadata": {
    "id": "jEhligNaqIEW"
   },
   "source": [
    "### Part (b) -- 1pt\n",
    "\n",
    "The parameters to the function `train_net` are hyperparameters of our neural network.\n",
    "We made these hyperparameters easy to modify so that we can tune them later on. \n",
    "\n",
    "What are the default values of the parameters `batch_size`, `learning_rate`, \n",
    "and `num_epochs`?"
   ]
  },
  {
   "cell_type": "markdown",
   "metadata": {
    "id": "YotrLXDhwxeY"
   },
   "source": [
    "The defualt value of parameters are: `batch_size=64`, `learning_rate=0.01`, `num_epochs=30`"
   ]
  },
  {
   "cell_type": "markdown",
   "metadata": {
    "id": "Qy_yv9NMqIEa"
   },
   "source": [
    "### Part (c) -- 3 pt\n",
    "\n",
    "What files are written to disk when we call `train_net` with `small_net`, and train for 5 epochs? Provide a list\n",
    "of all the files written to disk, and what information the files contain."
   ]
  },
  {
   "cell_type": "code",
   "execution_count": 11,
   "metadata": {
    "colab": {
     "base_uri": "https://localhost:8080/"
    },
    "executionInfo": {
     "elapsed": 28284,
     "status": "ok",
     "timestamp": 1644189034268,
     "user": {
      "displayName": "Dwight Zhang",
      "photoUrl": "https://lh3.googleusercontent.com/a/default-user=s64",
      "userId": "09246084198849505173"
     },
     "user_tz": 300
    },
    "id": "hNwhtyP1qIEb",
    "outputId": "6777d3e9-4593-4dc3-d9d5-72c2cc01aae2"
   },
   "outputs": [
    {
     "name": "stdout",
     "output_type": "stream",
     "text": [
      "Files already downloaded and verified\n",
      "Files already downloaded and verified\n",
      "Epoch 1: Train err: 0.41675, Train loss: 0.6711589369773865 |Validation err: 0.3825, Validation loss: 0.6591829918324947\n",
      "Epoch 2: Train err: 0.367125, Train loss: 0.6482998976707458 |Validation err: 0.385, Validation loss: 0.6618124395608902\n",
      "Epoch 3: Train err: 0.352125, Train loss: 0.6369854545593262 |Validation err: 0.3515, Validation loss: 0.6279073804616928\n",
      "Epoch 4: Train err: 0.3425, Train loss: 0.6220880217552185 |Validation err: 0.348, Validation loss: 0.6210358683019876\n",
      "Epoch 5: Train err: 0.33025, Train loss: 0.6106646070480347 |Validation err: 0.333, Validation loss: 0.6121756248176098\n",
      "Finished Training\n",
      "Total time elapsed: 77.81 seconds\n"
     ]
    }
   ],
   "source": [
    "train_net(small_net, num_epochs=5)"
   ]
  },
  {
   "cell_type": "markdown",
   "metadata": {
    "id": "H_ZUNn-Gxc0d"
   },
   "source": [
    "model_small_bs64_lr0.01_epoch0 - model checkpoint, include values of model weights for epoch0\n",
    "\n",
    "model_small_bs64_lr0.01_epoch1 - model checkpoint, include values of model weights for epoch1\n",
    "\n",
    "model_small_bs64_lr0.01_epoch2 - model checkpoint, include values of model weights for epoch2\n",
    "\n",
    "model_small_bs64_lr0.01_epoch3 - model checkpoint, include values of model weights for epoch3\n",
    "\n",
    "model_small_bs64_lr0.01_epoch4 - model checkpoint, include values of model weights for epoch4\n",
    "\n",
    "model_small_bs64_lr0.01_epoch4_train_err.csv - trainning error for each epoch up to epoch4\n",
    "\n",
    "model_small_bs64_lr0.01_epoch4_train_loss.csv - trainning loss for each epoch up to epoch4\n",
    "\n",
    "model_small_bs64_lr0.01_epoch4_val_err.csv - validation error for each epoch up to epoch4\n",
    "\n",
    "model_small_bs64_lr0.01_epoch4_val_loss.csv - validation loss for each epoch up to epoch4\n"
   ]
  },
  {
   "cell_type": "markdown",
   "metadata": {
    "id": "a6shtCFDqIEd"
   },
   "source": [
    "### Part (d) -- 2pt\n",
    "\n",
    "Train both `small_net` and `large_net` using the function `train_net` and its default parameters.\n",
    "The function will write many files to disk, including a model checkpoint (saved values of model weights) \n",
    "at the end of each epoch.\n",
    "\n",
    "If you are using Google Colab, you will need to mount Google Drive \n",
    "so that the files generated by `train_net` gets saved. We will be using\n",
    "these files in part (d).\n",
    "(See the Google Colab tutorial for more information about this.)\n",
    "\n",
    "Report the total time elapsed when training each network. Which network took longer to train?\n",
    "Why?"
   ]
  },
  {
   "cell_type": "code",
   "execution_count": 12,
   "metadata": {
    "colab": {
     "base_uri": "https://localhost:8080/"
    },
    "executionInfo": {
     "elapsed": 24639,
     "status": "ok",
     "timestamp": 1644189058901,
     "user": {
      "displayName": "Dwight Zhang",
      "photoUrl": "https://lh3.googleusercontent.com/a/default-user=s64",
      "userId": "09246084198849505173"
     },
     "user_tz": 300
    },
    "id": "tawIVwTfqIEe",
    "outputId": "e2acf1d9-1fe0-4768-824f-b438041c962b"
   },
   "outputs": [
    {
     "ename": "ModuleNotFoundError",
     "evalue": "No module named 'google'",
     "output_type": "error",
     "traceback": [
      "\u001b[0;31m---------------------------------------------------------------------------\u001b[0m",
      "\u001b[0;31mModuleNotFoundError\u001b[0m                       Traceback (most recent call last)",
      "\u001b[0;32m/var/folders/yx/2b2x2kyx5kq8dr9lhp6j5s3h0000gn/T/ipykernel_17563/496792153.py\u001b[0m in \u001b[0;36m<module>\u001b[0;34m\u001b[0m\n\u001b[1;32m      3\u001b[0m \u001b[0;31m# can comment out this code.\u001b[0m\u001b[0;34m\u001b[0m\u001b[0;34m\u001b[0m\u001b[0m\n\u001b[1;32m      4\u001b[0m \u001b[0;34m\u001b[0m\u001b[0m\n\u001b[0;32m----> 5\u001b[0;31m \u001b[0;32mfrom\u001b[0m \u001b[0mgoogle\u001b[0m\u001b[0;34m.\u001b[0m\u001b[0mcolab\u001b[0m \u001b[0;32mimport\u001b[0m \u001b[0mdrive\u001b[0m\u001b[0;34m\u001b[0m\u001b[0;34m\u001b[0m\u001b[0m\n\u001b[0m\u001b[1;32m      6\u001b[0m \u001b[0mdrive\u001b[0m\u001b[0;34m.\u001b[0m\u001b[0mmount\u001b[0m\u001b[0;34m(\u001b[0m\u001b[0;34m'/content/gdrive'\u001b[0m\u001b[0;34m)\u001b[0m\u001b[0;34m\u001b[0m\u001b[0;34m\u001b[0m\u001b[0m\n",
      "\u001b[0;31mModuleNotFoundError\u001b[0m: No module named 'google'"
     ]
    }
   ],
   "source": [
    "# Since the function writes files to disk, you will need to mount\n",
    "# your Google Drive. If you are working on the lab locally, you\n",
    "# can comment out this code.\n",
    "\n",
    "from google.colab import drive\n",
    "drive.mount('/content/gdrive')"
   ]
  },
  {
   "cell_type": "code",
   "execution_count": null,
   "metadata": {
    "colab": {
     "base_uri": "https://localhost:8080/"
    },
    "executionInfo": {
     "elapsed": 227914,
     "status": "ok",
     "timestamp": 1644189286812,
     "user": {
      "displayName": "Dwight Zhang",
      "photoUrl": "https://lh3.googleusercontent.com/a/default-user=s64",
      "userId": "09246084198849505173"
     },
     "user_tz": 300
    },
    "id": "MWSZm9SvqIEh",
    "outputId": "389b90b7-34a4-4682-97f8-1f42b4e53d61"
   },
   "outputs": [],
   "source": [
    "train_net(small_net)\n",
    "train_net(large_net)"
   ]
  },
  {
   "cell_type": "markdown",
   "metadata": {
    "id": "ovXLwUFA25hJ"
   },
   "source": [
    "The `samll` network takes `96.45s`,\n",
    "the `large` network takes `105.84s`\n",
    "This makes sense since the large network has more paramters and the model is more complex, more time is need to train the large network. "
   ]
  },
  {
   "cell_type": "markdown",
   "metadata": {
    "id": "Pk4GIF3QqIEj"
   },
   "source": [
    "### Part (e) - 2pt\n",
    "\n",
    "Use the function `plot_training_curve` to display the trajectory of the \n",
    "training/validation error and the training/validation loss.\n",
    "You will need to use the function `get_model_name` to generate the\n",
    "argument to the `plot_training_curve` function.\n",
    "\n",
    "Do this for both the small network and the large network. Include both plots\n",
    "in your writeup."
   ]
  },
  {
   "cell_type": "code",
   "execution_count": null,
   "metadata": {
    "colab": {
     "base_uri": "https://localhost:8080/",
     "height": 590
    },
    "executionInfo": {
     "elapsed": 514,
     "status": "ok",
     "timestamp": 1644189287322,
     "user": {
      "displayName": "Dwight Zhang",
      "photoUrl": "https://lh3.googleusercontent.com/a/default-user=s64",
      "userId": "09246084198849505173"
     },
     "user_tz": 300
    },
    "id": "EXrEgOtuqIEk",
    "outputId": "78ff7d49-874e-455d-d7f7-e68adcc59aab"
   },
   "outputs": [],
   "source": [
    "print(\"Training Curve for Small Network: \")\n",
    "model_path_small = get_model_name(\"small\", batch_size=64, learning_rate=0.01, epoch=29)\n",
    "plot_training_curve(model_path_small)"
   ]
  },
  {
   "cell_type": "code",
   "execution_count": null,
   "metadata": {
    "colab": {
     "base_uri": "https://localhost:8080/",
     "height": 590
    },
    "executionInfo": {
     "elapsed": 461,
     "status": "ok",
     "timestamp": 1644189287779,
     "user": {
      "displayName": "Dwight Zhang",
      "photoUrl": "https://lh3.googleusercontent.com/a/default-user=s64",
      "userId": "09246084198849505173"
     },
     "user_tz": 300
    },
    "id": "Gv6cNlHy4y3P",
    "outputId": "13dd7354-19c7-4f19-fae0-d105239baeae"
   },
   "outputs": [],
   "source": [
    "print(\"Training Curve for Large Network: \")\n",
    "model_path_large = get_model_name(\"large\", batch_size=64, learning_rate=0.01, epoch=29)\n",
    "plot_training_curve(model_path_large)"
   ]
  },
  {
   "cell_type": "markdown",
   "metadata": {
    "id": "kUzWo8HRqIEu"
   },
   "source": [
    "### Part (f) - 5pt\n",
    "\n",
    "Describe what you notice about the training curve.\n",
    "How do the curves differ for `small_net` and `large_net`?\n",
    "Identify any occurences of underfitting and overfitting."
   ]
  },
  {
   "cell_type": "markdown",
   "metadata": {
    "id": "5_wT36nb6Atf"
   },
   "source": [
    "1. The training curve for small network has more nosie than the large netwrok training curve. The small network prediction error is less stable compare to large netwrok wihch is around 0.3\n",
    "\n",
    "2. Both model are `underfitting` before 10th epoch, since thier loss is decreasing.\n",
    "\n",
    "3. For samll netwrok, the training loss curve tends to flatten at the end and the validation loss curve flactuates around 0.6. \n",
    "\n",
    "4. However, the training loss curve in large network tends to continue decreasing and the validation loss increase at the end. After 15th epoch, the large netwrok start to memorize the training data instead looking for general parttern, this causes the model `overfitting`, and perform poorly on the validation data."
   ]
  },
  {
   "cell_type": "markdown",
   "metadata": {
    "id": "jYP_y58SqIEz"
   },
   "source": [
    "## Part 3. Optimization Parameters [12 pt]\n",
    "\n",
    "For this section, we will work with `large_net` only."
   ]
  },
  {
   "cell_type": "markdown",
   "metadata": {
    "id": "f1uGdKUIqIE1"
   },
   "source": [
    "### Part (a) - 3pt\n",
    "\n",
    "Train `large_net` with all default parameters, except set `learning_rate=0.001`.\n",
    "Does the model take longer/shorter to train?\n",
    "Plot the training curve. Describe the effect of *lowering* the learning rate."
   ]
  },
  {
   "cell_type": "code",
   "execution_count": null,
   "metadata": {
    "colab": {
     "base_uri": "https://localhost:8080/",
     "height": 1000
    },
    "executionInfo": {
     "elapsed": 118344,
     "status": "ok",
     "timestamp": 1644189406118,
     "user": {
      "displayName": "Dwight Zhang",
      "photoUrl": "https://lh3.googleusercontent.com/a/default-user=s64",
      "userId": "09246084198849505173"
     },
     "user_tz": 300
    },
    "id": "b9-toERSqIE2",
    "outputId": "f03c25b4-69d6-4942-94a1-5ef50f9bced1"
   },
   "outputs": [],
   "source": [
    "# Note: When we re-construct the model, we start the training\n",
    "# with *random weights*. If we omit this code, the values of\n",
    "# the weights will still be the previously trained values.\n",
    "large_net = LargeNet()\n",
    "train_net(large_net, learning_rate=0.001)\n",
    "model_path = get_model_name(\"large\", batch_size=64, learning_rate=0.001, epoch=29)\n",
    "plot_training_curve(model_path)"
   ]
  },
  {
   "cell_type": "markdown",
   "metadata": {
    "id": "orkX2UUXBY-G"
   },
   "source": [
    "The large network with learning rate 0.001 takes 105.70s to train, which is about the same with the default learning rate set to 0.01.\n",
    "\n",
    "Lowering the learning rate cause the gradient decent step size to be smaller. Thus, the loss also decrese slower than defult learning rate. More iteration is needed for the model to fit the data. So within the 30 epochs, the model no longer overfitting. And the loss cruve is smoother."
   ]
  },
  {
   "cell_type": "markdown",
   "metadata": {
    "id": "5APYluUoqIE4"
   },
   "source": [
    "### Part (b) - 3pt\n",
    "\n",
    "Train `large_net` with all default parameters, except set `learning_rate=0.1`. \n",
    "Does the model take longer/shorter to train?\n",
    "Plot the training curve. Describe the effect of *increasing* the learning rate."
   ]
  },
  {
   "cell_type": "code",
   "execution_count": null,
   "metadata": {
    "colab": {
     "base_uri": "https://localhost:8080/",
     "height": 1000
    },
    "executionInfo": {
     "elapsed": 121356,
     "status": "ok",
     "timestamp": 1644190339681,
     "user": {
      "displayName": "Dwight Zhang",
      "photoUrl": "https://lh3.googleusercontent.com/a/default-user=s64",
      "userId": "09246084198849505173"
     },
     "user_tz": 300
    },
    "id": "IY7GrjFxqIE5",
    "outputId": "73eb884b-7b00-42f3-9d3c-e89821807cbd"
   },
   "outputs": [],
   "source": [
    "large_net = LargeNet()\n",
    "train_net(large_net, learning_rate=0.1)\n",
    "model_path = get_model_name(\"large\", batch_size=64, learning_rate=0.1, epoch=29)\n",
    "plot_training_curve(model_path)"
   ]
  },
  {
   "cell_type": "markdown",
   "metadata": {
    "id": "86UuRwVhJURH"
   },
   "source": [
    "The large network with learning rate 0.1 takes 107.92s to train, which is slightly higher than  the default learning rate set to 0.01. In theory, leanring rate shouldn't affect the run time, this difference might be caused by hardware.\n",
    "\n",
    "With increasing the learning rate, we are increaing the step size for each gradient decent update. So, the loss changes more rapidly. The model starts to overfit early, around 10th epoch compared to defult learning rate which is 15th epoch."
   ]
  },
  {
   "cell_type": "markdown",
   "metadata": {
    "id": "GMb-NLitqIE7"
   },
   "source": [
    "### Part (c) - 3pt\n",
    "\n",
    "Train `large_net` with all default parameters, including with `learning_rate=0.01`.\n",
    "Now, set `batch_size=512`. Does the model take longer/shorter to train?\n",
    "Plot the training curve. Describe the effect of *increasing* the batch size."
   ]
  },
  {
   "cell_type": "code",
   "execution_count": null,
   "metadata": {
    "colab": {
     "base_uri": "https://localhost:8080/",
     "height": 1000
    },
    "executionInfo": {
     "elapsed": 110023,
     "status": "ok",
     "timestamp": 1644189642237,
     "user": {
      "displayName": "Dwight Zhang",
      "photoUrl": "https://lh3.googleusercontent.com/a/default-user=s64",
      "userId": "09246084198849505173"
     },
     "user_tz": 300
    },
    "id": "WHRzqMAcqIE8",
    "outputId": "c921ece5-8025-48ca-c823-622ed0a830f0"
   },
   "outputs": [],
   "source": [
    "large_net = LargeNet()\n",
    "train_net(large_net, batch_size=512)\n",
    "model_path = get_model_name(\"large\", batch_size=512, learning_rate=0.01, epoch=29)\n",
    "plot_training_curve(model_path)"
   ]
  },
  {
   "cell_type": "markdown",
   "metadata": {
    "id": "ZK7szPxdOMWl"
   },
   "source": [
    "The large network with batch size 512 takes 96.38s to train, which is less than the default batch size set to 64.\n",
    "\n",
    "Increasing the batch size decreases the training time per epoch, and the loss decrease slower than small batch size. With 30 epochs the loss is higher than the btch size of 64. So it takes more epochs to coverge to the minimum loss. Thus, the overfitting does not occur here, but from the previous analysis the loss will continue decreasing if more epochs is given, so the model here underfits the data."
   ]
  },
  {
   "cell_type": "markdown",
   "metadata": {
    "id": "DwvN15IzqIE-"
   },
   "source": [
    "### Part (d) - 3pt\n",
    "\n",
    "Train `large_net` with all default parameters, including with `learning_rate=0.01`.\n",
    "Now, set `batch_size=16`. Does the model take longer/shorter to train?\n",
    "Plot the training curve. Describe the effect of *decreasing* the batch size."
   ]
  },
  {
   "cell_type": "code",
   "execution_count": null,
   "metadata": {
    "colab": {
     "base_uri": "https://localhost:8080/",
     "height": 1000
    },
    "executionInfo": {
     "elapsed": 160678,
     "status": "ok",
     "timestamp": 1644189802906,
     "user": {
      "displayName": "Dwight Zhang",
      "photoUrl": "https://lh3.googleusercontent.com/a/default-user=s64",
      "userId": "09246084198849505173"
     },
     "user_tz": 300
    },
    "id": "E0SKvrNGqIE-",
    "outputId": "ecab09a3-d9ea-4106-ef3c-ae6acc89d333"
   },
   "outputs": [],
   "source": [
    "large_net = LargeNet()\n",
    "train_net(large_net, batch_size=16)\n",
    "model_path = get_model_name(\"large\", batch_size=16, learning_rate=0.01, epoch=29)\n",
    "plot_training_curve(model_path)"
   ]
  },
  {
   "cell_type": "markdown",
   "metadata": {
    "id": "sDLbtnrnTCpD"
   },
   "source": [
    "The large network with batch size 16 takes 148.96s to train, which is more than the default batch size set to 64.\n",
    "\n",
    "Decresing the batch size increase the training time per epoch as more iterations in each epoch.  The loss decrease faster than large batch size. It takes less epochs to coverge to the minimum loss. With 5 epochs the validation loss reaches the minimium. And after 5 epochs the model starts to overfit the data."
   ]
  },
  {
   "cell_type": "markdown",
   "metadata": {
    "id": "1MkpZLc4qIFA"
   },
   "source": [
    "## Part 4. Hyperparameter Search [6 pt]\n",
    "\n",
    "### Part (a) - 2pt\n",
    "\n",
    "Based on the plots from above, choose another set of values for the hyperparameters (network, batch_size, learning_rate)\n",
    "that you think would help you improve the validation accuracy. Justify your choice."
   ]
  },
  {
   "cell_type": "markdown",
   "metadata": {
    "id": "V4aQbEoRZbHe"
   },
   "source": [
    "I choose `large network` as it has more parameters.  In part2 e) compare with small network the accuracy of large network is more stable. The `batch size` is set to be `48` as with `learning rate=0.001`, the model no longer overfit the data and acutally underfit the data, so change the batch size to 32 to decrease the loss faster.\n",
    "\n",
    "\n",
    "\n",
    "```\n",
    "\"large\", batch_size=48, learning_rate=0.001, epoch=29\n",
    "```\n",
    "\n",
    "\n",
    "\n"
   ]
  },
  {
   "cell_type": "markdown",
   "metadata": {
    "id": "fTLRs2f7qIFD"
   },
   "source": [
    "### Part (b) - 1pt\n",
    "\n",
    "Train the model with the hyperparameters you chose in part(a), and include the training curve."
   ]
  },
  {
   "cell_type": "code",
   "execution_count": null,
   "metadata": {
    "colab": {
     "base_uri": "https://localhost:8080/",
     "height": 1000
    },
    "executionInfo": {
     "elapsed": 133463,
     "status": "ok",
     "timestamp": 1644193602520,
     "user": {
      "displayName": "Dwight Zhang",
      "photoUrl": "https://lh3.googleusercontent.com/a/default-user=s64",
      "userId": "09246084198849505173"
     },
     "user_tz": 300
    },
    "id": "1E7BXfMhg1cr",
    "outputId": "73762ba5-a767-4c86-c2a9-93e9bf345fe0"
   },
   "outputs": [],
   "source": [
    "large_net = LargeNet()\n",
    "train_net(large_net, batch_size=48, learning_rate=0.001)\n",
    "model_path = get_model_name(\"large\", batch_size=48, learning_rate=0.001, epoch=29)\n",
    "plot_training_curve(model_path)"
   ]
  },
  {
   "cell_type": "markdown",
   "metadata": {
    "id": "ZsO4z7JJqIFF"
   },
   "source": [
    "### Part (c) - 2pt\n",
    "\n",
    "Based on your result from Part(a), suggest another set of hyperparameter values to try. \n",
    "Justify your choice."
   ]
  },
  {
   "cell_type": "markdown",
   "metadata": {
    "id": "uOlJE5QKvx3y"
   },
   "source": [
    "Based on the results above, we can see that the loss tends continue go done atfer 30th epoch. We might still in usderfitting condition. So increase the learning rate to 0.008 to allow the loss decrease faster.\n",
    "\n",
    "\n",
    "\n",
    "```\n",
    "\"large\", batch_size=48, learning_rate=0.008, epoch=29\n",
    "```\n",
    "\n"
   ]
  },
  {
   "cell_type": "markdown",
   "metadata": {
    "id": "VrMyc5QnqIFI"
   },
   "source": [
    "### Part (d) - 1pt\n",
    "\n",
    "Train the model with the hyperparameters you chose in part(c), and include the training curve."
   ]
  },
  {
   "cell_type": "code",
   "execution_count": null,
   "metadata": {
    "colab": {
     "base_uri": "https://localhost:8080/",
     "height": 1000
    },
    "executionInfo": {
     "elapsed": 145382,
     "status": "ok",
     "timestamp": 1644193887890,
     "user": {
      "displayName": "Dwight Zhang",
      "photoUrl": "https://lh3.googleusercontent.com/a/default-user=s64",
      "userId": "09246084198849505173"
     },
     "user_tz": 300
    },
    "id": "z1SmXdypk_wH",
    "outputId": "21764ccd-91d7-4eb4-b4db-7521c8e76e39"
   },
   "outputs": [],
   "source": [
    "large_net = LargeNet()\n",
    "train_net(large_net, batch_size=48, learning_rate=0.008)\n",
    "model_path = get_model_name(\"large\", batch_size=48, learning_rate=0.008, epoch=29)\n",
    "plot_training_curve(model_path)"
   ]
  },
  {
   "cell_type": "markdown",
   "metadata": {
    "id": "1kQB1IFuqIFN"
   },
   "source": [
    "## Part 4. Evaluating the Best Model [15 pt]\n"
   ]
  },
  {
   "cell_type": "markdown",
   "metadata": {
    "id": "Xxje12xKqIFN"
   },
   "source": [
    "### Part (a) - 1pt\n",
    "\n",
    "Choose the **best** model that you have so far. This means choosing the best model checkpoint,\n",
    "including the choice of `small_net` vs `large_net`, the `batch_size`, `learning_rate`, \n",
    "**and the epoch number**.\n",
    "\n",
    "Modify the code below to load your chosen set of weights to the model object `net`."
   ]
  },
  {
   "cell_type": "markdown",
   "metadata": {
    "id": "CEo7zf3ynzfp"
   },
   "source": [
    "Best model info: Epoch 21: Train err: 0.21175, Train loss: 0.4473175297597211 |Validation err: 0.2865, Validation loss: 0.6065797394230252.\n",
    "\n",
    "With hyperparameter: \"large\", batch_size=48, learning_rate=0.008, epoch=29"
   ]
  },
  {
   "cell_type": "code",
   "execution_count": null,
   "metadata": {
    "colab": {
     "base_uri": "https://localhost:8080/"
    },
    "executionInfo": {
     "elapsed": 2,
     "status": "ok",
     "timestamp": 1644195979629,
     "user": {
      "displayName": "Dwight Zhang",
      "photoUrl": "https://lh3.googleusercontent.com/a/default-user=s64",
      "userId": "09246084198849505173"
     },
     "user_tz": 300
    },
    "id": "AanLwIAEqIFO",
    "outputId": "ac3950f0-9261-45ba-b917-e4eb6c4bcc48"
   },
   "outputs": [],
   "source": [
    "net = LargeNet()\n",
    "model_path = get_model_name(net.name, batch_size=48, learning_rate=0.008, epoch=20)\n",
    "state = torch.load(model_path)\n",
    "net.load_state_dict(state)"
   ]
  },
  {
   "cell_type": "markdown",
   "metadata": {
    "id": "vXXwLMIXqIFS"
   },
   "source": [
    "### Part (b) - 2pt\n",
    "\n",
    "Justify your choice of model from part (a)."
   ]
  },
  {
   "cell_type": "markdown",
   "metadata": {
    "id": "TH9IZ-1bgVyX"
   },
   "source": [
    "The model chosen from part (a) is based on the lowest validation accuracy. Since validation accuracy best reflects model's perfomance. The best validation accuracy happens at epoch 21, with large network, batch size = 8 , and learning rate of 0.008"
   ]
  },
  {
   "cell_type": "markdown",
   "metadata": {
    "id": "S0GE8Z5kqIFU"
   },
   "source": [
    "### Part (c) - 2pt\n",
    "\n",
    "Using the code in Part 0, any code from lecture notes, or any code that you write,\n",
    "compute and report the **test classification error** for your chosen model."
   ]
  },
  {
   "cell_type": "code",
   "execution_count": null,
   "metadata": {
    "colab": {
     "base_uri": "https://localhost:8080/"
    },
    "executionInfo": {
     "elapsed": 13884,
     "status": "ok",
     "timestamp": 1644197372837,
     "user": {
      "displayName": "Dwight Zhang",
      "photoUrl": "https://lh3.googleusercontent.com/a/default-user=s64",
      "userId": "09246084198849505173"
     },
     "user_tz": 300
    },
    "id": "wPUe9iomqIFV",
    "outputId": "300fa108-bc59-44d5-f756-b80f5a8eb0da"
   },
   "outputs": [],
   "source": [
    "# If you use the `evaluate` function provided in part 0, you will need to \n",
    "# set batch_size > 1\n",
    "train_loader, val_loader, test_loader, classes = get_data_loader(\n",
    "    target_classes=[\"cat\", \"dog\"], \n",
    "    batch_size=64)\n",
    "\n",
    "criterion = nn.BCEWithLogitsLoss()\n",
    "error, loss = evaluate(net, test_loader, criterion)\n",
    "print(\"Test error is\", error, \"\\nTest loss is\", loss)"
   ]
  },
  {
   "cell_type": "markdown",
   "metadata": {
    "id": "RXK0XaayqIFY"
   },
   "source": [
    "### Part (d) - 3pt\n",
    "\n",
    "How does the test classification error compare with the **validation error**?\n",
    "Explain why you would expect the test error to be *higher* than the validation error."
   ]
  },
  {
   "cell_type": "markdown",
   "metadata": {
    "id": "alHZoHt0lwAn"
   },
   "source": [
    "The test classification error (0.291) is larger then the validation error (0.2865). This makes sense since we tuned the hyperprameter using the validation data to minized the validation error. However, the test data is new, the model never seen it before, so it is resonable to have a higher test error than validation error."
   ]
  },
  {
   "cell_type": "markdown",
   "metadata": {
    "id": "GMA9b8vXqIFd"
   },
   "source": [
    "### Part (e) - 2pt\n",
    "\n",
    "Why did we only use the test data set at the very end?\n",
    "Why is it important that we use the test data as little as possible?"
   ]
  },
  {
   "cell_type": "markdown",
   "metadata": {
    "id": "gUTi2hPpuJUA"
   },
   "source": [
    "Because the test data is used to evaluate the model performance. Evatually the model is used to make prediction on data it never seen before. Model never see the test data before, so it best relect the true performance of our model. We should use test data as little as possible to avoid bias towards test data."
   ]
  },
  {
   "cell_type": "markdown",
   "metadata": {
    "id": "hxG0sYDZM2KR"
   },
   "source": [
    "### Part (f) - 5pt\n",
    "\n",
    "How does the your best CNN model compare with an 2-layer ANN model (no convolutional layers) on classifying cat and dog images. You can use a 2-layer ANN architecture similar to what you used in Lab 1. You should explore different hyperparameter settings to determine how well you can do on the validation dataset. Once satisified with the performance, you may test it out on the test data.\n",
    "\n",
    "Hint: The ANN in lab 1 was applied on greyscale images. The cat and dog images are colour (RGB) and so you will need to flatted and concatinate all three colour layers before feeding them into an ANN."
   ]
  },
  {
   "cell_type": "code",
   "execution_count": null,
   "metadata": {
    "colab": {
     "base_uri": "https://localhost:8080/",
     "height": 1000
    },
    "executionInfo": {
     "elapsed": 85430,
     "status": "ok",
     "timestamp": 1644199327491,
     "user": {
      "displayName": "Dwight Zhang",
      "photoUrl": "https://lh3.googleusercontent.com/a/default-user=s64",
      "userId": "09246084198849505173"
     },
     "user_tz": 300
    },
    "id": "pjI2Zw9jqIFg",
    "outputId": "47cd8b6a-8d43-4e19-b0e6-e775c79b3205"
   },
   "outputs": [],
   "source": [
    "class Pigeon(nn.Module):\n",
    "    def __init__(self):\n",
    "        super(Pigeon, self).__init__()\n",
    "        self.name = \"pigeon\"\n",
    "        self.layer1 = nn.Linear(32*32*3, 25)\n",
    "        self.layer2 = nn.Linear(25, 1)\n",
    "    def forward(self, img):\n",
    "        flattened = img.view(-1, 32*32*3) \n",
    "        activation1 = self.layer1(flattened)\n",
    "        activation1 = F.relu(activation1)\n",
    "        activation2 = self.layer2(activation1)\n",
    "        return activation2.squeeze(1)\n",
    "\n",
    "pigeon = Pigeon()\n",
    "\n",
    "train_net(pigeon, batch_size=512, learning_rate=0.01)\n",
    "model_path = get_model_name(\"pigeon\", batch_size=512, learning_rate=0.01, epoch=29)\n",
    "plot_training_curve(model_path)"
   ]
  },
  {
   "cell_type": "markdown",
   "metadata": {
    "id": "YZilQhW17Da5"
   },
   "source": [
    "After test different parameter we arrive at best model info: Epoch 28: Train err: 0.276625, Train loss: 0.548599798232317 |Validation err: 0.36, Validation loss: 0.6447111517190933.\n",
    "\n",
    "Hyperparameter: \"pigeon\", batch_size=512, learning_rate=0.01, epoch=29"
   ]
  },
  {
   "cell_type": "code",
   "execution_count": null,
   "metadata": {
    "colab": {
     "base_uri": "https://localhost:8080/"
    },
    "executionInfo": {
     "elapsed": 13099,
     "status": "ok",
     "timestamp": 1644199489201,
     "user": {
      "displayName": "Dwight Zhang",
      "photoUrl": "https://lh3.googleusercontent.com/a/default-user=s64",
      "userId": "09246084198849505173"
     },
     "user_tz": 300
    },
    "id": "E7s6KNWax6ki",
    "outputId": "31609037-381d-4449-c9f8-c7cfa504f9f5"
   },
   "outputs": [],
   "source": [
    "train_loader, val_loader, test_loader, classes = get_data_loader(\n",
    "    target_classes=[\"cat\", \"dog\"], \n",
    "    batch_size=64)\n",
    "\n",
    "criterion = nn.BCEWithLogitsLoss()\n",
    "error, loss = evaluate(pigeon, test_loader, criterion)\n",
    "print(\"Test error is\", error, \"\\nTest loss is\", loss)"
   ]
  },
  {
   "cell_type": "markdown",
   "metadata": {
    "id": "AJ61Htnp7lFX"
   },
   "source": [
    "The two-layer ANN model has test error of 0.369 with test loss 0.647997297346592. While the CNN model has test error of 0.291 with test loss 0.588240860030055. The CNN model performs better than the two-layer ANN. We can conlude that in the cats and dogs classification problem CNN architecture is better than two-layer ANN."
   ]
  },
  {
   "cell_type": "code",
   "execution_count": null,
   "metadata": {},
   "outputs": [],
   "source": []
  }
 ],
 "metadata": {
  "colab": {
   "collapsed_sections": [
    "S0GE8Z5kqIFU",
    "RXK0XaayqIFY",
    "GMA9b8vXqIFd",
    "hxG0sYDZM2KR"
   ],
   "name": "Lab_2_Cats_vs_Dogs_Winter_2022.ipynb",
   "provenance": []
  },
  "kernelspec": {
   "display_name": "Python 3 (ipykernel)",
   "language": "python",
   "name": "python3"
  },
  "language_info": {
   "codemirror_mode": {
    "name": "ipython",
    "version": 3
   },
   "file_extension": ".py",
   "mimetype": "text/x-python",
   "name": "python",
   "nbconvert_exporter": "python",
   "pygments_lexer": "ipython3",
   "version": "3.9.7"
  },
  "widgets": {
   "application/vnd.jupyter.widget-state+json": {
    "1f2d64da9312440c8d0e19c8a76f22c1": {
     "model_module": "@jupyter-widgets/controls",
     "model_module_version": "1.5.0",
     "model_name": "FloatProgressModel",
     "state": {
      "_dom_classes": [],
      "_model_module": "@jupyter-widgets/controls",
      "_model_module_version": "1.5.0",
      "_model_name": "FloatProgressModel",
      "_view_count": null,
      "_view_module": "@jupyter-widgets/controls",
      "_view_module_version": "1.5.0",
      "_view_name": "ProgressView",
      "bar_style": "success",
      "description": "",
      "description_tooltip": null,
      "layout": "IPY_MODEL_357600057f114f2fbe5e67501f2111a5",
      "max": 170498071,
      "min": 0,
      "orientation": "horizontal",
      "style": "IPY_MODEL_ce79e63b188440018961293192dca10d",
      "value": 170498071
     }
    },
    "1ff3e6bda64042089c0e56b969f72e5c": {
     "model_module": "@jupyter-widgets/base",
     "model_module_version": "1.2.0",
     "model_name": "LayoutModel",
     "state": {
      "_model_module": "@jupyter-widgets/base",
      "_model_module_version": "1.2.0",
      "_model_name": "LayoutModel",
      "_view_count": null,
      "_view_module": "@jupyter-widgets/base",
      "_view_module_version": "1.2.0",
      "_view_name": "LayoutView",
      "align_content": null,
      "align_items": null,
      "align_self": null,
      "border": null,
      "bottom": null,
      "display": null,
      "flex": null,
      "flex_flow": null,
      "grid_area": null,
      "grid_auto_columns": null,
      "grid_auto_flow": null,
      "grid_auto_rows": null,
      "grid_column": null,
      "grid_gap": null,
      "grid_row": null,
      "grid_template_areas": null,
      "grid_template_columns": null,
      "grid_template_rows": null,
      "height": null,
      "justify_content": null,
      "justify_items": null,
      "left": null,
      "margin": null,
      "max_height": null,
      "max_width": null,
      "min_height": null,
      "min_width": null,
      "object_fit": null,
      "object_position": null,
      "order": null,
      "overflow": null,
      "overflow_x": null,
      "overflow_y": null,
      "padding": null,
      "right": null,
      "top": null,
      "visibility": null,
      "width": null
     }
    },
    "357600057f114f2fbe5e67501f2111a5": {
     "model_module": "@jupyter-widgets/base",
     "model_module_version": "1.2.0",
     "model_name": "LayoutModel",
     "state": {
      "_model_module": "@jupyter-widgets/base",
      "_model_module_version": "1.2.0",
      "_model_name": "LayoutModel",
      "_view_count": null,
      "_view_module": "@jupyter-widgets/base",
      "_view_module_version": "1.2.0",
      "_view_name": "LayoutView",
      "align_content": null,
      "align_items": null,
      "align_self": null,
      "border": null,
      "bottom": null,
      "display": null,
      "flex": null,
      "flex_flow": null,
      "grid_area": null,
      "grid_auto_columns": null,
      "grid_auto_flow": null,
      "grid_auto_rows": null,
      "grid_column": null,
      "grid_gap": null,
      "grid_row": null,
      "grid_template_areas": null,
      "grid_template_columns": null,
      "grid_template_rows": null,
      "height": null,
      "justify_content": null,
      "justify_items": null,
      "left": null,
      "margin": null,
      "max_height": null,
      "max_width": null,
      "min_height": null,
      "min_width": null,
      "object_fit": null,
      "object_position": null,
      "order": null,
      "overflow": null,
      "overflow_x": null,
      "overflow_y": null,
      "padding": null,
      "right": null,
      "top": null,
      "visibility": null,
      "width": null
     }
    },
    "3a95466bea954fd9a23721c8d96441bc": {
     "model_module": "@jupyter-widgets/controls",
     "model_module_version": "1.5.0",
     "model_name": "HBoxModel",
     "state": {
      "_dom_classes": [],
      "_model_module": "@jupyter-widgets/controls",
      "_model_module_version": "1.5.0",
      "_model_name": "HBoxModel",
      "_view_count": null,
      "_view_module": "@jupyter-widgets/controls",
      "_view_module_version": "1.5.0",
      "_view_name": "HBoxView",
      "box_style": "",
      "children": [
       "IPY_MODEL_6027ac5479374e578a1f03c606b95ba9",
       "IPY_MODEL_1f2d64da9312440c8d0e19c8a76f22c1",
       "IPY_MODEL_d29dff3d04d24bdab92bb864aeaa2cc1"
      ],
      "layout": "IPY_MODEL_3b5b8931359448b98940bbb6208ca9e9"
     }
    },
    "3b5b8931359448b98940bbb6208ca9e9": {
     "model_module": "@jupyter-widgets/base",
     "model_module_version": "1.2.0",
     "model_name": "LayoutModel",
     "state": {
      "_model_module": "@jupyter-widgets/base",
      "_model_module_version": "1.2.0",
      "_model_name": "LayoutModel",
      "_view_count": null,
      "_view_module": "@jupyter-widgets/base",
      "_view_module_version": "1.2.0",
      "_view_name": "LayoutView",
      "align_content": null,
      "align_items": null,
      "align_self": null,
      "border": null,
      "bottom": null,
      "display": null,
      "flex": null,
      "flex_flow": null,
      "grid_area": null,
      "grid_auto_columns": null,
      "grid_auto_flow": null,
      "grid_auto_rows": null,
      "grid_column": null,
      "grid_gap": null,
      "grid_row": null,
      "grid_template_areas": null,
      "grid_template_columns": null,
      "grid_template_rows": null,
      "height": null,
      "justify_content": null,
      "justify_items": null,
      "left": null,
      "margin": null,
      "max_height": null,
      "max_width": null,
      "min_height": null,
      "min_width": null,
      "object_fit": null,
      "object_position": null,
      "order": null,
      "overflow": null,
      "overflow_x": null,
      "overflow_y": null,
      "padding": null,
      "right": null,
      "top": null,
      "visibility": null,
      "width": null
     }
    },
    "6027ac5479374e578a1f03c606b95ba9": {
     "model_module": "@jupyter-widgets/controls",
     "model_module_version": "1.5.0",
     "model_name": "HTMLModel",
     "state": {
      "_dom_classes": [],
      "_model_module": "@jupyter-widgets/controls",
      "_model_module_version": "1.5.0",
      "_model_name": "HTMLModel",
      "_view_count": null,
      "_view_module": "@jupyter-widgets/controls",
      "_view_module_version": "1.5.0",
      "_view_name": "HTMLView",
      "description": "",
      "description_tooltip": null,
      "layout": "IPY_MODEL_1ff3e6bda64042089c0e56b969f72e5c",
      "placeholder": "​",
      "style": "IPY_MODEL_d293f956f74a491893cfb69d00aed11b",
      "value": ""
     }
    },
    "ce79e63b188440018961293192dca10d": {
     "model_module": "@jupyter-widgets/controls",
     "model_module_version": "1.5.0",
     "model_name": "ProgressStyleModel",
     "state": {
      "_model_module": "@jupyter-widgets/controls",
      "_model_module_version": "1.5.0",
      "_model_name": "ProgressStyleModel",
      "_view_count": null,
      "_view_module": "@jupyter-widgets/base",
      "_view_module_version": "1.2.0",
      "_view_name": "StyleView",
      "bar_color": null,
      "description_width": ""
     }
    },
    "d293f956f74a491893cfb69d00aed11b": {
     "model_module": "@jupyter-widgets/controls",
     "model_module_version": "1.5.0",
     "model_name": "DescriptionStyleModel",
     "state": {
      "_model_module": "@jupyter-widgets/controls",
      "_model_module_version": "1.5.0",
      "_model_name": "DescriptionStyleModel",
      "_view_count": null,
      "_view_module": "@jupyter-widgets/base",
      "_view_module_version": "1.2.0",
      "_view_name": "StyleView",
      "description_width": ""
     }
    },
    "d29dff3d04d24bdab92bb864aeaa2cc1": {
     "model_module": "@jupyter-widgets/controls",
     "model_module_version": "1.5.0",
     "model_name": "HTMLModel",
     "state": {
      "_dom_classes": [],
      "_model_module": "@jupyter-widgets/controls",
      "_model_module_version": "1.5.0",
      "_model_name": "HTMLModel",
      "_view_count": null,
      "_view_module": "@jupyter-widgets/controls",
      "_view_module_version": "1.5.0",
      "_view_name": "HTMLView",
      "description": "",
      "description_tooltip": null,
      "layout": "IPY_MODEL_ed50c8f353de42fd9f16141d0de29011",
      "placeholder": "​",
      "style": "IPY_MODEL_f8d01d4928854b83bd5312c9b5a0937e",
      "value": " 170499072/? [00:11&lt;00:00, 18126678.61it/s]"
     }
    },
    "ed50c8f353de42fd9f16141d0de29011": {
     "model_module": "@jupyter-widgets/base",
     "model_module_version": "1.2.0",
     "model_name": "LayoutModel",
     "state": {
      "_model_module": "@jupyter-widgets/base",
      "_model_module_version": "1.2.0",
      "_model_name": "LayoutModel",
      "_view_count": null,
      "_view_module": "@jupyter-widgets/base",
      "_view_module_version": "1.2.0",
      "_view_name": "LayoutView",
      "align_content": null,
      "align_items": null,
      "align_self": null,
      "border": null,
      "bottom": null,
      "display": null,
      "flex": null,
      "flex_flow": null,
      "grid_area": null,
      "grid_auto_columns": null,
      "grid_auto_flow": null,
      "grid_auto_rows": null,
      "grid_column": null,
      "grid_gap": null,
      "grid_row": null,
      "grid_template_areas": null,
      "grid_template_columns": null,
      "grid_template_rows": null,
      "height": null,
      "justify_content": null,
      "justify_items": null,
      "left": null,
      "margin": null,
      "max_height": null,
      "max_width": null,
      "min_height": null,
      "min_width": null,
      "object_fit": null,
      "object_position": null,
      "order": null,
      "overflow": null,
      "overflow_x": null,
      "overflow_y": null,
      "padding": null,
      "right": null,
      "top": null,
      "visibility": null,
      "width": null
     }
    },
    "f8d01d4928854b83bd5312c9b5a0937e": {
     "model_module": "@jupyter-widgets/controls",
     "model_module_version": "1.5.0",
     "model_name": "DescriptionStyleModel",
     "state": {
      "_model_module": "@jupyter-widgets/controls",
      "_model_module_version": "1.5.0",
      "_model_name": "DescriptionStyleModel",
      "_view_count": null,
      "_view_module": "@jupyter-widgets/base",
      "_view_module_version": "1.2.0",
      "_view_name": "StyleView",
      "description_width": ""
     }
    }
   }
  }
 },
 "nbformat": 4,
 "nbformat_minor": 1
}
